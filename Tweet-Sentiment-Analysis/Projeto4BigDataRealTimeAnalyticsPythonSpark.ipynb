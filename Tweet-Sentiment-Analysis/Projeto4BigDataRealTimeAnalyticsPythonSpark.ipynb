{
 "cells": [
  {
   "cell_type": "markdown",
   "id": "ba75a7b1",
   "metadata": {},
   "source": [
    "# <center>Author: Victor Diallen"
   ]
  },
  {
   "cell_type": "markdown",
   "id": "4fc7c859",
   "metadata": {},
   "source": [
    "# Table of Contents :\n",
    "* [1. Introduction](#section1)\n",
    "* [2. Importing Libraries](#section2)\n",
    "* [3. Loading Datasets](#section3)\n",
    "* [4. Exploratory Analysis](#section4)\n",
    "* [5. Adjusting Dataset for Spark Environment](#section5)\n",
    "* [6. Machine Learning](#section6)"
   ]
  },
  {
   "cell_type": "markdown",
   "id": "d110606e",
   "metadata": {},
   "source": [
    "<a id=\"section1\"></a>\n",
    "# Introduction"
   ]
  },
  {
   "cell_type": "markdown",
   "id": "615aa737",
   "metadata": {},
   "source": [
    "## About Dataset\n",
    "\n",
    "- This dataset contains a collection of tweets with the hashtag #chatgpt. The tweets were scraped from Twitter and cover a range of topics related to the ChatGPT language model.\n",
    "\n",
    "- The dataset provides a glimpse into the online conversation surrounding the ChatGPT language model and can be used for various natural language processing and machine learning tasks, such as sentiment analysis, topic modeling, and more. It allows understanding the community, the level of interest, and the use of chatGPT."
   ]
  },
  {
   "cell_type": "markdown",
   "id": "90d390a4",
   "metadata": {},
   "source": [
    "<a id=\"section2\"></a>\n",
    "# Importing Libraries"
   ]
  },
  {
   "cell_type": "code",
   "execution_count": 1,
   "id": "a5b10d9b",
   "metadata": {},
   "outputs": [
    {
     "name": "stdout",
     "output_type": "stream",
     "text": [
      "Python Version Used in this Jupyter Notebook: 3.9.7\n"
     ]
    }
   ],
   "source": [
    "# Python version used\n",
    "from platform import python_version\n",
    "print('Python Version Used in this Jupyter Notebook:', python_version())"
   ]
  },
  {
   "cell_type": "code",
   "execution_count": 2,
   "id": "da251170",
   "metadata": {},
   "outputs": [
    {
     "name": "stderr",
     "output_type": "stream",
     "text": [
      "Using region Pernambuco server backend.\n",
      "\n"
     ]
    }
   ],
   "source": [
    "# Imports\n",
    "import findspark\n",
    "findspark.init()\n",
    "import pyspark\n",
    "import pandas as pd\n",
    "import numpy as np\n",
    "import seaborn as sns\n",
    "from matplotlib import pyplot as plt\n",
    "from pyspark import SparkConf, SparkContext\n",
    "from pyspark.sql import SparkSession, SQLContext\n",
    "from pyspark.sql.functions import col,isnan, when, count, udf\n",
    "import pyspark.sql.functions as F\n",
    "from pyspark.ml.feature import StopWordsRemover\n",
    "from pyspark.sql.types import *\n",
    "from textblob import TextBlob\n",
    "import translators as ts\n",
    "from pyspark.ml.feature import Tokenizer\n",
    "from pyspark.ml.feature import StopWordsRemover\n",
    "from pyspark.ml.feature import CountVectorizer\n",
    "from pyspark.ml.feature import HashingTF, IDF\n",
    "from pyspark.ml.feature import StringIndexer\n",
    "from pyspark.ml.classification import LogisticRegression\n",
    "from pyspark.ml import Pipeline\n",
    "from pyspark.ml.evaluation import MulticlassClassificationEvaluator\n",
    "from pyspark.ml.feature import NGram, VectorAssembler, StopWordsRemover, HashingTF, IDF, Tokenizer, StringIndexer, NGram, ChiSqSelector, VectorAssembler\n",
    "from pyspark.ml.evaluation import BinaryClassificationEvaluator\n",
    "from pyspark.sql.functions import concat_ws"
   ]
  },
  {
   "cell_type": "code",
   "execution_count": 3,
   "id": "c6b42843",
   "metadata": {},
   "outputs": [
    {
     "name": "stdout",
     "output_type": "stream",
     "text": [
      "Author: Victor Diallen\n",
      "\n",
      "seaborn    : 0.11.2\n",
      "numpy      : 1.21.4\n",
      "translators: 5.8.5\n",
      "pyspark    : 3.3.2\n",
      "findspark  : 2.0.1\n",
      "matplotlib : 3.4.3\n",
      "pandas     : 1.3.4\n",
      "\n"
     ]
    }
   ],
   "source": [
    "# Libraries versions used in this jupyter notebook\n",
    "%reload_ext watermark\n",
    "%watermark -a \"Victor Diallen\" --iversions"
   ]
  },
  {
   "cell_type": "markdown",
   "id": "03571e3c",
   "metadata": {},
   "source": [
    "<a id=\"section3\"></a>\n",
    "# Loading Dataset"
   ]
  },
  {
   "cell_type": "code",
   "execution_count": 4,
   "id": "e117ff7e",
   "metadata": {
    "scrolled": true
   },
   "outputs": [
    {
     "data": {
      "text/html": [
       "<div>\n",
       "<style scoped>\n",
       "    .dataframe tbody tr th:only-of-type {\n",
       "        vertical-align: middle;\n",
       "    }\n",
       "\n",
       "    .dataframe tbody tr th {\n",
       "        vertical-align: top;\n",
       "    }\n",
       "\n",
       "    .dataframe thead th {\n",
       "        text-align: right;\n",
       "    }\n",
       "</style>\n",
       "<table border=\"1\" class=\"dataframe\">\n",
       "  <thead>\n",
       "    <tr style=\"text-align: right;\">\n",
       "      <th></th>\n",
       "      <th>Datetime</th>\n",
       "      <th>Tweet Id</th>\n",
       "      <th>Text</th>\n",
       "      <th>Username</th>\n",
       "      <th>Permalink</th>\n",
       "      <th>User</th>\n",
       "      <th>Outlinks</th>\n",
       "      <th>CountLinks</th>\n",
       "      <th>ReplyCount</th>\n",
       "      <th>RetweetCount</th>\n",
       "      <th>LikeCount</th>\n",
       "      <th>QuoteCount</th>\n",
       "      <th>ConversationId</th>\n",
       "      <th>Language</th>\n",
       "      <th>Source</th>\n",
       "      <th>Media</th>\n",
       "      <th>QuotedTweet</th>\n",
       "      <th>MentionedUsers</th>\n",
       "      <th>hashtag</th>\n",
       "      <th>hastag_counts</th>\n",
       "    </tr>\n",
       "  </thead>\n",
       "  <tbody>\n",
       "    <tr>\n",
       "      <th>0</th>\n",
       "      <td>2023-01-22 13:44:34+00:00</td>\n",
       "      <td>1617156270871699456</td>\n",
       "      <td>ChatGPTで遊ぶの忘れてた！！\\n書類作るコード書いてみてほしいのと、\\nどこまで思考整...</td>\n",
       "      <td>mochico0123</td>\n",
       "      <td>https://twitter.com/mochico0123/status/1617156...</td>\n",
       "      <td>https://twitter.com/mochico0123</td>\n",
       "      <td>NaN</td>\n",
       "      <td>NaN</td>\n",
       "      <td>1</td>\n",
       "      <td>0</td>\n",
       "      <td>5</td>\n",
       "      <td>0</td>\n",
       "      <td>1617156270871699456</td>\n",
       "      <td>ja</td>\n",
       "      <td>&lt;a href=\"http://twitter.com/download/iphone\" r...</td>\n",
       "      <td>NaN</td>\n",
       "      <td>NaN</td>\n",
       "      <td>NaN</td>\n",
       "      <td>[]</td>\n",
       "      <td>0</td>\n",
       "    </tr>\n",
       "    <tr>\n",
       "      <th>1</th>\n",
       "      <td>2023-01-22 13:44:39+00:00</td>\n",
       "      <td>1617156291046133761</td>\n",
       "      <td>@AlexandrovnaIng Prohibition of ChatGPT has be...</td>\n",
       "      <td>Caput_LupinumSG</td>\n",
       "      <td>https://twitter.com/Caput_LupinumSG/status/161...</td>\n",
       "      <td>https://twitter.com/Caput_LupinumSG</td>\n",
       "      <td>NaN</td>\n",
       "      <td>NaN</td>\n",
       "      <td>1</td>\n",
       "      <td>0</td>\n",
       "      <td>5</td>\n",
       "      <td>0</td>\n",
       "      <td>1617148639993806848</td>\n",
       "      <td>en</td>\n",
       "      <td>&lt;a href=\"http://twitter.com/download/iphone\" r...</td>\n",
       "      <td>NaN</td>\n",
       "      <td>NaN</td>\n",
       "      <td>[User(username='AlexandrovnaIng', id=282705900...</td>\n",
       "      <td>[]</td>\n",
       "      <td>0</td>\n",
       "    </tr>\n",
       "    <tr>\n",
       "      <th>2</th>\n",
       "      <td>2023-01-22 13:44:44+00:00</td>\n",
       "      <td>1617156308926349312</td>\n",
       "      <td>Schaut Euch an, was @fobizz @DianaKnodel alles...</td>\n",
       "      <td>ciffi</td>\n",
       "      <td>https://twitter.com/ciffi/status/1617156308926...</td>\n",
       "      <td>https://twitter.com/ciffi</td>\n",
       "      <td>['https://us02web.zoom.us/webinar/register/801...</td>\n",
       "      <td>['https://t.co/DsoeVJrPBp', 'https://t.co/HflT...</td>\n",
       "      <td>0</td>\n",
       "      <td>0</td>\n",
       "      <td>4</td>\n",
       "      <td>0</td>\n",
       "      <td>1617156308926349312</td>\n",
       "      <td>de</td>\n",
       "      <td>&lt;a href=\"http://twitter.com/#!/download/ipad\" ...</td>\n",
       "      <td>[Photo(previewUrl='https://pbs.twimg.com/media...</td>\n",
       "      <td>https://twitter.com/DianaKnodel/status/1617153...</td>\n",
       "      <td>[User(username='fobizz', id=884708145792253952...</td>\n",
       "      <td>['#ChatGPT']</td>\n",
       "      <td>1</td>\n",
       "    </tr>\n",
       "    <tr>\n",
       "      <th>3</th>\n",
       "      <td>2023-01-22 13:44:49+00:00</td>\n",
       "      <td>1617156332297256961</td>\n",
       "      <td>Bow down to chatGPT 🫡..... https://t.co/ENTSzi...</td>\n",
       "      <td>Vishwasrisiri</td>\n",
       "      <td>https://twitter.com/Vishwasrisiri/status/16171...</td>\n",
       "      <td>https://twitter.com/Vishwasrisiri</td>\n",
       "      <td>['https://twitter.com/agadmator/status/1617155...</td>\n",
       "      <td>['https://t.co/ENTSzi2AQ9']</td>\n",
       "      <td>0</td>\n",
       "      <td>0</td>\n",
       "      <td>2</td>\n",
       "      <td>0</td>\n",
       "      <td>1617156332297256961</td>\n",
       "      <td>en</td>\n",
       "      <td>&lt;a href=\"http://twitter.com/download/android\" ...</td>\n",
       "      <td>NaN</td>\n",
       "      <td>https://twitter.com/agadmator/status/161715501...</td>\n",
       "      <td>NaN</td>\n",
       "      <td>[]</td>\n",
       "      <td>0</td>\n",
       "    </tr>\n",
       "    <tr>\n",
       "      <th>4</th>\n",
       "      <td>2023-01-22 13:44:52+00:00</td>\n",
       "      <td>1617156345064570880</td>\n",
       "      <td>Profilinde vatan, Türkiye falan yazan bireyler...</td>\n",
       "      <td>0xGenetikciniz</td>\n",
       "      <td>https://twitter.com/0xGenetikciniz/status/1617...</td>\n",
       "      <td>https://twitter.com/0xGenetikciniz</td>\n",
       "      <td>NaN</td>\n",
       "      <td>NaN</td>\n",
       "      <td>0</td>\n",
       "      <td>0</td>\n",
       "      <td>4</td>\n",
       "      <td>0</td>\n",
       "      <td>1617156345064570880</td>\n",
       "      <td>tr</td>\n",
       "      <td>&lt;a href=\"http://twitter.com/download/iphone\" r...</td>\n",
       "      <td>NaN</td>\n",
       "      <td>NaN</td>\n",
       "      <td>NaN</td>\n",
       "      <td>[]</td>\n",
       "      <td>0</td>\n",
       "    </tr>\n",
       "  </tbody>\n",
       "</table>\n",
       "</div>"
      ],
      "text/plain": [
       "                    Datetime             Tweet Id  \\\n",
       "0  2023-01-22 13:44:34+00:00  1617156270871699456   \n",
       "1  2023-01-22 13:44:39+00:00  1617156291046133761   \n",
       "2  2023-01-22 13:44:44+00:00  1617156308926349312   \n",
       "3  2023-01-22 13:44:49+00:00  1617156332297256961   \n",
       "4  2023-01-22 13:44:52+00:00  1617156345064570880   \n",
       "\n",
       "                                                Text         Username  \\\n",
       "0  ChatGPTで遊ぶの忘れてた！！\\n書類作るコード書いてみてほしいのと、\\nどこまで思考整...      mochico0123   \n",
       "1  @AlexandrovnaIng Prohibition of ChatGPT has be...  Caput_LupinumSG   \n",
       "2  Schaut Euch an, was @fobizz @DianaKnodel alles...            ciffi   \n",
       "3  Bow down to chatGPT 🫡..... https://t.co/ENTSzi...    Vishwasrisiri   \n",
       "4  Profilinde vatan, Türkiye falan yazan bireyler...   0xGenetikciniz   \n",
       "\n",
       "                                           Permalink  \\\n",
       "0  https://twitter.com/mochico0123/status/1617156...   \n",
       "1  https://twitter.com/Caput_LupinumSG/status/161...   \n",
       "2  https://twitter.com/ciffi/status/1617156308926...   \n",
       "3  https://twitter.com/Vishwasrisiri/status/16171...   \n",
       "4  https://twitter.com/0xGenetikciniz/status/1617...   \n",
       "\n",
       "                                  User  \\\n",
       "0      https://twitter.com/mochico0123   \n",
       "1  https://twitter.com/Caput_LupinumSG   \n",
       "2            https://twitter.com/ciffi   \n",
       "3    https://twitter.com/Vishwasrisiri   \n",
       "4   https://twitter.com/0xGenetikciniz   \n",
       "\n",
       "                                            Outlinks  \\\n",
       "0                                                NaN   \n",
       "1                                                NaN   \n",
       "2  ['https://us02web.zoom.us/webinar/register/801...   \n",
       "3  ['https://twitter.com/agadmator/status/1617155...   \n",
       "4                                                NaN   \n",
       "\n",
       "                                          CountLinks  ReplyCount  \\\n",
       "0                                                NaN           1   \n",
       "1                                                NaN           1   \n",
       "2  ['https://t.co/DsoeVJrPBp', 'https://t.co/HflT...           0   \n",
       "3                        ['https://t.co/ENTSzi2AQ9']           0   \n",
       "4                                                NaN           0   \n",
       "\n",
       "   RetweetCount  LikeCount  QuoteCount       ConversationId Language  \\\n",
       "0             0          5           0  1617156270871699456       ja   \n",
       "1             0          5           0  1617148639993806848       en   \n",
       "2             0          4           0  1617156308926349312       de   \n",
       "3             0          2           0  1617156332297256961       en   \n",
       "4             0          4           0  1617156345064570880       tr   \n",
       "\n",
       "                                              Source  \\\n",
       "0  <a href=\"http://twitter.com/download/iphone\" r...   \n",
       "1  <a href=\"http://twitter.com/download/iphone\" r...   \n",
       "2  <a href=\"http://twitter.com/#!/download/ipad\" ...   \n",
       "3  <a href=\"http://twitter.com/download/android\" ...   \n",
       "4  <a href=\"http://twitter.com/download/iphone\" r...   \n",
       "\n",
       "                                               Media  \\\n",
       "0                                                NaN   \n",
       "1                                                NaN   \n",
       "2  [Photo(previewUrl='https://pbs.twimg.com/media...   \n",
       "3                                                NaN   \n",
       "4                                                NaN   \n",
       "\n",
       "                                         QuotedTweet  \\\n",
       "0                                                NaN   \n",
       "1                                                NaN   \n",
       "2  https://twitter.com/DianaKnodel/status/1617153...   \n",
       "3  https://twitter.com/agadmator/status/161715501...   \n",
       "4                                                NaN   \n",
       "\n",
       "                                      MentionedUsers       hashtag  \\\n",
       "0                                                NaN            []   \n",
       "1  [User(username='AlexandrovnaIng', id=282705900...            []   \n",
       "2  [User(username='fobizz', id=884708145792253952...  ['#ChatGPT']   \n",
       "3                                                NaN            []   \n",
       "4                                                NaN            []   \n",
       "\n",
       "   hastag_counts  \n",
       "0              0  \n",
       "1              0  \n",
       "2              1  \n",
       "3              0  \n",
       "4              0  "
      ]
     },
     "execution_count": 4,
     "metadata": {},
     "output_type": "execute_result"
    }
   ],
   "source": [
    "df = pd.read_csv('chatgpt1.csv', header=0)\n",
    "df.head(5)"
   ]
  },
  {
   "cell_type": "code",
   "execution_count": 5,
   "id": "6376e524",
   "metadata": {},
   "outputs": [
    {
     "data": {
      "text/plain": [
       "Datetime              0\n",
       "Tweet Id              0\n",
       "Text                  0\n",
       "Username              0\n",
       "Permalink             0\n",
       "User                  0\n",
       "Outlinks          30059\n",
       "CountLinks        30059\n",
       "ReplyCount            0\n",
       "RetweetCount          0\n",
       "LikeCount             0\n",
       "QuoteCount            0\n",
       "ConversationId        0\n",
       "Language              0\n",
       "Source                0\n",
       "Media             40499\n",
       "QuotedTweet       46438\n",
       "MentionedUsers    32832\n",
       "hashtag               0\n",
       "hastag_counts         0\n",
       "dtype: int64"
      ]
     },
     "execution_count": 5,
     "metadata": {},
     "output_type": "execute_result"
    }
   ],
   "source": [
    "df.isna().sum()"
   ]
  },
  {
   "cell_type": "markdown",
   "id": "e540f8d8",
   "metadata": {},
   "source": [
    "## Preprocessing Data"
   ]
  },
  {
   "cell_type": "code",
   "execution_count": 6,
   "id": "7ceca4d5",
   "metadata": {},
   "outputs": [],
   "source": [
    "df = df.drop(['Outlinks', 'CountLinks', 'Media', 'QuotedTweet', 'MentionedUsers', 'Permalink', 'User', 'QuoteCount', 'ConversationId', 'Source', 'hashtag', 'hastag_counts'], axis=1)"
   ]
  },
  {
   "cell_type": "code",
   "execution_count": 7,
   "id": "e4d10744",
   "metadata": {},
   "outputs": [
    {
     "data": {
      "text/html": [
       "<div>\n",
       "<style scoped>\n",
       "    .dataframe tbody tr th:only-of-type {\n",
       "        vertical-align: middle;\n",
       "    }\n",
       "\n",
       "    .dataframe tbody tr th {\n",
       "        vertical-align: top;\n",
       "    }\n",
       "\n",
       "    .dataframe thead th {\n",
       "        text-align: right;\n",
       "    }\n",
       "</style>\n",
       "<table border=\"1\" class=\"dataframe\">\n",
       "  <thead>\n",
       "    <tr style=\"text-align: right;\">\n",
       "      <th></th>\n",
       "      <th>Datetime</th>\n",
       "      <th>Tweet Id</th>\n",
       "      <th>Text</th>\n",
       "      <th>Username</th>\n",
       "      <th>ReplyCount</th>\n",
       "      <th>RetweetCount</th>\n",
       "      <th>LikeCount</th>\n",
       "      <th>Language</th>\n",
       "    </tr>\n",
       "  </thead>\n",
       "  <tbody>\n",
       "    <tr>\n",
       "      <th>0</th>\n",
       "      <td>2023-01-22 13:44:34+00:00</td>\n",
       "      <td>1617156270871699456</td>\n",
       "      <td>ChatGPTで遊ぶの忘れてた！！\\n書類作るコード書いてみてほしいのと、\\nどこまで思考整...</td>\n",
       "      <td>mochico0123</td>\n",
       "      <td>1</td>\n",
       "      <td>0</td>\n",
       "      <td>5</td>\n",
       "      <td>ja</td>\n",
       "    </tr>\n",
       "    <tr>\n",
       "      <th>1</th>\n",
       "      <td>2023-01-22 13:44:39+00:00</td>\n",
       "      <td>1617156291046133761</td>\n",
       "      <td>@AlexandrovnaIng Prohibition of ChatGPT has be...</td>\n",
       "      <td>Caput_LupinumSG</td>\n",
       "      <td>1</td>\n",
       "      <td>0</td>\n",
       "      <td>5</td>\n",
       "      <td>en</td>\n",
       "    </tr>\n",
       "    <tr>\n",
       "      <th>2</th>\n",
       "      <td>2023-01-22 13:44:44+00:00</td>\n",
       "      <td>1617156308926349312</td>\n",
       "      <td>Schaut Euch an, was @fobizz @DianaKnodel alles...</td>\n",
       "      <td>ciffi</td>\n",
       "      <td>0</td>\n",
       "      <td>0</td>\n",
       "      <td>4</td>\n",
       "      <td>de</td>\n",
       "    </tr>\n",
       "    <tr>\n",
       "      <th>3</th>\n",
       "      <td>2023-01-22 13:44:49+00:00</td>\n",
       "      <td>1617156332297256961</td>\n",
       "      <td>Bow down to chatGPT 🫡..... https://t.co/ENTSzi...</td>\n",
       "      <td>Vishwasrisiri</td>\n",
       "      <td>0</td>\n",
       "      <td>0</td>\n",
       "      <td>2</td>\n",
       "      <td>en</td>\n",
       "    </tr>\n",
       "    <tr>\n",
       "      <th>4</th>\n",
       "      <td>2023-01-22 13:44:52+00:00</td>\n",
       "      <td>1617156345064570880</td>\n",
       "      <td>Profilinde vatan, Türkiye falan yazan bireyler...</td>\n",
       "      <td>0xGenetikciniz</td>\n",
       "      <td>0</td>\n",
       "      <td>0</td>\n",
       "      <td>4</td>\n",
       "      <td>tr</td>\n",
       "    </tr>\n",
       "  </tbody>\n",
       "</table>\n",
       "</div>"
      ],
      "text/plain": [
       "                    Datetime             Tweet Id  \\\n",
       "0  2023-01-22 13:44:34+00:00  1617156270871699456   \n",
       "1  2023-01-22 13:44:39+00:00  1617156291046133761   \n",
       "2  2023-01-22 13:44:44+00:00  1617156308926349312   \n",
       "3  2023-01-22 13:44:49+00:00  1617156332297256961   \n",
       "4  2023-01-22 13:44:52+00:00  1617156345064570880   \n",
       "\n",
       "                                                Text         Username  \\\n",
       "0  ChatGPTで遊ぶの忘れてた！！\\n書類作るコード書いてみてほしいのと、\\nどこまで思考整...      mochico0123   \n",
       "1  @AlexandrovnaIng Prohibition of ChatGPT has be...  Caput_LupinumSG   \n",
       "2  Schaut Euch an, was @fobizz @DianaKnodel alles...            ciffi   \n",
       "3  Bow down to chatGPT 🫡..... https://t.co/ENTSzi...    Vishwasrisiri   \n",
       "4  Profilinde vatan, Türkiye falan yazan bireyler...   0xGenetikciniz   \n",
       "\n",
       "   ReplyCount  RetweetCount  LikeCount Language  \n",
       "0           1             0          5       ja  \n",
       "1           1             0          5       en  \n",
       "2           0             0          4       de  \n",
       "3           0             0          2       en  \n",
       "4           0             0          4       tr  "
      ]
     },
     "execution_count": 7,
     "metadata": {},
     "output_type": "execute_result"
    }
   ],
   "source": [
    "df.head(5)"
   ]
  },
  {
   "cell_type": "code",
   "execution_count": 8,
   "id": "6deab595",
   "metadata": {},
   "outputs": [
    {
     "name": "stdout",
     "output_type": "stream",
     "text": [
      "<class 'pandas.core.frame.DataFrame'>\n",
      "RangeIndex: 50001 entries, 0 to 50000\n",
      "Data columns (total 8 columns):\n",
      " #   Column        Non-Null Count  Dtype \n",
      "---  ------        --------------  ----- \n",
      " 0   Datetime      50001 non-null  object\n",
      " 1   Tweet Id      50001 non-null  int64 \n",
      " 2   Text          50001 non-null  object\n",
      " 3   Username      50001 non-null  object\n",
      " 4   ReplyCount    50001 non-null  int64 \n",
      " 5   RetweetCount  50001 non-null  int64 \n",
      " 6   LikeCount     50001 non-null  int64 \n",
      " 7   Language      50001 non-null  object\n",
      "dtypes: int64(4), object(4)\n",
      "memory usage: 3.1+ MB\n"
     ]
    }
   ],
   "source": [
    "df.info()"
   ]
  },
  {
   "cell_type": "code",
   "execution_count": 9,
   "id": "b54f5cd3",
   "metadata": {},
   "outputs": [],
   "source": [
    "df['Tweet Id'] = df['Tweet Id'].apply(str)"
   ]
  },
  {
   "cell_type": "code",
   "execution_count": 10,
   "id": "33ea693f",
   "metadata": {},
   "outputs": [],
   "source": [
    "df = df.rename(columns={'Tweet Id': 'Tweet_Id'})"
   ]
  },
  {
   "cell_type": "code",
   "execution_count": 11,
   "id": "6f3cc03d",
   "metadata": {},
   "outputs": [],
   "source": [
    "df['Date'] = pd.to_datetime(df['Datetime'], format='%Y-%m-%d').dt.date"
   ]
  },
  {
   "cell_type": "code",
   "execution_count": 12,
   "id": "dc984e6d",
   "metadata": {},
   "outputs": [],
   "source": [
    "df['Month'] = pd.to_datetime(df['Date']).dt.strftime('%m')"
   ]
  },
  {
   "cell_type": "code",
   "execution_count": 13,
   "id": "7a1e12e4",
   "metadata": {
    "scrolled": true
   },
   "outputs": [
    {
     "data": {
      "text/html": [
       "<div>\n",
       "<style scoped>\n",
       "    .dataframe tbody tr th:only-of-type {\n",
       "        vertical-align: middle;\n",
       "    }\n",
       "\n",
       "    .dataframe tbody tr th {\n",
       "        vertical-align: top;\n",
       "    }\n",
       "\n",
       "    .dataframe thead th {\n",
       "        text-align: right;\n",
       "    }\n",
       "</style>\n",
       "<table border=\"1\" class=\"dataframe\">\n",
       "  <thead>\n",
       "    <tr style=\"text-align: right;\">\n",
       "      <th></th>\n",
       "      <th>Datetime</th>\n",
       "      <th>Tweet_Id</th>\n",
       "      <th>Text</th>\n",
       "      <th>Username</th>\n",
       "      <th>ReplyCount</th>\n",
       "      <th>RetweetCount</th>\n",
       "      <th>LikeCount</th>\n",
       "      <th>Language</th>\n",
       "      <th>Date</th>\n",
       "      <th>Month</th>\n",
       "    </tr>\n",
       "  </thead>\n",
       "  <tbody>\n",
       "    <tr>\n",
       "      <th>0</th>\n",
       "      <td>2023-01-22 13:44:34+00:00</td>\n",
       "      <td>1617156270871699456</td>\n",
       "      <td>ChatGPTで遊ぶの忘れてた！！\\n書類作るコード書いてみてほしいのと、\\nどこまで思考整...</td>\n",
       "      <td>mochico0123</td>\n",
       "      <td>1</td>\n",
       "      <td>0</td>\n",
       "      <td>5</td>\n",
       "      <td>ja</td>\n",
       "      <td>2023-01-22</td>\n",
       "      <td>01</td>\n",
       "    </tr>\n",
       "    <tr>\n",
       "      <th>1</th>\n",
       "      <td>2023-01-22 13:44:39+00:00</td>\n",
       "      <td>1617156291046133761</td>\n",
       "      <td>@AlexandrovnaIng Prohibition of ChatGPT has be...</td>\n",
       "      <td>Caput_LupinumSG</td>\n",
       "      <td>1</td>\n",
       "      <td>0</td>\n",
       "      <td>5</td>\n",
       "      <td>en</td>\n",
       "      <td>2023-01-22</td>\n",
       "      <td>01</td>\n",
       "    </tr>\n",
       "    <tr>\n",
       "      <th>2</th>\n",
       "      <td>2023-01-22 13:44:44+00:00</td>\n",
       "      <td>1617156308926349312</td>\n",
       "      <td>Schaut Euch an, was @fobizz @DianaKnodel alles...</td>\n",
       "      <td>ciffi</td>\n",
       "      <td>0</td>\n",
       "      <td>0</td>\n",
       "      <td>4</td>\n",
       "      <td>de</td>\n",
       "      <td>2023-01-22</td>\n",
       "      <td>01</td>\n",
       "    </tr>\n",
       "    <tr>\n",
       "      <th>3</th>\n",
       "      <td>2023-01-22 13:44:49+00:00</td>\n",
       "      <td>1617156332297256961</td>\n",
       "      <td>Bow down to chatGPT 🫡..... https://t.co/ENTSzi...</td>\n",
       "      <td>Vishwasrisiri</td>\n",
       "      <td>0</td>\n",
       "      <td>0</td>\n",
       "      <td>2</td>\n",
       "      <td>en</td>\n",
       "      <td>2023-01-22</td>\n",
       "      <td>01</td>\n",
       "    </tr>\n",
       "    <tr>\n",
       "      <th>4</th>\n",
       "      <td>2023-01-22 13:44:52+00:00</td>\n",
       "      <td>1617156345064570880</td>\n",
       "      <td>Profilinde vatan, Türkiye falan yazan bireyler...</td>\n",
       "      <td>0xGenetikciniz</td>\n",
       "      <td>0</td>\n",
       "      <td>0</td>\n",
       "      <td>4</td>\n",
       "      <td>tr</td>\n",
       "      <td>2023-01-22</td>\n",
       "      <td>01</td>\n",
       "    </tr>\n",
       "  </tbody>\n",
       "</table>\n",
       "</div>"
      ],
      "text/plain": [
       "                    Datetime             Tweet_Id  \\\n",
       "0  2023-01-22 13:44:34+00:00  1617156270871699456   \n",
       "1  2023-01-22 13:44:39+00:00  1617156291046133761   \n",
       "2  2023-01-22 13:44:44+00:00  1617156308926349312   \n",
       "3  2023-01-22 13:44:49+00:00  1617156332297256961   \n",
       "4  2023-01-22 13:44:52+00:00  1617156345064570880   \n",
       "\n",
       "                                                Text         Username  \\\n",
       "0  ChatGPTで遊ぶの忘れてた！！\\n書類作るコード書いてみてほしいのと、\\nどこまで思考整...      mochico0123   \n",
       "1  @AlexandrovnaIng Prohibition of ChatGPT has be...  Caput_LupinumSG   \n",
       "2  Schaut Euch an, was @fobizz @DianaKnodel alles...            ciffi   \n",
       "3  Bow down to chatGPT 🫡..... https://t.co/ENTSzi...    Vishwasrisiri   \n",
       "4  Profilinde vatan, Türkiye falan yazan bireyler...   0xGenetikciniz   \n",
       "\n",
       "   ReplyCount  RetweetCount  LikeCount Language        Date Month  \n",
       "0           1             0          5       ja  2023-01-22    01  \n",
       "1           1             0          5       en  2023-01-22    01  \n",
       "2           0             0          4       de  2023-01-22    01  \n",
       "3           0             0          2       en  2023-01-22    01  \n",
       "4           0             0          4       tr  2023-01-22    01  "
      ]
     },
     "execution_count": 13,
     "metadata": {},
     "output_type": "execute_result"
    }
   ],
   "source": [
    "df.head(5)"
   ]
  },
  {
   "cell_type": "markdown",
   "id": "278ca67a",
   "metadata": {},
   "source": [
    "<a id=\"section4\"></a>\n",
    "# Exploratory Analysis"
   ]
  },
  {
   "cell_type": "code",
   "execution_count": 14,
   "id": "1f10c602",
   "metadata": {
    "execution": {
     "iopub.execute_input": "2023-02-25T08:09:32.194421Z",
     "iopub.status.busy": "2023-02-25T08:09:32.194042Z",
     "iopub.status.idle": "2023-02-25T08:09:32.205925Z",
     "shell.execute_reply": "2023-02-25T08:09:32.204970Z",
     "shell.execute_reply.started": "2023-02-25T08:09:32.194372Z"
    }
   },
   "outputs": [
    {
     "data": {
      "text/plain": [
       "(50001, 10)"
      ]
     },
     "execution_count": 14,
     "metadata": {},
     "output_type": "execute_result"
    }
   ],
   "source": [
    "df.shape"
   ]
  },
  {
   "cell_type": "code",
   "execution_count": 15,
   "id": "acdb39da",
   "metadata": {
    "execution": {
     "iopub.execute_input": "2023-02-25T08:09:32.207884Z",
     "iopub.status.busy": "2023-02-25T08:09:32.207492Z",
     "iopub.status.idle": "2023-02-25T08:09:32.220841Z",
     "shell.execute_reply": "2023-02-25T08:09:32.219620Z",
     "shell.execute_reply.started": "2023-02-25T08:09:32.207849Z"
    }
   },
   "outputs": [
    {
     "data": {
      "text/plain": [
       "Index(['Datetime', 'Tweet_Id', 'Text', 'Username', 'ReplyCount',\n",
       "       'RetweetCount', 'LikeCount', 'Language', 'Date', 'Month'],\n",
       "      dtype='object')"
      ]
     },
     "execution_count": 15,
     "metadata": {},
     "output_type": "execute_result"
    }
   ],
   "source": [
    "df.columns"
   ]
  },
  {
   "cell_type": "code",
   "execution_count": 16,
   "id": "93fd6477",
   "metadata": {
    "execution": {
     "iopub.execute_input": "2023-02-25T08:09:32.435794Z",
     "iopub.status.busy": "2023-02-25T08:09:32.435187Z",
     "iopub.status.idle": "2023-02-25T08:09:32.488630Z",
     "shell.execute_reply": "2023-02-25T08:09:32.487299Z",
     "shell.execute_reply.started": "2023-02-25T08:09:32.435742Z"
    }
   },
   "outputs": [
    {
     "data": {
      "text/plain": [
       "Datetime        0\n",
       "Tweet_Id        0\n",
       "Text            0\n",
       "Username        0\n",
       "ReplyCount      0\n",
       "RetweetCount    0\n",
       "LikeCount       0\n",
       "Language        0\n",
       "Date            0\n",
       "Month           0\n",
       "dtype: int64"
      ]
     },
     "execution_count": 16,
     "metadata": {},
     "output_type": "execute_result"
    }
   ],
   "source": [
    "df.isna().sum()"
   ]
  },
  {
   "cell_type": "code",
   "execution_count": 17,
   "id": "d8030d97",
   "metadata": {
    "execution": {
     "iopub.execute_input": "2023-02-25T08:09:32.491871Z",
     "iopub.status.busy": "2023-02-25T08:09:32.490888Z",
     "iopub.status.idle": "2023-02-25T08:09:32.548783Z",
     "shell.execute_reply": "2023-02-25T08:09:32.547492Z",
     "shell.execute_reply.started": "2023-02-25T08:09:32.491808Z"
    }
   },
   "outputs": [
    {
     "name": "stdout",
     "output_type": "stream",
     "text": [
      "<class 'pandas.core.frame.DataFrame'>\n",
      "RangeIndex: 50001 entries, 0 to 50000\n",
      "Data columns (total 10 columns):\n",
      " #   Column        Non-Null Count  Dtype \n",
      "---  ------        --------------  ----- \n",
      " 0   Datetime      50001 non-null  object\n",
      " 1   Tweet_Id      50001 non-null  object\n",
      " 2   Text          50001 non-null  object\n",
      " 3   Username      50001 non-null  object\n",
      " 4   ReplyCount    50001 non-null  int64 \n",
      " 5   RetweetCount  50001 non-null  int64 \n",
      " 6   LikeCount     50001 non-null  int64 \n",
      " 7   Language      50001 non-null  object\n",
      " 8   Date          50001 non-null  object\n",
      " 9   Month         50001 non-null  object\n",
      "dtypes: int64(3), object(7)\n",
      "memory usage: 3.8+ MB\n"
     ]
    }
   ],
   "source": [
    "df.info()"
   ]
  },
  {
   "cell_type": "code",
   "execution_count": 18,
   "id": "d9dcaadf",
   "metadata": {
    "execution": {
     "iopub.execute_input": "2023-02-25T08:09:32.599077Z",
     "iopub.status.busy": "2023-02-25T08:09:32.598718Z",
     "iopub.status.idle": "2023-02-25T08:09:32.767979Z",
     "shell.execute_reply": "2023-02-25T08:09:32.766752Z",
     "shell.execute_reply.started": "2023-02-25T08:09:32.599041Z"
    },
    "scrolled": true
   },
   "outputs": [
    {
     "data": {
      "text/plain": [
       "Datetime        41559\n",
       "Tweet_Id        50001\n",
       "Text            49555\n",
       "Username        38433\n",
       "ReplyCount        108\n",
       "RetweetCount      138\n",
       "LikeCount         366\n",
       "Language           61\n",
       "Date                3\n",
       "Month               1\n",
       "dtype: int64"
      ]
     },
     "execution_count": 18,
     "metadata": {},
     "output_type": "execute_result"
    }
   ],
   "source": [
    "df.nunique()"
   ]
  },
  {
   "cell_type": "markdown",
   "id": "64c0bce3",
   "metadata": {},
   "source": [
    "# Data Analysis"
   ]
  },
  {
   "cell_type": "code",
   "execution_count": 19,
   "id": "5c0cc762",
   "metadata": {
    "execution": {
     "iopub.execute_input": "2023-02-25T08:09:33.216217Z",
     "iopub.status.busy": "2023-02-25T08:09:33.215686Z",
     "iopub.status.idle": "2023-02-25T08:09:33.237054Z",
     "shell.execute_reply": "2023-02-25T08:09:33.235707Z",
     "shell.execute_reply.started": "2023-02-25T08:09:33.216170Z"
    }
   },
   "outputs": [
    {
     "data": {
      "text/plain": [
       "array(['mochico0123', 'Caput_LupinumSG', 'ciffi', ..., 'marcopiccinini',\n",
       "       'EuniceNyandat', 'AmericoSD_69'], dtype=object)"
      ]
     },
     "execution_count": 19,
     "metadata": {},
     "output_type": "execute_result"
    }
   ],
   "source": [
    "df['Username'].unique()"
   ]
  },
  {
   "cell_type": "code",
   "execution_count": 20,
   "id": "a7ea10e8",
   "metadata": {
    "execution": {
     "iopub.execute_input": "2023-02-25T08:09:33.239455Z",
     "iopub.status.busy": "2023-02-25T08:09:33.239020Z",
     "iopub.status.idle": "2023-02-25T08:09:33.272726Z",
     "shell.execute_reply": "2023-02-25T08:09:33.271548Z",
     "shell.execute_reply.started": "2023-02-25T08:09:33.239417Z"
    }
   },
   "outputs": [
    {
     "data": {
      "text/plain": [
       "translation_ja    60\n",
       "SaveToNotion      47\n",
       "trandanhmmo       44\n",
       "richardkimphd     43\n",
       "VeilleCyber3      38\n",
       "                  ..\n",
       "masayume_32        1\n",
       "WRoughSketch       1\n",
       "ayazfarooqui       1\n",
       "Technology_GD      1\n",
       "AmericoSD_69       1\n",
       "Name: Username, Length: 38433, dtype: int64"
      ]
     },
     "execution_count": 20,
     "metadata": {},
     "output_type": "execute_result"
    }
   ],
   "source": [
    "df['Username'].value_counts()"
   ]
  },
  {
   "cell_type": "code",
   "execution_count": 21,
   "id": "154ca424",
   "metadata": {
    "execution": {
     "iopub.execute_input": "2023-02-25T08:12:54.007276Z",
     "iopub.status.busy": "2023-02-25T08:12:54.006820Z",
     "iopub.status.idle": "2023-02-25T08:12:54.537854Z",
     "shell.execute_reply": "2023-02-25T08:12:54.536729Z",
     "shell.execute_reply.started": "2023-02-25T08:12:54.007237Z"
    }
   },
   "outputs": [
    {
     "data": {
      "image/png": "[encoded data removed]",
      "text/plain": [
       "<Figure size 1080x432 with 1 Axes>"
      ]
     },
     "metadata": {
      "needs_background": "light"
     },
     "output_type": "display_data"
    }
   ],
   "source": [
    "plt.figure(figsize=(15,6))\n",
    "sns.countplot(data=df, x='Username', order=df[\"Username\"].value_counts().index[:20])\n",
    "plt.xticks(rotation=45)\n",
    "plt.show()"
   ]
  },
  {
   "cell_type": "code",
   "execution_count": 22,
   "id": "6139ed90",
   "metadata": {
    "execution": {
     "iopub.execute_input": "2023-02-25T08:17:31.875398Z",
     "iopub.status.busy": "2023-02-25T08:17:31.874924Z",
     "iopub.status.idle": "2023-02-25T08:17:31.884874Z",
     "shell.execute_reply": "2023-02-25T08:17:31.883514Z",
     "shell.execute_reply.started": "2023-02-25T08:17:31.875357Z"
    },
    "scrolled": true
   },
   "outputs": [
    {
     "data": {
      "text/plain": [
       "array([   1,    0,   23,    4,   37,    2,    3,  209,  149,  126,   17,\n",
       "         22,    5,   54,   34,   21,   13, 3098,   69, 1421,   10,    8,\n",
       "          6,    9,    7,   43,   15,   11,   12,  111,   29,  164,  286,\n",
       "         28,   20,  496,   14,   31,   40,   47,  374,   33,  338,   26,\n",
       "        100,   39,   18,   59,  154,   16,   55,  114,  476,   44,   24,\n",
       "        119,   99,   42,   36,   27,   68,   92,  159,   19,   88,   35,\n",
       "        446,   52,   45,  147,  106,  166,   32,   89,  165,   50,  130,\n",
       "         51,   95, 1455, 3044,   96,  490,  194,   48,   74,  248,   72,\n",
       "         80,   57,   25,   93,   38, 1110,  161,  183,   41,  135,   79,\n",
       "        103,   71,   49,   30,   63,  176,   67,  777,  331], dtype=int64)"
      ]
     },
     "execution_count": 22,
     "metadata": {},
     "output_type": "execute_result"
    }
   ],
   "source": [
    "df['ReplyCount'].unique()"
   ]
  },
  {
   "cell_type": "code",
   "execution_count": 23,
   "id": "e285047d",
   "metadata": {
    "execution": {
     "iopub.execute_input": "2023-02-25T08:17:48.998267Z",
     "iopub.status.busy": "2023-02-25T08:17:48.997839Z",
     "iopub.status.idle": "2023-02-25T08:17:49.010308Z",
     "shell.execute_reply": "2023-02-25T08:17:49.008605Z",
     "shell.execute_reply.started": "2023-02-25T08:17:48.998228Z"
    }
   },
   "outputs": [
    {
     "data": {
      "text/plain": [
       "0      36736\n",
       "1       9430\n",
       "2       1801\n",
       "3        653\n",
       "4        333\n",
       "       ...  \n",
       "45         1\n",
       "147        1\n",
       "106        1\n",
       "166        1\n",
       "331        1\n",
       "Name: ReplyCount, Length: 108, dtype: int64"
      ]
     },
     "execution_count": 23,
     "metadata": {},
     "output_type": "execute_result"
    }
   ],
   "source": [
    "df['ReplyCount'].value_counts()"
   ]
  },
  {
   "cell_type": "code",
   "execution_count": 24,
   "id": "fd4c6027",
   "metadata": {
    "execution": {
     "iopub.execute_input": "2023-02-25T08:18:48.944320Z",
     "iopub.status.busy": "2023-02-25T08:18:48.943862Z",
     "iopub.status.idle": "2023-02-25T08:18:49.203745Z",
     "shell.execute_reply": "2023-02-25T08:18:49.202200Z",
     "shell.execute_reply.started": "2023-02-25T08:18:48.944274Z"
    }
   },
   "outputs": [
    {
     "data": {
      "image/png": "[encoded data removed]",
      "text/plain": [
       "<Figure size 1080x432 with 1 Axes>"
      ]
     },
     "metadata": {
      "needs_background": "light"
     },
     "output_type": "display_data"
    }
   ],
   "source": [
    "plt.figure(figsize=(15,6))\n",
    "sns.countplot(data=df, x='ReplyCount', order=df[\"ReplyCount\"].value_counts().index[:5])\n",
    "plt.xticks(rotation=0)\n",
    "plt.show()"
   ]
  },
  {
   "cell_type": "code",
   "execution_count": 25,
   "id": "60c53c32",
   "metadata": {
    "execution": {
     "iopub.execute_input": "2023-02-25T08:19:43.493328Z",
     "iopub.status.busy": "2023-02-25T08:19:43.492945Z",
     "iopub.status.idle": "2023-02-25T08:19:43.502312Z",
     "shell.execute_reply": "2023-02-25T08:19:43.501171Z",
     "shell.execute_reply.started": "2023-02-25T08:19:43.493292Z"
    }
   },
   "outputs": [
    {
     "data": {
      "text/plain": [
       "array([   0,    1,    5,    6,  542,   40,   49,   18,    3,    2,   16,\n",
       "          4,  112,   39,   36, 1094,   12, 6815,   10,   20,    7,   58,\n",
       "         23,   11,   15,   45,   37,    8,   31,   19,  160,   27,    9,\n",
       "         38,   34,   14,  125,   17,   74,  461,   68,   26,   13, 2627,\n",
       "         47,   53,   88,   21,   25,  221,  334,   50,   30,   22,  252,\n",
       "         33,  713,  597,   76,   43,   28,  227, 1732,   66,   98,  136,\n",
       "         92,  114,  730,   64,   24,  202, 1874,   67,   29,  186,  118,\n",
       "         97,   52,  108, 2463,   59,   32,   93,   35,   56,  564, 3987,\n",
       "        170,   55,  257, 1307,   95,   62,   44,   57,   89,   54,   83,\n",
       "        222,  337,  236,  376,  121, 1533,  458,   78,   61,   51, 2203,\n",
       "         70,  428,   42,  140,   46, 1534,  164,  162,  213,  139,  289,\n",
       "       1113,   48,  418,  206,  107,  148,   99,  516,   41,  452,  630,\n",
       "        176,   79,   69,  679, 2082,  248], dtype=int64)"
      ]
     },
     "execution_count": 25,
     "metadata": {},
     "output_type": "execute_result"
    }
   ],
   "source": [
    "df['RetweetCount'].unique()"
   ]
  },
  {
   "cell_type": "code",
   "execution_count": 26,
   "id": "eee9f7e3",
   "metadata": {
    "execution": {
     "iopub.execute_input": "2023-02-25T08:19:57.204133Z",
     "iopub.status.busy": "2023-02-25T08:19:57.203724Z",
     "iopub.status.idle": "2023-02-25T08:19:57.227454Z",
     "shell.execute_reply": "2023-02-25T08:19:57.226079Z",
     "shell.execute_reply.started": "2023-02-25T08:19:57.204100Z"
    }
   },
   "outputs": [
    {
     "data": {
      "text/plain": [
       "0      42416\n",
       "1       3925\n",
       "2       1204\n",
       "3        620\n",
       "4        365\n",
       "       ...  \n",
       "221        1\n",
       "222        1\n",
       "337        1\n",
       "236        1\n",
       "248        1\n",
       "Name: RetweetCount, Length: 138, dtype: int64"
      ]
     },
     "execution_count": 26,
     "metadata": {},
     "output_type": "execute_result"
    }
   ],
   "source": [
    "df['RetweetCount'].value_counts()"
   ]
  },
  {
   "cell_type": "code",
   "execution_count": 27,
   "id": "8a957e66",
   "metadata": {
    "execution": {
     "iopub.execute_input": "2023-02-25T08:22:23.125035Z",
     "iopub.status.busy": "2023-02-25T08:22:23.124617Z",
     "iopub.status.idle": "2023-02-25T08:22:23.801473Z",
     "shell.execute_reply": "2023-02-25T08:22:23.800160Z",
     "shell.execute_reply.started": "2023-02-25T08:22:23.124998Z"
    }
   },
   "outputs": [
    {
     "data": {
      "image/png": "[encoded data removed]",
      "text/plain": [
       "<Figure size 1080x432 with 1 Axes>"
      ]
     },
     "metadata": {
      "needs_background": "light"
     },
     "output_type": "display_data"
    }
   ],
   "source": [
    "plt.figure(figsize=(15,6))\n",
    "sns.countplot(data=df, x='RetweetCount', order=df[\"RetweetCount\"].value_counts().index[:5])\n",
    "plt.xticks(rotation=0)\n",
    "plt.show()"
   ]
  },
  {
   "cell_type": "code",
   "execution_count": 28,
   "id": "72e88717",
   "metadata": {
    "execution": {
     "iopub.execute_input": "2023-02-25T08:21:15.317488Z",
     "iopub.status.busy": "2023-02-25T08:21:15.317058Z",
     "iopub.status.idle": "2023-02-25T08:21:15.328871Z",
     "shell.execute_reply": "2023-02-25T08:21:15.327368Z",
     "shell.execute_reply.started": "2023-02-25T08:21:15.317448Z"
    }
   },
   "outputs": [
    {
     "data": {
      "text/plain": [
       "array([    5,     4,     2,     1,     0,     3,    66,    20,  9125,\n",
       "           7,   348,   607,    11,     9,   404,     8,     6,    68,\n",
       "         329,    10,    17,    15,  1905,   211,    16,    22,    14,\n",
       "         381,    13,  5682,    42,   190,    57, 56073,    26,    38,\n",
       "          30,    97,    24,    19,    12,    50,    18,    29,    51,\n",
       "          33,    41,    55,    44,   663,    75,    54,    39,    21,\n",
       "          37,   252,    40,    47,   390,    87,   177,    23,    84,\n",
       "          28,    31,   131,   251,    86,  1055,   171,    65,   144,\n",
       "          58,   111,    71,    74,   127,    36,    32,   234,   654,\n",
       "         222,   711,  3952,    43,    46,   273,   168,   349,   239,\n",
       "         118,   112,    64,    27,   228,    25,    56,   186,    93,\n",
       "       12557,   733,    98,    61,    35,   100,   147,   322,    49,\n",
       "         383,   189,    67,    45,    34,   135,   132,   113,    76,\n",
       "         759,   165,   164,    48,    72,   220,   107,  1608,  2250,\n",
       "         302,    73,   149,   289,    82,   429,   108,   834,   106,\n",
       "         114,    62,   176,   123,   858,    90,   128,   185,    91,\n",
       "        4413,  9677,   368,    59,   415,   104,   334,   103,    92,\n",
       "          94,   297,   121,    88,   208,   236,   153,    70,  1466,\n",
       "          69,    60,   102,  9946,    53,   262,    85,  1182,   279,\n",
       "         187,   162,    78,    77,   443,   284,   116,   673,   589,\n",
       "         701,   110,   274,    89,   254,   355,   109,   122,    52,\n",
       "        1732,  6979,   292,   140,   326,   226,   130,   247,   859,\n",
       "         372, 16856,   835,   115,   138,    81,   708,   642,   160,\n",
       "         338,   174,   503,   396,    63,   656,   481,   169,   126,\n",
       "         154,   117,   196,  1239,   419,   311, 10153,   191,   137,\n",
       "         161,   276,   492,   242,   202,   347,    83,   214,  2297,\n",
       "       17150,   158,   505,   324,  1238,  1517,  5513,   151,   200,\n",
       "         178,   789,   767,   125,    96,   167,   163,   248,   134,\n",
       "         188,   263,   235,    79,   458,    99,   430,   343,   150,\n",
       "         166,   210,  1213,  1707,   277,   124,   215,   245,   152,\n",
       "         218,  2353,   143,  3529,   170,   339,   244,   342,   954,\n",
       "          80,   509,   206,   270,   173, 11520,   373,   394,   253,\n",
       "         139,   209,   728,  1189,   386,   133,  1082,   497,   360,\n",
       "         267,   105,  5911,   364,  1077,   384,   194,   213,  1935,\n",
       "         643,   316,   421,   225,   385,   588,   233,   148,   318,\n",
       "         354,   195,  1850,   616,   303,  3732,  2712,  1199,   641,\n",
       "        4643,   451,   203,   644,  2770,   320,  2223,   181,  3915,\n",
       "         327,   129,   145,   249,   436,   480,   119,   455,   101,\n",
       "         752,   180,   309,  1118,   428,   238,   490,   281,   156,\n",
       "        4492,   280,   219,    95,   374,   136,   282,   216, 12158,\n",
       "         217,  2184,   506,   142,   398,   424], dtype=int64)"
      ]
     },
     "execution_count": 28,
     "metadata": {},
     "output_type": "execute_result"
    }
   ],
   "source": [
    "df['LikeCount'].unique()"
   ]
  },
  {
   "cell_type": "code",
   "execution_count": 29,
   "id": "2e525288",
   "metadata": {
    "execution": {
     "iopub.execute_input": "2023-02-25T08:21:30.569781Z",
     "iopub.status.busy": "2023-02-25T08:21:30.569300Z",
     "iopub.status.idle": "2023-02-25T08:21:30.579898Z",
     "shell.execute_reply": "2023-02-25T08:21:30.578550Z",
     "shell.execute_reply.started": "2023-02-25T08:21:30.569739Z"
    }
   },
   "outputs": [
    {
     "data": {
      "text/plain": [
       "0      27141\n",
       "1       9490\n",
       "2       3873\n",
       "3       2086\n",
       "4       1241\n",
       "       ...  \n",
       "242        1\n",
       "202        1\n",
       "347        1\n",
       "404        1\n",
       "424        1\n",
       "Name: LikeCount, Length: 366, dtype: int64"
      ]
     },
     "execution_count": 29,
     "metadata": {},
     "output_type": "execute_result"
    }
   ],
   "source": [
    "df['LikeCount'].value_counts()"
   ]
  },
  {
   "cell_type": "code",
   "execution_count": 30,
   "id": "109557cc",
   "metadata": {
    "execution": {
     "iopub.execute_input": "2023-02-25T08:22:00.858192Z",
     "iopub.status.busy": "2023-02-25T08:22:00.857281Z",
     "iopub.status.idle": "2023-02-25T08:22:01.135108Z",
     "shell.execute_reply": "2023-02-25T08:22:01.133842Z",
     "shell.execute_reply.started": "2023-02-25T08:22:00.858137Z"
    }
   },
   "outputs": [
    {
     "data": {
      "image/png": "[encoded data removed]",
      "text/plain": [
       "<Figure size 1080x432 with 1 Axes>"
      ]
     },
     "metadata": {
      "needs_background": "light"
     },
     "output_type": "display_data"
    }
   ],
   "source": [
    "plt.figure(figsize=(15,6))\n",
    "sns.countplot(data=df, x='LikeCount', order=df[\"LikeCount\"].value_counts().index[:10])\n",
    "plt.xticks(rotation=0)\n",
    "plt.show()"
   ]
  },
  {
   "cell_type": "code",
   "execution_count": 31,
   "id": "816ef7e4",
   "metadata": {
    "execution": {
     "iopub.execute_input": "2023-02-25T08:24:33.628380Z",
     "iopub.status.busy": "2023-02-25T08:24:33.627964Z",
     "iopub.status.idle": "2023-02-25T08:24:33.640234Z",
     "shell.execute_reply": "2023-02-25T08:24:33.638582Z",
     "shell.execute_reply.started": "2023-02-25T08:24:33.628338Z"
    }
   },
   "outputs": [
    {
     "data": {
      "text/plain": [
       "array(['ja', 'en', 'de', 'tr', 'pl', 'fr', 'es', 'pt', 'lo', 'no', 'ca',\n",
       "       'zh', 'qme', 'th', 'ne', 'ko', 'und', 'nl', 'fa', 'it', 'da', 'fi',\n",
       "       'eu', 'hi', 'ar', 'sv', 'in', 'ru', 'qht', 'tl', 'hu', 'cs', 'uk',\n",
       "       'iw', 'et', 'cy', 'bg', 'ht', 'el', 'vi', 'sl', 'kn', 'ro', 'lt',\n",
       "       'ur', 'zxx', 'ml', 'mr', 'lv', 'gu', 'qam', 'is', 'ta', 'te', 'pa',\n",
       "       'sd', 'am', 'sr', 'hy', 'or', 'bn'], dtype=object)"
      ]
     },
     "execution_count": 31,
     "metadata": {},
     "output_type": "execute_result"
    }
   ],
   "source": [
    "df['Language'].unique()"
   ]
  },
  {
   "cell_type": "code",
   "execution_count": 32,
   "id": "5f008670",
   "metadata": {
    "execution": {
     "iopub.execute_input": "2023-02-25T08:24:47.533969Z",
     "iopub.status.busy": "2023-02-25T08:24:47.532804Z",
     "iopub.status.idle": "2023-02-25T08:24:47.548430Z",
     "shell.execute_reply": "2023-02-25T08:24:47.546920Z",
     "shell.execute_reply.started": "2023-02-25T08:24:47.533919Z"
    }
   },
   "outputs": [
    {
     "data": {
      "text/plain": [
       "en    32076\n",
       "ja     5046\n",
       "es     3315\n",
       "fr     2492\n",
       "de     1207\n",
       "      ...  \n",
       "sd        1\n",
       "am        1\n",
       "hy        1\n",
       "or        1\n",
       "bn        1\n",
       "Name: Language, Length: 61, dtype: int64"
      ]
     },
     "execution_count": 32,
     "metadata": {},
     "output_type": "execute_result"
    }
   ],
   "source": [
    "df['Language'].value_counts()"
   ]
  },
  {
   "cell_type": "code",
   "execution_count": 33,
   "id": "d7ef20af",
   "metadata": {
    "execution": {
     "iopub.execute_input": "2023-02-25T08:25:24.284664Z",
     "iopub.status.busy": "2023-02-25T08:25:24.284158Z",
     "iopub.status.idle": "2023-02-25T08:25:24.582896Z",
     "shell.execute_reply": "2023-02-25T08:25:24.581589Z",
     "shell.execute_reply.started": "2023-02-25T08:25:24.284608Z"
    }
   },
   "outputs": [
    {
     "data": {
      "image/png": "[encoded data removed]",
      "text/plain": [
       "<Figure size 1080x432 with 1 Axes>"
      ]
     },
     "metadata": {
      "needs_background": "light"
     },
     "output_type": "display_data"
    }
   ],
   "source": [
    "plt.figure(figsize=(15,6))\n",
    "sns.countplot(data=df, x='Language', order=df[\"Language\"].value_counts().index[:10])\n",
    "plt.show()"
   ]
  },
  {
   "cell_type": "code",
   "execution_count": 34,
   "id": "bcdfb300",
   "metadata": {},
   "outputs": [
    {
     "data": {
      "text/plain": [
       "Index(['Datetime', 'Tweet_Id', 'Text', 'Username', 'ReplyCount',\n",
       "       'RetweetCount', 'LikeCount', 'Language', 'Date', 'Month'],\n",
       "      dtype='object')"
      ]
     },
     "execution_count": 34,
     "metadata": {},
     "output_type": "execute_result"
    }
   ],
   "source": [
    "df.columns"
   ]
  },
  {
   "cell_type": "markdown",
   "id": "b3871ff4",
   "metadata": {},
   "source": [
    "<a id=\"section5\"></a>\n",
    "# Adjusting Dataset for Spark Environment"
   ]
  },
  {
   "cell_type": "code",
   "execution_count": 35,
   "id": "c2b53715",
   "metadata": {},
   "outputs": [],
   "source": [
    "# Keeping only rows that are in english since TextBlob has problems to analyze non-english text.\n",
    "# English texts are about 65% of all data, this will be enough for this project.\n",
    "# If you wish, it is possible to translate the non english tweet using the Translators library,\n",
    "# But two problems with this is: 1- It will raise an error for many requests if data is too big,\n",
    "# 2- You can try to solve this problem by adding sleep_seconds in the parameters, but doing so, it will take too long to complete\n",
    "# I'll leave an example of the code below of how to translate the whole column to english\n",
    "# df['Text_Translated']=df['Text'].apply(lambda x: ts.translate_text(x, to_language='en', sleep_seconds=5))\n",
    "\n",
    "\n",
    "df_reduced = df[df['Language'] == 'en']"
   ]
  },
  {
   "cell_type": "code",
   "execution_count": 36,
   "id": "025e2390",
   "metadata": {},
   "outputs": [],
   "source": [
    "df_reduced = df_reduced.drop(['Datetime', 'Username', 'ReplyCount', 'RetweetCount', 'LikeCount', 'Language', 'Date', 'Month' ], axis=1)"
   ]
  },
  {
   "cell_type": "code",
   "execution_count": 37,
   "id": "53a3db31",
   "metadata": {},
   "outputs": [],
   "source": [
    "df_reduced.to_csv('chatGPTforSpark.csv', index=None)"
   ]
  },
  {
   "cell_type": "markdown",
   "id": "4170c58d",
   "metadata": {},
   "source": [
    "## Creating Spark Environment"
   ]
  },
  {
   "cell_type": "code",
   "execution_count": 38,
   "id": "8b60bc13",
   "metadata": {
    "id": "BQTuvaMhKkrK"
   },
   "outputs": [],
   "source": [
    "# Creating Spark Context\n",
    "sc = SparkContext(appName = \"Twitter-ChatGPT-SentimentAnalysis\")"
   ]
  },
  {
   "cell_type": "code",
   "execution_count": 39,
   "id": "e5698b7b",
   "metadata": {},
   "outputs": [],
   "source": [
    "# Creating Spark Session\n",
    "spark_session = SparkSession.Builder().getOrCreate()"
   ]
  },
  {
   "cell_type": "code",
   "execution_count": 40,
   "id": "15f4541d",
   "metadata": {
    "colab": {
     "base_uri": "https://localhost:8080/",
     "height": 219
    },
    "id": "Ec8oNb8qK6Pm",
    "outputId": "1653edd4-1ee3-41fa-d53c-6fe717b0aac5"
   },
   "outputs": [
    {
     "data": {
      "text/html": [
       "\n",
       "            <div>\n",
       "                <p><b>SparkSession - in-memory</b></p>\n",
       "                \n",
       "        <div>\n",
       "            <p><b>SparkContext</b></p>\n",
       "\n",
       "            <p><a href=\"http://JVPC:4041\">Spark UI</a></p>\n",
       "\n",
       "            <dl>\n",
       "              <dt>Version</dt>\n",
       "                <dd><code>v3.3.2</code></dd>\n",
       "              <dt>Master</dt>\n",
       "                <dd><code>local[*]</code></dd>\n",
       "              <dt>AppName</dt>\n",
       "                <dd><code>Twitter-ChatGPT-SentimentAnalysis</code></dd>\n",
       "            </dl>\n",
       "        </div>\n",
       "        \n",
       "            </div>\n",
       "        "
      ],
      "text/plain": [
       "<pyspark.sql.session.SparkSession at 0x18e5ee6e6d0>"
      ]
     },
     "execution_count": 40,
     "metadata": {},
     "output_type": "execute_result"
    }
   ],
   "source": [
    "# Visualizes spark_session object\n",
    "spark_session"
   ]
  },
  {
   "cell_type": "code",
   "execution_count": 41,
   "id": "9b61695d",
   "metadata": {},
   "outputs": [],
   "source": [
    "schema = StructType([ \\\n",
    "    StructField(\"Tweet_Id\",StringType(),False), \\\n",
    "    StructField(\"Text\",StringType(),False) \\\n",
    "  ])"
   ]
  },
  {
   "cell_type": "code",
   "execution_count": 42,
   "id": "7cd35820",
   "metadata": {},
   "outputs": [],
   "source": [
    "df_spark=(spark_session.read\n",
    "          .option(\"header\",\"true\")\n",
    "          .option(\"multiline\", \"true\")\n",
    "          .option(\"schema\", \"schema\")\n",
    "          .option('escape', \"\\\"\")\n",
    "          .csv('chatGPTforSpark.csv')\n",
    ")"
   ]
  },
  {
   "cell_type": "code",
   "execution_count": 43,
   "id": "f4f8fea3",
   "metadata": {
    "scrolled": true
   },
   "outputs": [
    {
     "data": {
      "text/plain": [
       "pyspark.sql.dataframe.DataFrame"
      ]
     },
     "execution_count": 43,
     "metadata": {},
     "output_type": "execute_result"
    }
   ],
   "source": [
    "# Object type\n",
    "type(df_spark)"
   ]
  },
  {
   "cell_type": "code",
   "execution_count": 44,
   "id": "e9bebcf0",
   "metadata": {},
   "outputs": [
    {
     "name": "stdout",
     "output_type": "stream",
     "text": [
      "+-------------------+--------------------+\n",
      "|           Tweet_Id|                Text|\n",
      "+-------------------+--------------------+\n",
      "|1617156291046133761|@AlexandrovnaIng ...|\n",
      "|1617156332297256961|Bow down to chatG...|\n",
      "|1617156389217894400|ChatGPT runs 10K ...|\n",
      "|1617156393898745858|@SWENGDAD There i...|\n",
      "|1617156404137295878|I created a ficti...|\n",
      "+-------------------+--------------------+\n",
      "only showing top 5 rows\n",
      "\n"
     ]
    }
   ],
   "source": [
    "df_spark.show(5)"
   ]
  },
  {
   "cell_type": "code",
   "execution_count": 45,
   "id": "3c1c32df",
   "metadata": {
    "colab": {
     "base_uri": "https://localhost:8080/"
    },
    "id": "lLR1WMTfO42i",
    "outputId": "e98a0c8d-550b-46af-eb84-9670cec7fd14",
    "scrolled": true
   },
   "outputs": [
    {
     "name": "stdout",
     "output_type": "stream",
     "text": [
      "root\n",
      " |-- Tweet_Id: string (nullable = true)\n",
      " |-- Text: string (nullable = true)\n",
      "\n"
     ]
    }
   ],
   "source": [
    "# Visualize metadata (schema)\n",
    "df_spark.printSchema()"
   ]
  },
  {
   "cell_type": "code",
   "execution_count": 46,
   "id": "bba4a2fd",
   "metadata": {},
   "outputs": [
    {
     "name": "stdout",
     "output_type": "stream",
     "text": [
      "(32076, 2)\n"
     ]
    }
   ],
   "source": [
    "print((df_spark.count(), len(df_spark.columns)))"
   ]
  },
  {
   "cell_type": "code",
   "execution_count": 47,
   "id": "4454bfec",
   "metadata": {
    "scrolled": true
   },
   "outputs": [
    {
     "name": "stdout",
     "output_type": "stream",
     "text": [
      "+-------------------+--------------------+\n",
      "|           Tweet_Id|                Text|\n",
      "+-------------------+--------------------+\n",
      "|1617156291046133761|alexandrovnaing p...|\n",
      "|1617156332297256961| bow down to chatgpt|\n",
      "|1617156389217894400|chatgpt runs k nv...|\n",
      "|1617156393898745858|swengdad there is...|\n",
      "|1617156404137295878|i created a ficti...|\n",
      "+-------------------+--------------------+\n",
      "only showing top 5 rows\n",
      "\n"
     ]
    }
   ],
   "source": [
    "# Remove URLs \n",
    "# Remove special characters\n",
    "# Substituting multiple spaces with single space\n",
    "# Lowercase all text\n",
    "# Trim the leading/trailing whitespaces\n",
    "\n",
    "df_spark_clean = (df_spark.withColumn('Text', F.regexp_replace('Text', r\"http\\S+\", \"\"))\n",
    "                   .withColumn('Text', F.regexp_replace('Text', r\"[^a-zA-z]\", \" \")) \n",
    "                   .withColumn('Text', F.regexp_replace('Text', r\"\\s+\", \" \")) \n",
    "                   .withColumn('Text', F.lower('Text'))\n",
    "                   .withColumn('Text', F.trim('Text')))\n",
    "df_spark_clean.show(5)"
   ]
  },
  {
   "cell_type": "code",
   "execution_count": 48,
   "id": "7bb52e11",
   "metadata": {
    "application/vnd.databricks.v1+cell": {
     "inputWidgets": {},
     "nuid": "5f98668f-c86d-4a32-a1f1-fc663f81888e",
     "showTitle": false,
     "title": ""
    }
   },
   "outputs": [],
   "source": [
    "def get_sentiment(text):\n",
    "    blob = TextBlob(text)\n",
    "    sentiment = blob.sentiment.polarity\n",
    "    if sentiment > 0:\n",
    "        return 'positive'\n",
    "    elif sentiment < 0:\n",
    "        return 'negative'\n",
    "    else:\n",
    "        return 'neutral'    "
   ]
  },
  {
   "cell_type": "code",
   "execution_count": 49,
   "id": "4c17f525",
   "metadata": {
    "application/vnd.databricks.v1+cell": {
     "inputWidgets": {},
     "nuid": "af7dec46-961c-4cf4-8c47-26ccfdd62b63",
     "showTitle": false,
     "title": ""
    }
   },
   "outputs": [],
   "source": [
    "sentiment_label_udf = udf(lambda x: get_sentiment(x))"
   ]
  },
  {
   "cell_type": "code",
   "execution_count": 50,
   "id": "1985dde2",
   "metadata": {},
   "outputs": [],
   "source": [
    "df_spark_clean_labeled = df_spark_clean.select(col(\"*\"), sentiment_label_udf(\"Text\").alias(\"Tweet_Sentiment_Label\"))"
   ]
  },
  {
   "cell_type": "code",
   "execution_count": 51,
   "id": "08d9a309",
   "metadata": {},
   "outputs": [
    {
     "name": "stdout",
     "output_type": "stream",
     "text": [
      "+-------------------+--------------------+---------------------+\n",
      "|           Tweet_Id|                Text|Tweet_Sentiment_Label|\n",
      "+-------------------+--------------------+---------------------+\n",
      "|1617156291046133761|alexandrovnaing p...|              neutral|\n",
      "|1617156332297256961| bow down to chatgpt|             negative|\n",
      "|1617156389217894400|chatgpt runs k nv...|             positive|\n",
      "|1617156393898745858|swengdad there is...|             negative|\n",
      "|1617156404137295878|i created a ficti...|              neutral|\n",
      "+-------------------+--------------------+---------------------+\n",
      "only showing top 5 rows\n",
      "\n"
     ]
    }
   ],
   "source": [
    "df_spark_clean_labeled.show(5)"
   ]
  },
  {
   "cell_type": "code",
   "execution_count": 52,
   "id": "943f64bf",
   "metadata": {},
   "outputs": [],
   "source": [
    "df_spark_clean_labeled.toPandas().to_csv('chatGPTFinal.csv', index=None)"
   ]
  },
  {
   "cell_type": "code",
   "execution_count": 53,
   "id": "1d930d57",
   "metadata": {},
   "outputs": [],
   "source": [
    "df_final = pd.read_csv(\"chatGPTFinal.csv\")"
   ]
  },
  {
   "cell_type": "code",
   "execution_count": 54,
   "id": "ade6e505",
   "metadata": {},
   "outputs": [
    {
     "data": {
      "text/html": [
       "<div>\n",
       "<style scoped>\n",
       "    .dataframe tbody tr th:only-of-type {\n",
       "        vertical-align: middle;\n",
       "    }\n",
       "\n",
       "    .dataframe tbody tr th {\n",
       "        vertical-align: top;\n",
       "    }\n",
       "\n",
       "    .dataframe thead th {\n",
       "        text-align: right;\n",
       "    }\n",
       "</style>\n",
       "<table border=\"1\" class=\"dataframe\">\n",
       "  <thead>\n",
       "    <tr style=\"text-align: right;\">\n",
       "      <th></th>\n",
       "      <th>Tweet_Id</th>\n",
       "      <th>Text</th>\n",
       "      <th>Tweet_Sentiment_Label</th>\n",
       "    </tr>\n",
       "  </thead>\n",
       "  <tbody>\n",
       "    <tr>\n",
       "      <th>0</th>\n",
       "      <td>1617156291046133761</td>\n",
       "      <td>alexandrovnaing prohibition of chatgpt has bee...</td>\n",
       "      <td>neutral</td>\n",
       "    </tr>\n",
       "    <tr>\n",
       "      <th>1</th>\n",
       "      <td>1617156332297256961</td>\n",
       "      <td>bow down to chatgpt</td>\n",
       "      <td>negative</td>\n",
       "    </tr>\n",
       "    <tr>\n",
       "      <th>2</th>\n",
       "      <td>1617156389217894400</td>\n",
       "      <td>chatgpt runs k nvidia training gpus with poten...</td>\n",
       "      <td>positive</td>\n",
       "    </tr>\n",
       "    <tr>\n",
       "      <th>3</th>\n",
       "      <td>1617156393898745858</td>\n",
       "      <td>swengdad there is repetitive work in every job...</td>\n",
       "      <td>negative</td>\n",
       "    </tr>\n",
       "    <tr>\n",
       "      <th>4</th>\n",
       "      <td>1617156404137295878</td>\n",
       "      <td>i created a fictional jewelry brand using chat...</td>\n",
       "      <td>neutral</td>\n",
       "    </tr>\n",
       "  </tbody>\n",
       "</table>\n",
       "</div>"
      ],
      "text/plain": [
       "              Tweet_Id                                               Text  \\\n",
       "0  1617156291046133761  alexandrovnaing prohibition of chatgpt has bee...   \n",
       "1  1617156332297256961                                bow down to chatgpt   \n",
       "2  1617156389217894400  chatgpt runs k nvidia training gpus with poten...   \n",
       "3  1617156393898745858  swengdad there is repetitive work in every job...   \n",
       "4  1617156404137295878  i created a fictional jewelry brand using chat...   \n",
       "\n",
       "  Tweet_Sentiment_Label  \n",
       "0               neutral  \n",
       "1              negative  \n",
       "2              positive  \n",
       "3              negative  \n",
       "4               neutral  "
      ]
     },
     "execution_count": 54,
     "metadata": {},
     "output_type": "execute_result"
    }
   ],
   "source": [
    "df_final.head()"
   ]
  },
  {
   "cell_type": "code",
   "execution_count": 55,
   "id": "28b0661c",
   "metadata": {
    "execution": {
     "iopub.execute_input": "2023-02-25T08:17:31.875398Z",
     "iopub.status.busy": "2023-02-25T08:17:31.874924Z",
     "iopub.status.idle": "2023-02-25T08:17:31.884874Z",
     "shell.execute_reply": "2023-02-25T08:17:31.883514Z",
     "shell.execute_reply.started": "2023-02-25T08:17:31.875357Z"
    },
    "scrolled": true
   },
   "outputs": [
    {
     "data": {
      "text/plain": [
       "array(['neutral', 'negative', 'positive'], dtype=object)"
      ]
     },
     "execution_count": 55,
     "metadata": {},
     "output_type": "execute_result"
    }
   ],
   "source": [
    "df_final['Tweet_Sentiment_Label'].unique()"
   ]
  },
  {
   "cell_type": "code",
   "execution_count": 56,
   "id": "28205a0b",
   "metadata": {
    "execution": {
     "iopub.execute_input": "2023-02-25T08:17:48.998267Z",
     "iopub.status.busy": "2023-02-25T08:17:48.997839Z",
     "iopub.status.idle": "2023-02-25T08:17:49.010308Z",
     "shell.execute_reply": "2023-02-25T08:17:49.008605Z",
     "shell.execute_reply.started": "2023-02-25T08:17:48.998228Z"
    },
    "scrolled": true
   },
   "outputs": [
    {
     "data": {
      "text/plain": [
       "positive    14665\n",
       "neutral     12325\n",
       "negative     5086\n",
       "Name: Tweet_Sentiment_Label, dtype: int64"
      ]
     },
     "execution_count": 56,
     "metadata": {},
     "output_type": "execute_result"
    }
   ],
   "source": [
    "df_final['Tweet_Sentiment_Label'].value_counts()"
   ]
  },
  {
   "cell_type": "code",
   "execution_count": 57,
   "id": "b5b98644",
   "metadata": {
    "execution": {
     "iopub.execute_input": "2023-02-25T08:18:48.944320Z",
     "iopub.status.busy": "2023-02-25T08:18:48.943862Z",
     "iopub.status.idle": "2023-02-25T08:18:49.203745Z",
     "shell.execute_reply": "2023-02-25T08:18:49.202200Z",
     "shell.execute_reply.started": "2023-02-25T08:18:48.944274Z"
    }
   },
   "outputs": [
    {
     "data": {
      "image/png": "[encoded data removed]",
      "text/plain": [
       "<Figure size 1080x432 with 1 Axes>"
      ]
     },
     "metadata": {
      "needs_background": "light"
     },
     "output_type": "display_data"
    }
   ],
   "source": [
    "plt.figure(figsize=(15,6))\n",
    "sns.countplot(data=df_final, x='Tweet_Sentiment_Label', order=df_final[\"Tweet_Sentiment_Label\"].value_counts().index[:5])\n",
    "plt.xticks(rotation=0)\n",
    "plt.show()"
   ]
  },
  {
   "cell_type": "markdown",
   "id": "591f375c",
   "metadata": {},
   "source": [
    "# Conclusion - Pt.1"
   ]
  },
  {
   "cell_type": "markdown",
   "id": "ff0e8b49",
   "metadata": {},
   "source": [
    "### As we can see from the count plot above, the majority of the tweets has either positive connotations, almost three times more than negative ones. Neutral comes in second place."
   ]
  },
  {
   "cell_type": "markdown",
   "id": "45c4143b",
   "metadata": {
    "application/vnd.databricks.v1+cell": {
     "inputWidgets": {},
     "nuid": "fdc77e2c-e9bd-4cf1-948e-c66f713e7c3c",
     "showTitle": false,
     "title": ""
    }
   },
   "source": [
    "<a id=\"section6\"></a>\n",
    "# Machine Learning"
   ]
  },
  {
   "cell_type": "markdown",
   "id": "7658eb50",
   "metadata": {
    "application/vnd.databricks.v1+cell": {
     "inputWidgets": {},
     "nuid": "a88eac1a-0720-48ee-b41c-b4ed6a510ae4",
     "showTitle": false,
     "title": ""
    }
   },
   "source": [
    "#### Feature transformer: Tokenizer"
   ]
  },
  {
   "cell_type": "code",
   "execution_count": 58,
   "id": "c6a4b4d8",
   "metadata": {
    "application/vnd.databricks.v1+cell": {
     "inputWidgets": {},
     "nuid": "fb84a4a4-d18b-4bc1-b985-c024552914de",
     "showTitle": false,
     "title": ""
    }
   },
   "outputs": [],
   "source": [
    "from pyspark.ml.feature import Tokenizer"
   ]
  },
  {
   "cell_type": "code",
   "execution_count": 59,
   "id": "6bab02b4",
   "metadata": {
    "application/vnd.databricks.v1+cell": {
     "inputWidgets": {},
     "nuid": "74a7ce35-f99f-4036-9cd3-16c8e05bb5d8",
     "showTitle": false,
     "title": ""
    }
   },
   "outputs": [
    {
     "name": "stdout",
     "output_type": "stream",
     "text": [
      "+-------------------+--------------------+---------------------+--------------------+\n",
      "|           Tweet_Id|                Text|Tweet_Sentiment_Label|              Tokens|\n",
      "+-------------------+--------------------+---------------------+--------------------+\n",
      "|1617156291046133761|alexandrovnaing p...|              neutral|[alexandrovnaing,...|\n",
      "|1617156332297256961| bow down to chatgpt|             negative|[bow, down, to, c...|\n",
      "|1617156389217894400|chatgpt runs k nv...|             positive|[chatgpt, runs, k...|\n",
      "|1617156393898745858|swengdad there is...|             negative|[swengdad, there,...|\n",
      "|1617156404137295878|i created a ficti...|              neutral|[i, created, a, f...|\n",
      "+-------------------+--------------------+---------------------+--------------------+\n",
      "only showing top 5 rows\n",
      "\n"
     ]
    }
   ],
   "source": [
    "tokenizer = Tokenizer(inputCol=\"Text\", outputCol=\"Tokens\")\n",
    "df_spark_clean_labeled_tokenized = tokenizer.transform(df_spark_clean_labeled)\n",
    "\n",
    "df_spark_clean_labeled_tokenized.show(5)"
   ]
  },
  {
   "cell_type": "markdown",
   "id": "4e34847e",
   "metadata": {
    "application/vnd.databricks.v1+cell": {
     "inputWidgets": {},
     "nuid": "96ea3a2e-694e-46f7-a2b9-db4160939158",
     "showTitle": false,
     "title": ""
    }
   },
   "source": [
    "#### Feature transformer: Stopword removal"
   ]
  },
  {
   "cell_type": "code",
   "execution_count": 60,
   "id": "2c61d65a",
   "metadata": {
    "application/vnd.databricks.v1+cell": {
     "inputWidgets": {},
     "nuid": "3718bfd7-8563-422c-aa28-be4ac8ae6b77",
     "showTitle": false,
     "title": ""
    }
   },
   "outputs": [
    {
     "name": "stdout",
     "output_type": "stream",
     "text": [
      "+-------------------+--------------------+---------------------+--------------------+--------------------+\n",
      "|           Tweet_Id|                Text|Tweet_Sentiment_Label|              Tokens|            Filtered|\n",
      "+-------------------+--------------------+---------------------+--------------------+--------------------+\n",
      "|1617156291046133761|alexandrovnaing p...|              neutral|[alexandrovnaing,...|[alexandrovnaing,...|\n",
      "|1617156332297256961| bow down to chatgpt|             negative|[bow, down, to, c...|      [bow, chatgpt]|\n",
      "|1617156389217894400|chatgpt runs k nv...|             positive|[chatgpt, runs, k...|[chatgpt, runs, k...|\n",
      "|1617156393898745858|swengdad there is...|             negative|[swengdad, there,...|[swengdad, repeti...|\n",
      "|1617156404137295878|i created a ficti...|              neutral|[i, created, a, f...|[created, fiction...|\n",
      "+-------------------+--------------------+---------------------+--------------------+--------------------+\n",
      "only showing top 5 rows\n",
      "\n"
     ]
    }
   ],
   "source": [
    "stopword_remover = StopWordsRemover(inputCol=\"Tokens\", outputCol=\"Filtered\")\n",
    "df_spark_clean_labeled_tokenized_filtered = stopword_remover.transform(df_spark_clean_labeled_tokenized)\n",
    "\n",
    "df_spark_clean_labeled_tokenized_filtered.show(5)"
   ]
  },
  {
   "cell_type": "markdown",
   "id": "7ef82349",
   "metadata": {
    "application/vnd.databricks.v1+cell": {
     "inputWidgets": {},
     "nuid": "86453f65-d4fa-4743-99ab-4ae639f821e0",
     "showTitle": false,
     "title": ""
    }
   },
   "source": [
    "#### Feature transformer: CountVectorizer (TF - Term Frequency)"
   ]
  },
  {
   "cell_type": "code",
   "execution_count": 61,
   "id": "87d7ff54",
   "metadata": {
    "application/vnd.databricks.v1+cell": {
     "inputWidgets": {},
     "nuid": "61d8ee9d-11c3-446e-9429-a7610cd1f419",
     "showTitle": false,
     "title": ""
    }
   },
   "outputs": [
    {
     "name": "stdout",
     "output_type": "stream",
     "text": [
      "+-------------------+--------------------+---------------------+--------------------+--------------------+--------------------+\n",
      "|           Tweet_Id|                Text|Tweet_Sentiment_Label|              Tokens|            Filtered|                  CV|\n",
      "+-------------------+--------------------+---------------------+--------------------+--------------------+--------------------+\n",
      "|1617156291046133761|alexandrovnaing p...|              neutral|[alexandrovnaing,...|[alexandrovnaing,...|(36006,[0,40,112,...|\n",
      "|1617156332297256961| bow down to chatgpt|             negative|[bow, down, to, c...|      [bow, chatgpt]|(36006,[0,7059],[...|\n",
      "|1617156389217894400|chatgpt runs k nv...|             positive|[chatgpt, runs, k...|[chatgpt, runs, k...|(36006,[0,144,331...|\n",
      "|1617156393898745858|swengdad there is...|             negative|[swengdad, there,...|[swengdad, repeti...|(36006,[0,26,109,...|\n",
      "|1617156404137295878|i created a ficti...|              neutral|[i, created, a, f...|[created, fiction...|(36006,[0,9,248,2...|\n",
      "+-------------------+--------------------+---------------------+--------------------+--------------------+--------------------+\n",
      "only showing top 5 rows\n",
      "\n"
     ]
    }
   ],
   "source": [
    "cv = CountVectorizer(vocabSize=2**16, inputCol=\"Filtered\", outputCol='CV')\n",
    "cv_model = cv.fit(df_spark_clean_labeled_tokenized_filtered)\n",
    "df_spark_CV = cv_model.transform(df_spark_clean_labeled_tokenized_filtered)\n",
    "\n",
    "df_spark_CV.show(5)"
   ]
  },
  {
   "cell_type": "markdown",
   "id": "0a975601",
   "metadata": {
    "application/vnd.databricks.v1+cell": {
     "inputWidgets": {},
     "nuid": "b6cb5889-fa11-48f0-96ee-a147c0e88234",
     "showTitle": false,
     "title": ""
    }
   },
   "source": [
    "#### Feature transformer: TF-IDF Vectorization"
   ]
  },
  {
   "cell_type": "code",
   "execution_count": 62,
   "id": "3dff97e4",
   "metadata": {
    "application/vnd.databricks.v1+cell": {
     "inputWidgets": {},
     "nuid": "3461723b-49d3-4d71-8523-91c4b95691ee",
     "showTitle": false,
     "title": ""
    }
   },
   "outputs": [
    {
     "name": "stdout",
     "output_type": "stream",
     "text": [
      "+-------------------+--------------------+---------------------+--------------------+--------------------+--------------------+--------------------+\n",
      "|           Tweet_Id|                Text|Tweet_Sentiment_Label|              Tokens|            Filtered|                  CV|            features|\n",
      "+-------------------+--------------------+---------------------+--------------------+--------------------+--------------------+--------------------+\n",
      "|1617156291046133761|alexandrovnaing p...|              neutral|[alexandrovnaing,...|[alexandrovnaing,...|(36006,[0,40,112,...|(36006,[0,40,112,...|\n",
      "|1617156332297256961| bow down to chatgpt|             negative|[bow, down, to, c...|      [bow, chatgpt]|(36006,[0,7059],[...|(36006,[0,7059],[...|\n",
      "|1617156389217894400|chatgpt runs k nv...|             positive|[chatgpt, runs, k...|[chatgpt, runs, k...|(36006,[0,144,331...|(36006,[0,144,331...|\n",
      "|1617156393898745858|swengdad there is...|             negative|[swengdad, there,...|[swengdad, repeti...|(36006,[0,26,109,...|(36006,[0,26,109,...|\n",
      "|1617156404137295878|i created a ficti...|              neutral|[i, created, a, f...|[created, fiction...|(36006,[0,9,248,2...|(36006,[0,9,248,2...|\n",
      "+-------------------+--------------------+---------------------+--------------------+--------------------+--------------------+--------------------+\n",
      "only showing top 5 rows\n",
      "\n"
     ]
    }
   ],
   "source": [
    "idf = IDF(inputCol='CV', outputCol=\"features\", minDocFreq=5) #minDocFreq: remove sparse terms\n",
    "idf_model = idf.fit(df_spark_CV)\n",
    "df_spark_idf = idf_model.transform(df_spark_CV)\n",
    "\n",
    "df_spark_idf.show(5)"
   ]
  },
  {
   "cell_type": "markdown",
   "id": "e28491ad",
   "metadata": {
    "application/vnd.databricks.v1+cell": {
     "inputWidgets": {},
     "nuid": "38902ac3-767a-4290-af63-faef696201d2",
     "showTitle": false,
     "title": ""
    }
   },
   "source": [
    "#### Label encoder"
   ]
  },
  {
   "cell_type": "code",
   "execution_count": 63,
   "id": "5c22892b",
   "metadata": {
    "application/vnd.databricks.v1+cell": {
     "inputWidgets": {},
     "nuid": "e829c1ad-50c2-4013-90de-ea445710ba35",
     "showTitle": false,
     "title": ""
    }
   },
   "outputs": [
    {
     "name": "stdout",
     "output_type": "stream",
     "text": [
      "+-------------------+--------------------+---------------------+--------------------+--------------------+--------------------+--------------------+-----+\n",
      "|           Tweet_Id|                Text|Tweet_Sentiment_Label|              Tokens|            Filtered|                  CV|            features|label|\n",
      "+-------------------+--------------------+---------------------+--------------------+--------------------+--------------------+--------------------+-----+\n",
      "|1617156291046133761|alexandrovnaing p...|              neutral|[alexandrovnaing,...|[alexandrovnaing,...|(36006,[0,40,112,...|(36006,[0,40,112,...|  1.0|\n",
      "|1617156332297256961| bow down to chatgpt|             negative|[bow, down, to, c...|      [bow, chatgpt]|(36006,[0,7059],[...|(36006,[0,7059],[...|  2.0|\n",
      "|1617156389217894400|chatgpt runs k nv...|             positive|[chatgpt, runs, k...|[chatgpt, runs, k...|(36006,[0,144,331...|(36006,[0,144,331...|  0.0|\n",
      "|1617156393898745858|swengdad there is...|             negative|[swengdad, there,...|[swengdad, repeti...|(36006,[0,26,109,...|(36006,[0,26,109,...|  2.0|\n",
      "|1617156404137295878|i created a ficti...|              neutral|[i, created, a, f...|[created, fiction...|(36006,[0,9,248,2...|(36006,[0,9,248,2...|  1.0|\n",
      "+-------------------+--------------------+---------------------+--------------------+--------------------+--------------------+--------------------+-----+\n",
      "only showing top 5 rows\n",
      "\n"
     ]
    }
   ],
   "source": [
    "label_encoder = StringIndexer(inputCol = \"Tweet_Sentiment_Label\", outputCol = \"label\")\n",
    "le_model = label_encoder.fit(df_spark_idf)\n",
    "df_spark_label = le_model.transform(df_spark_idf)\n",
    "\n",
    "df_spark_label.show(5)"
   ]
  },
  {
   "cell_type": "markdown",
   "id": "dd21e20d",
   "metadata": {
    "application/vnd.databricks.v1+cell": {
     "inputWidgets": {},
     "nuid": "bebb1647-b9f0-4275-aa62-15e415f81552",
     "showTitle": false,
     "title": ""
    }
   },
   "source": [
    "### Model training: Logistic regression classifier"
   ]
  },
  {
   "cell_type": "code",
   "execution_count": 64,
   "id": "c1b1e771",
   "metadata": {
    "application/vnd.databricks.v1+cell": {
     "inputWidgets": {},
     "nuid": "57f44aee-447b-4508-95ed-ec87d4912eb3",
     "showTitle": false,
     "title": ""
    }
   },
   "outputs": [],
   "source": [
    "lr = LogisticRegression(maxIter=100)\n",
    "\n",
    "lr_model = lr.fit(df_spark_label)\n",
    "\n",
    "predictions = lr_model.transform(df_spark_label)"
   ]
  },
  {
   "cell_type": "code",
   "execution_count": 65,
   "id": "7eea935e",
   "metadata": {
    "application/vnd.databricks.v1+cell": {
     "inputWidgets": {},
     "nuid": "1839f623-3dca-4c53-9084-d4aa8ea5cb3c",
     "showTitle": false,
     "title": ""
    }
   },
   "outputs": [
    {
     "name": "stdout",
     "output_type": "stream",
     "text": [
      "+-------------------+--------------------+---------------------+--------------------+--------------------+--------------------+--------------------+-----+--------------------+--------------------+----------+\n",
      "|           Tweet_Id|                Text|Tweet_Sentiment_Label|              Tokens|            Filtered|                  CV|            features|label|       rawPrediction|         probability|prediction|\n",
      "+-------------------+--------------------+---------------------+--------------------+--------------------+--------------------+--------------------+-----+--------------------+--------------------+----------+\n",
      "|1617156291046133761|alexandrovnaing p...|              neutral|[alexandrovnaing,...|[alexandrovnaing,...|(36006,[0,40,112,...|(36006,[0,40,112,...|  1.0|[6.59064993664603...|[2.15330020673735...|       1.0|\n",
      "|1617156332297256961| bow down to chatgpt|             negative|[bow, down, to, c...|      [bow, chatgpt]|(36006,[0,7059],[...|(36006,[0,7059],[...|  2.0|[-3.7844178192002...|[2.09174838294696...|       1.0|\n",
      "|1617156389217894400|chatgpt runs k nv...|             positive|[chatgpt, runs, k...|[chatgpt, runs, k...|(36006,[0,144,331...|(36006,[0,144,331...|  0.0|[33.6745955125637...|[0.99237062555646...|       0.0|\n",
      "|1617156393898745858|swengdad there is...|             negative|[swengdad, there,...|[swengdad, repeti...|(36006,[0,26,109,...|(36006,[0,26,109,...|  2.0|[3.02605297692063...|[4.21446886603170...|       2.0|\n",
      "|1617156404137295878|i created a ficti...|              neutral|[i, created, a, f...|[created, fiction...|(36006,[0,9,248,2...|(36006,[0,9,248,2...|  1.0|[-17.629316238859...|[9.0565327463774E...|       1.0|\n",
      "+-------------------+--------------------+---------------------+--------------------+--------------------+--------------------+--------------------+-----+--------------------+--------------------+----------+\n",
      "only showing top 5 rows\n",
      "\n"
     ]
    }
   ],
   "source": [
    "predictions.show(5)"
   ]
  },
  {
   "cell_type": "markdown",
   "id": "c4df9c6f",
   "metadata": {
    "application/vnd.databricks.v1+cell": {
     "inputWidgets": {},
     "nuid": "cdc6c2ed-f3f8-4f04-8ed4-4b5a90997a4c",
     "showTitle": false,
     "title": ""
    }
   },
   "source": [
    "#### Putting a pipeline together"
   ]
  },
  {
   "cell_type": "code",
   "execution_count": 66,
   "id": "0b295838",
   "metadata": {
    "application/vnd.databricks.v1+cell": {
     "inputWidgets": {},
     "nuid": "f7efa5ea-eecf-4db7-bbef-b17dd29f1939",
     "showTitle": false,
     "title": ""
    }
   },
   "outputs": [
    {
     "name": "stdout",
     "output_type": "stream",
     "text": [
      "Accuracy Score: 0.7844\n",
      "ROC-AUC: 0.7859\n"
     ]
    }
   ],
   "source": [
    "# Splitting data into train and test\n",
    "train, test = df_spark_clean_labeled.randomSplit([0.9, 0.1], seed=1200)\n",
    "\n",
    "# Create transformers for the ML pipeline\n",
    "tokenizer = Tokenizer(inputCol=\"Text\", outputCol=\"Tokens\")\n",
    "stopword_remover = StopWordsRemover(inputCol=\"Tokens\", outputCol=\"Filtered\")\n",
    "cv = CountVectorizer(vocabSize=2**16, inputCol=\"Filtered\", outputCol='CV')\n",
    "idf = IDF(inputCol='CV', outputCol=\"1gram_idf\", minDocFreq=5) #minDocFreq: remove sparse terms\n",
    "assembler = VectorAssembler(inputCols=[\"1gram_idf\"], outputCol=\"features\")\n",
    "label_encoder= StringIndexer(inputCol = \"Tweet_Sentiment_Label\", outputCol = \"label\")\n",
    "lr = LogisticRegression(maxIter=100)\n",
    "pipeline = Pipeline(stages=[tokenizer, stopword_remover, cv, idf, assembler, label_encoder, lr])\n",
    "\n",
    "pipeline_model = pipeline.fit(train)\n",
    "predictions = pipeline_model.transform(test)\n",
    "\n",
    "evaluator = MulticlassClassificationEvaluator(labelCol=\"label\", predictionCol=\"prediction\")\n",
    "accuracy = predictions.filter(predictions.label == predictions.prediction).count() / float(test.count())\n",
    "roc_auc = evaluator.evaluate(predictions)\n",
    "\n",
    "print(\"Accuracy Score: {0:.4f}\".format(accuracy))\n",
    "print(\"ROC-AUC: {0:.4f}\".format(roc_auc))"
   ]
  },
  {
   "cell_type": "markdown",
   "id": "10356394",
   "metadata": {
    "application/vnd.databricks.v1+cell": {
     "inputWidgets": {},
     "nuid": "e3713198-2493-4cba-bb55-b1666c695ebd",
     "showTitle": false,
     "title": ""
    }
   },
   "source": [
    "#### Ngram Features"
   ]
  },
  {
   "cell_type": "code",
   "execution_count": null,
   "id": "bac9e972",
   "metadata": {
    "application/vnd.databricks.v1+cell": {
     "inputWidgets": {},
     "nuid": "2fffface-2e65-4ebd-abd2-2c44b107fee6",
     "showTitle": false,
     "title": ""
    }
   },
   "outputs": [],
   "source": [
    "# Splitting data into train and test\n",
    "train, test = df_spark_clean_labeled.randomSplit([0.9, 0.1], seed=1001)\n",
    "\n",
    "# label\n",
    "label_encoder= StringIndexer(inputCol = \"Tweet_Sentiment_Label\", outputCol = \"label\")\n",
    "\n",
    "# Create transformers for the ML pipeline\n",
    "tokenizer = Tokenizer(inputCol=\"Text\", outputCol=\"Tokens\")\n",
    "stopword_remover = StopWordsRemover(inputCol=\"Tokens\", outputCol=\"Filtered\")\n",
    "cv = CountVectorizer(vocabSize=2**16, inputCol=\"Filtered\", outputCol='CV')\n",
    "idf = IDF(inputCol='CV', outputCol=\"1gram_idf\", minDocFreq=5) #minDocFreq: remove sparse terms\n",
    "ngram = NGram(n=2, inputCol=\"Filtered\", outputCol=\"2gram\")\n",
    "ngram_hashingtf = HashingTF(inputCol=\"2gram\", outputCol=\"2gram_tf\", numFeatures=20000)\n",
    "ngram_idf = IDF(inputCol='2gram_tf', outputCol=\"2gram_idf\", minDocFreq=5) \n",
    "\n",
    "# Assemble all text features\n",
    "assembler = VectorAssembler(inputCols=[\"1gram_idf\", \"2gram_tf\"], outputCol=\"rawFeatures\")\n",
    "\n",
    "# Chi-square variable selection\n",
    "selector = ChiSqSelector(numTopFeatures=2**14,featuresCol='rawFeatures', outputCol=\"features\")\n",
    "\n",
    "# Regression model estimator\n",
    "lr = LogisticRegression(maxIter=100)\n",
    "\n",
    "# Build the pipeline\n",
    "pipeline = Pipeline(stages=[label_encoder, tokenizer, stopword_remover, cv, idf, ngram, ngram_hashingtf, ngram_idf, assembler, selector, lr])\n",
    "\n",
    "# Pipeline model fitting\n",
    "pipeline_model = pipeline.fit(train)\n",
    "predictions = pipeline_model.transform(test)\n",
    "\n",
    "evaluator = MulticlassClassificationEvaluator(labelCol=\"label\", predictionCol=\"prediction\")\n",
    "accuracy = predictions.filter(predictions.label == predictions.prediction).count() / float(test.count())\n",
    "roc_auc = evaluator.evaluate(predictions)\n",
    "\n",
    "print(\"Accuracy Score: {0:.4f}\".format(accuracy))\n",
    "print(\"ROC-AUC: {0:.4f}\".format(roc_auc))"
   ]
  },
  {
   "cell_type": "code",
   "execution_count": null,
   "id": "200ba6d5",
   "metadata": {
    "application/vnd.databricks.v1+cell": {
     "inputWidgets": {},
     "nuid": "38126b31-470c-4710-b68e-c10f9f98b68b",
     "showTitle": false,
     "title": ""
    }
   },
   "outputs": [],
   "source": [
    "predictions.show(5)"
   ]
  },
  {
   "cell_type": "markdown",
   "id": "975b6150",
   "metadata": {},
   "source": [
    "### Creating a prediction subset"
   ]
  },
  {
   "cell_type": "code",
   "execution_count": null,
   "id": "31b62417",
   "metadata": {
    "application/vnd.databricks.v1+cell": {
     "inputWidgets": {},
     "nuid": "140ddbae-a70d-4d2e-b2ce-f6776e91d314",
     "showTitle": false,
     "title": ""
    }
   },
   "outputs": [],
   "source": [
    "predictions_subset = predictions.select(col(\"Text\"), col(\"Tweet_Sentiment_Label\"),\n",
    "                                        concat_ws(\" \", col(\"Tokens\")).alias(\"Tokens\"), \n",
    "                                        concat_ws(\" \", col(\"Filtered\")).alias(\"Filtered\"), col(\"label\"), \n",
    "                                        col(\"prediction\"))\n",
    "\n",
    "display(predictions_subset)"
   ]
  },
  {
   "cell_type": "code",
   "execution_count": null,
   "id": "bfdae3ee",
   "metadata": {
    "application/vnd.databricks.v1+cell": {
     "inputWidgets": {},
     "nuid": "5f01cf79-dd6b-42d8-aa73-6ce3d93a296e",
     "showTitle": false,
     "title": ""
    }
   },
   "outputs": [],
   "source": [
    "def with_column_index(sdf): \n",
    "    new_schema = StructType(sdf.schema.fields + [StructField(\"ColumnIndex\", LongType(), False),])\n",
    "    return sdf.rdd.zipWithIndex().map(lambda row: row[0] + (row[1],)).toDF(schema=new_schema)"
   ]
  },
  {
   "cell_type": "code",
   "execution_count": null,
   "id": "5e9ce146",
   "metadata": {
    "application/vnd.databricks.v1+cell": {
     "inputWidgets": {},
     "nuid": "36c54b5c-2c89-44a6-b94b-c5148438c69b",
     "showTitle": false,
     "title": ""
    }
   },
   "outputs": [],
   "source": [
    "df_spark_index          = with_column_index(df_spark)\n",
    "predictions_subset_index = with_column_index(predictions_subset)"
   ]
  },
  {
   "cell_type": "code",
   "execution_count": null,
   "id": "323f23fa",
   "metadata": {
    "application/vnd.databricks.v1+cell": {
     "inputWidgets": {},
     "nuid": "2c5dd1f7-b17e-49d7-b7b4-cbab81a35553",
     "showTitle": false,
     "title": ""
    }
   },
   "outputs": [],
   "source": [
    "predictions_subset_index = predictions_subset_index.withColumnRenamed(\"Text\",\"Text_clean\")"
   ]
  },
  {
   "cell_type": "code",
   "execution_count": null,
   "id": "2ea4a837",
   "metadata": {
    "application/vnd.databricks.v1+cell": {
     "inputWidgets": {},
     "nuid": "a440e03c-a749-49fa-8a3c-7b71428dbfd7",
     "showTitle": false,
     "title": ""
    }
   },
   "outputs": [],
   "source": [
    "predictions_subset_index = predictions_subset_index.drop(\"Tweet_Sentiment_Label\")"
   ]
  },
  {
   "cell_type": "code",
   "execution_count": null,
   "id": "f3dc1e52",
   "metadata": {
    "application/vnd.databricks.v1+cell": {
     "inputWidgets": {},
     "nuid": "c3adad74-3c14-4452-82f0-b3f07e77de22",
     "showTitle": false,
     "title": ""
    }
   },
   "outputs": [],
   "source": [
    "df_spark_final_predictions_subset = (df_spark_index.join(predictions_subset_index, \\\n",
    "                                     df_spark_index.ColumnIndex == predictions_subset_index.ColumnIndex, \\\n",
    "                                                           'inner').drop(\"ColumnIndex\").drop(\"Text\").drop(\"Tokens\"))"
   ]
  },
  {
   "cell_type": "code",
   "execution_count": null,
   "id": "1401da81",
   "metadata": {},
   "outputs": [],
   "source": [
    "df_spark_final_predictions_subset.show(5)"
   ]
  },
  {
   "cell_type": "markdown",
   "id": "9581b163",
   "metadata": {},
   "source": [
    "# Conclusion - Pt.2"
   ]
  },
  {
   "cell_type": "markdown",
   "id": "86c24080",
   "metadata": {},
   "source": [
    "### From the models used in this project the baseline logistic regression model with 1gram features had a better performance."
   ]
  }
 ],
 "metadata": {
  "kernelspec": {
   "display_name": "Python 3 (ipykernel)",
   "language": "python",
   "name": "python3"
  },
  "language_info": {
   "codemirror_mode": {
    "name": "ipython",
    "version": 3
   },
   "file_extension": ".py",
   "mimetype": "text/x-python",
   "name": "python",
   "nbconvert_exporter": "python",
   "pygments_lexer": "ipython3",
   "version": "3.9.7"
  }
 },
 "nbformat": 4,
 "nbformat_minor": 5
}
