{
 "cells": [
  {
   "cell_type": "markdown",
   "id": "0b71f975",
   "metadata": {},
   "source": [
    "# <center>Author: Victor Diallen"
   ]
  },
  {
   "cell_type": "markdown",
   "id": "4fc7c859",
   "metadata": {},
   "source": [
    "# Table of Contents :\n",
    "* [1. Introduction](#section1)\n",
    "* [2. Importing Libraries](#section2)\n",
    "* [3. Loading Datasets](#section3)\n",
    "* [4. Exploratory Analysis](#section4)"
   ]
  },
  {
   "cell_type": "markdown",
   "id": "d110606e",
   "metadata": {},
   "source": [
    "<a id=\"section1\"></a>\n",
    "# Introduction"
   ]
  },
  {
   "cell_type": "markdown",
   "id": "615aa737",
   "metadata": {},
   "source": [
    "## Data Description\n",
    "\n",
    "- Transport for London produces quarterly reports that provide analysis of incidents on the London bus network"
   ]
  },
  {
   "cell_type": "markdown",
   "id": "7243dc47",
   "metadata": {},
   "source": [
    "## Notes\n",
    "\n",
    "- In the exploratory analysis, both Python and SQL (using Spark) synthax were used"
   ]
  },
  {
   "cell_type": "markdown",
   "id": "00f2627b",
   "metadata": {},
   "source": [
    "<a id=\"section2\"></a>\n",
    "# Importing Libraries"
   ]
  },
  {
   "cell_type": "code",
   "execution_count": 2,
   "id": "9c3cff50",
   "metadata": {},
   "outputs": [
    {
     "name": "stdout",
     "output_type": "stream",
     "text": [
      "Python Version Used in this Jupyter Notebook: 3.9.7\n"
     ]
    }
   ],
   "source": [
    "# Python version used\n",
    "from platform import python_version\n",
    "print('Python Version Used in this Jupyter Notebook:', python_version())"
   ]
  },
  {
   "cell_type": "code",
   "execution_count": 3,
   "id": "761a1b0d",
   "metadata": {},
   "outputs": [],
   "source": [
    "# Imports\n",
    "import numpy as np\n",
    "import pandas as pd\n",
    "import matplotlib.pyplot as plt\n",
    "import seaborn as sns\n",
    "import findspark\n",
    "import pyspark\n",
    "from pyspark import SparkContext\n",
    "from pyspark.sql import SparkSession"
   ]
  },
  {
   "cell_type": "code",
   "execution_count": 4,
   "id": "18f34b89",
   "metadata": {
    "scrolled": true
   },
   "outputs": [
    {
     "name": "stdout",
     "output_type": "stream",
     "text": [
      "Author: Victor Diallen\n",
      "\n",
      "pyspark   : 3.3.2\n",
      "findspark : 2.0.1\n",
      "pandas    : 1.3.4\n",
      "seaborn   : 0.11.2\n",
      "numpy     : 1.21.4\n",
      "matplotlib: 3.4.3\n",
      "\n"
     ]
    }
   ],
   "source": [
    "# Libraries versions used in this jupyter notebook\n",
    "%reload_ext watermark\n",
    "%watermark -a \"Victor Diallen\" --iversions"
   ]
  },
  {
   "cell_type": "markdown",
   "id": "aca644ca",
   "metadata": {},
   "source": [
    "## Building Spark Environment"
   ]
  },
  {
   "cell_type": "code",
   "execution_count": 5,
   "id": "e5a3868f",
   "metadata": {},
   "outputs": [],
   "source": [
    "# Creating Spark Context\n",
    "sc = SparkContext(appName = \"Projeto3PythonSpark\")"
   ]
  },
  {
   "cell_type": "code",
   "execution_count": 6,
   "id": "ffb79127",
   "metadata": {},
   "outputs": [],
   "source": [
    "# Creating sessão\n",
    "spark = SparkSession.builder.getOrCreate()"
   ]
  },
  {
   "cell_type": "code",
   "execution_count": 7,
   "id": "eafdd517",
   "metadata": {
    "scrolled": true
   },
   "outputs": [
    {
     "data": {
      "text/html": [
       "\n",
       "            <div>\n",
       "                <p><b>SparkSession - in-memory</b></p>\n",
       "                \n",
       "        <div>\n",
       "            <p><b>SparkContext</b></p>\n",
       "\n",
       "            <p><a href=\"http://JVPC:4040\">Spark UI</a></p>\n",
       "\n",
       "            <dl>\n",
       "              <dt>Version</dt>\n",
       "                <dd><code>v3.3.2</code></dd>\n",
       "              <dt>Master</dt>\n",
       "                <dd><code>local[*]</code></dd>\n",
       "              <dt>AppName</dt>\n",
       "                <dd><code>Projeto3PythonSpark</code></dd>\n",
       "            </dl>\n",
       "        </div>\n",
       "        \n",
       "            </div>\n",
       "        "
      ],
      "text/plain": [
       "<pyspark.sql.session.SparkSession at 0x1b368032d00>"
      ]
     },
     "execution_count": 7,
     "metadata": {},
     "output_type": "execute_result"
    }
   ],
   "source": [
    "spark"
   ]
  },
  {
   "cell_type": "markdown",
   "id": "2d898f5d",
   "metadata": {},
   "source": [
    "<a id=\"section3\"></a>\n",
    "# Loading Dataset"
   ]
  },
  {
   "cell_type": "code",
   "execution_count": 8,
   "id": "03d960b0",
   "metadata": {},
   "outputs": [],
   "source": [
    "# Loading dataset\n",
    "df = pd.read_csv('TFL-Bus-Safety.csv')"
   ]
  },
  {
   "cell_type": "code",
   "execution_count": 9,
   "id": "4bca26e2",
   "metadata": {
    "scrolled": true
   },
   "outputs": [
    {
     "data": {
      "text/html": [
       "<div>\n",
       "<style scoped>\n",
       "    .dataframe tbody tr th:only-of-type {\n",
       "        vertical-align: middle;\n",
       "    }\n",
       "\n",
       "    .dataframe tbody tr th {\n",
       "        vertical-align: top;\n",
       "    }\n",
       "\n",
       "    .dataframe thead th {\n",
       "        text-align: right;\n",
       "    }\n",
       "</style>\n",
       "<table border=\"1\" class=\"dataframe\">\n",
       "  <thead>\n",
       "    <tr style=\"text-align: right;\">\n",
       "      <th></th>\n",
       "      <th>Year</th>\n",
       "      <th>Date Of Incident</th>\n",
       "      <th>Route</th>\n",
       "      <th>Operator</th>\n",
       "      <th>Group Name</th>\n",
       "      <th>Bus Garage</th>\n",
       "      <th>Borough</th>\n",
       "      <th>Injury Result Description</th>\n",
       "      <th>Incident Event Type</th>\n",
       "      <th>Victim Category</th>\n",
       "      <th>Victims Sex</th>\n",
       "      <th>Victims Age</th>\n",
       "    </tr>\n",
       "  </thead>\n",
       "  <tbody>\n",
       "    <tr>\n",
       "      <th>0</th>\n",
       "      <td>2015</td>\n",
       "      <td>1/1/2015</td>\n",
       "      <td>1</td>\n",
       "      <td>London General</td>\n",
       "      <td>Go-Ahead</td>\n",
       "      <td>Garage Not Available</td>\n",
       "      <td>Southwark</td>\n",
       "      <td>Injuries treated on scene</td>\n",
       "      <td>Onboard Injuries</td>\n",
       "      <td>Passenger</td>\n",
       "      <td>Male</td>\n",
       "      <td>Child</td>\n",
       "    </tr>\n",
       "    <tr>\n",
       "      <th>1</th>\n",
       "      <td>2015</td>\n",
       "      <td>1/1/2015</td>\n",
       "      <td>4</td>\n",
       "      <td>Metroline</td>\n",
       "      <td>Metroline</td>\n",
       "      <td>Garage Not Available</td>\n",
       "      <td>Islington</td>\n",
       "      <td>Injuries treated on scene</td>\n",
       "      <td>Onboard Injuries</td>\n",
       "      <td>Passenger</td>\n",
       "      <td>Male</td>\n",
       "      <td>Unknown</td>\n",
       "    </tr>\n",
       "    <tr>\n",
       "      <th>2</th>\n",
       "      <td>2015</td>\n",
       "      <td>1/1/2015</td>\n",
       "      <td>5</td>\n",
       "      <td>East London</td>\n",
       "      <td>Stagecoach</td>\n",
       "      <td>Garage Not Available</td>\n",
       "      <td>Havering</td>\n",
       "      <td>Taken to Hospital – Reported Serious Injury or...</td>\n",
       "      <td>Onboard Injuries</td>\n",
       "      <td>Passenger</td>\n",
       "      <td>Male</td>\n",
       "      <td>Elderly</td>\n",
       "    </tr>\n",
       "    <tr>\n",
       "      <th>3</th>\n",
       "      <td>2015</td>\n",
       "      <td>1/1/2015</td>\n",
       "      <td>5</td>\n",
       "      <td>East London</td>\n",
       "      <td>Stagecoach</td>\n",
       "      <td>Garage Not Available</td>\n",
       "      <td>None London Borough</td>\n",
       "      <td>Taken to Hospital – Reported Serious Injury or...</td>\n",
       "      <td>Onboard Injuries</td>\n",
       "      <td>Passenger</td>\n",
       "      <td>Male</td>\n",
       "      <td>Elderly</td>\n",
       "    </tr>\n",
       "    <tr>\n",
       "      <th>4</th>\n",
       "      <td>2015</td>\n",
       "      <td>1/1/2015</td>\n",
       "      <td>6</td>\n",
       "      <td>Metroline</td>\n",
       "      <td>Metroline</td>\n",
       "      <td>Garage Not Available</td>\n",
       "      <td>Westminster</td>\n",
       "      <td>Reported Minor Injury - Treated at Hospital</td>\n",
       "      <td>Onboard Injuries</td>\n",
       "      <td>Pedestrian</td>\n",
       "      <td>Female</td>\n",
       "      <td>Elderly</td>\n",
       "    </tr>\n",
       "  </tbody>\n",
       "</table>\n",
       "</div>"
      ],
      "text/plain": [
       "   Year Date Of Incident Route        Operator  Group Name  \\\n",
       "0  2015         1/1/2015     1  London General    Go-Ahead   \n",
       "1  2015         1/1/2015     4       Metroline   Metroline   \n",
       "2  2015         1/1/2015     5     East London  Stagecoach   \n",
       "3  2015         1/1/2015     5     East London  Stagecoach   \n",
       "4  2015         1/1/2015     6       Metroline   Metroline   \n",
       "\n",
       "             Bus Garage              Borough  \\\n",
       "0  Garage Not Available            Southwark   \n",
       "1  Garage Not Available            Islington   \n",
       "2  Garage Not Available             Havering   \n",
       "3  Garage Not Available  None London Borough   \n",
       "4  Garage Not Available          Westminster   \n",
       "\n",
       "                           Injury Result Description Incident Event Type  \\\n",
       "0                          Injuries treated on scene    Onboard Injuries   \n",
       "1                          Injuries treated on scene    Onboard Injuries   \n",
       "2  Taken to Hospital – Reported Serious Injury or...    Onboard Injuries   \n",
       "3  Taken to Hospital – Reported Serious Injury or...    Onboard Injuries   \n",
       "4        Reported Minor Injury - Treated at Hospital    Onboard Injuries   \n",
       "\n",
       "  Victim Category Victims Sex Victims Age  \n",
       "0       Passenger        Male       Child  \n",
       "1       Passenger        Male     Unknown  \n",
       "2       Passenger        Male     Elderly  \n",
       "3       Passenger        Male     Elderly  \n",
       "4      Pedestrian      Female     Elderly  "
      ]
     },
     "execution_count": 9,
     "metadata": {},
     "output_type": "execute_result"
    }
   ],
   "source": [
    "df.head()"
   ]
  },
  {
   "cell_type": "code",
   "execution_count": 10,
   "id": "8da9cbd5",
   "metadata": {
    "scrolled": true
   },
   "outputs": [
    {
     "name": "stdout",
     "output_type": "stream",
     "text": [
      "<class 'pandas.core.frame.DataFrame'>\n",
      "RangeIndex: 23158 entries, 0 to 23157\n",
      "Data columns (total 12 columns):\n",
      " #   Column                     Non-Null Count  Dtype \n",
      "---  ------                     --------------  ----- \n",
      " 0   Year                       23158 non-null  int64 \n",
      " 1   Date Of Incident           23158 non-null  object\n",
      " 2   Route                      23158 non-null  object\n",
      " 3   Operator                   23158 non-null  object\n",
      " 4   Group Name                 23158 non-null  object\n",
      " 5   Bus Garage                 23158 non-null  object\n",
      " 6   Borough                    23158 non-null  object\n",
      " 7   Injury Result Description  23158 non-null  object\n",
      " 8   Incident Event Type        23158 non-null  object\n",
      " 9   Victim Category            23158 non-null  object\n",
      " 10  Victims Sex                23158 non-null  object\n",
      " 11  Victims Age                23158 non-null  object\n",
      "dtypes: int64(1), object(11)\n",
      "memory usage: 2.1+ MB\n"
     ]
    }
   ],
   "source": [
    "df.info()"
   ]
  },
  {
   "cell_type": "code",
   "execution_count": 11,
   "id": "6a9887eb",
   "metadata": {},
   "outputs": [],
   "source": [
    "# Renaming columns\n",
    "columns = ['Year', 'Date_of_Incident', 'Route', 'Operator', 'Group_Name', 'Bus_Garage', 'Borough',\n",
    "          'Injury_Result_Description', 'Incident_Event_Type', 'Victim_Category', 'Victims_Sex', 'Victims_Age']\n",
    "df.columns = columns"
   ]
  },
  {
   "cell_type": "code",
   "execution_count": 12,
   "id": "7117d5a8",
   "metadata": {},
   "outputs": [],
   "source": [
    "# Converting date column to date type in order to extract the month\n",
    "df['Date_of_Incident'] = pd.to_datetime(df['Date_of_Incident'])"
   ]
  },
  {
   "cell_type": "code",
   "execution_count": 13,
   "id": "1171d15d",
   "metadata": {},
   "outputs": [],
   "source": [
    "# Creating another column with month\n",
    "df['Month'] = df['Date_of_Incident'].dt.strftime('%m')"
   ]
  },
  {
   "cell_type": "code",
   "execution_count": 14,
   "id": "e7aeedd5",
   "metadata": {},
   "outputs": [],
   "source": [
    "# Creating another csv file (easier than editing Spark dataframes)\n",
    "df.to_csv('TFL-Bus-Safety-Cols_Edited.csv', index=None)"
   ]
  },
  {
   "cell_type": "code",
   "execution_count": 15,
   "id": "ad816425",
   "metadata": {},
   "outputs": [],
   "source": [
    "df = pd.read_csv('TFL-Bus-Safety-Cols_Edited.csv')"
   ]
  },
  {
   "cell_type": "code",
   "execution_count": 16,
   "id": "34999251",
   "metadata": {},
   "outputs": [],
   "source": [
    "df['Year'] = df['Year'].astype(str)\n",
    "df['Month'] = df['Month'].astype(str)"
   ]
  },
  {
   "cell_type": "code",
   "execution_count": 17,
   "id": "fc6426b4",
   "metadata": {},
   "outputs": [],
   "source": [
    "df['Date_of_Incident'] = pd.to_datetime(df['Date_of_Incident'])"
   ]
  },
  {
   "cell_type": "markdown",
   "id": "04587a9f",
   "metadata": {},
   "source": [
    "<a id=\"section4\"></a>\n",
    "# Exploratory Analysis"
   ]
  },
  {
   "cell_type": "code",
   "execution_count": 18,
   "id": "e6167f32",
   "metadata": {},
   "outputs": [
    {
     "data": {
      "text/plain": [
       "(23158, 13)"
      ]
     },
     "execution_count": 18,
     "metadata": {},
     "output_type": "execute_result"
    }
   ],
   "source": [
    "df.shape"
   ]
  },
  {
   "cell_type": "code",
   "execution_count": 19,
   "id": "8b7bb37a",
   "metadata": {},
   "outputs": [
    {
     "data": {
      "text/plain": [
       "Year                         0\n",
       "Date_of_Incident             0\n",
       "Route                        0\n",
       "Operator                     0\n",
       "Group_Name                   0\n",
       "Bus_Garage                   0\n",
       "Borough                      0\n",
       "Injury_Result_Description    0\n",
       "Incident_Event_Type          0\n",
       "Victim_Category              0\n",
       "Victims_Sex                  0\n",
       "Victims_Age                  0\n",
       "Month                        0\n",
       "dtype: int64"
      ]
     },
     "execution_count": 19,
     "metadata": {},
     "output_type": "execute_result"
    }
   ],
   "source": [
    "# Checking for na values\n",
    "df.isna().sum()"
   ]
  },
  {
   "cell_type": "code",
   "execution_count": 20,
   "id": "70af9b4b",
   "metadata": {},
   "outputs": [
    {
     "data": {
      "text/html": [
       "<div>\n",
       "<style scoped>\n",
       "    .dataframe tbody tr th:only-of-type {\n",
       "        vertical-align: middle;\n",
       "    }\n",
       "\n",
       "    .dataframe tbody tr th {\n",
       "        vertical-align: top;\n",
       "    }\n",
       "\n",
       "    .dataframe thead th {\n",
       "        text-align: right;\n",
       "    }\n",
       "</style>\n",
       "<table border=\"1\" class=\"dataframe\">\n",
       "  <thead>\n",
       "    <tr style=\"text-align: right;\">\n",
       "      <th></th>\n",
       "      <th>Year</th>\n",
       "      <th>Date_of_Incident</th>\n",
       "      <th>Route</th>\n",
       "      <th>Operator</th>\n",
       "      <th>Group_Name</th>\n",
       "      <th>Bus_Garage</th>\n",
       "      <th>Borough</th>\n",
       "      <th>Injury_Result_Description</th>\n",
       "      <th>Incident_Event_Type</th>\n",
       "      <th>Victim_Category</th>\n",
       "      <th>Victims_Sex</th>\n",
       "      <th>Victims_Age</th>\n",
       "      <th>Month</th>\n",
       "    </tr>\n",
       "  </thead>\n",
       "  <tbody>\n",
       "    <tr>\n",
       "      <th>0</th>\n",
       "      <td>2015</td>\n",
       "      <td>2015-01-01</td>\n",
       "      <td>1</td>\n",
       "      <td>London General</td>\n",
       "      <td>Go-Ahead</td>\n",
       "      <td>Garage Not Available</td>\n",
       "      <td>Southwark</td>\n",
       "      <td>Injuries treated on scene</td>\n",
       "      <td>Onboard Injuries</td>\n",
       "      <td>Passenger</td>\n",
       "      <td>Male</td>\n",
       "      <td>Child</td>\n",
       "      <td>1</td>\n",
       "    </tr>\n",
       "    <tr>\n",
       "      <th>1</th>\n",
       "      <td>2015</td>\n",
       "      <td>2015-01-01</td>\n",
       "      <td>4</td>\n",
       "      <td>Metroline</td>\n",
       "      <td>Metroline</td>\n",
       "      <td>Garage Not Available</td>\n",
       "      <td>Islington</td>\n",
       "      <td>Injuries treated on scene</td>\n",
       "      <td>Onboard Injuries</td>\n",
       "      <td>Passenger</td>\n",
       "      <td>Male</td>\n",
       "      <td>Unknown</td>\n",
       "      <td>1</td>\n",
       "    </tr>\n",
       "  </tbody>\n",
       "</table>\n",
       "</div>"
      ],
      "text/plain": [
       "   Year Date_of_Incident Route        Operator Group_Name  \\\n",
       "0  2015       2015-01-01     1  London General   Go-Ahead   \n",
       "1  2015       2015-01-01     4       Metroline  Metroline   \n",
       "\n",
       "             Bus_Garage    Borough  Injury_Result_Description  \\\n",
       "0  Garage Not Available  Southwark  Injuries treated on scene   \n",
       "1  Garage Not Available  Islington  Injuries treated on scene   \n",
       "\n",
       "  Incident_Event_Type Victim_Category Victims_Sex Victims_Age Month  \n",
       "0    Onboard Injuries       Passenger        Male       Child     1  \n",
       "1    Onboard Injuries       Passenger        Male     Unknown     1  "
      ]
     },
     "execution_count": 20,
     "metadata": {},
     "output_type": "execute_result"
    }
   ],
   "source": [
    "df.head(2)"
   ]
  },
  {
   "cell_type": "code",
   "execution_count": 21,
   "id": "f5f7b770",
   "metadata": {},
   "outputs": [],
   "source": [
    "# Creating Spark dataframe to use SQL queries\n",
    "df_sql = spark.read.csv('TFL-Bus-Safety-Cols_Edited.csv', header=True)"
   ]
  },
  {
   "cell_type": "code",
   "execution_count": 22,
   "id": "5d5d386d",
   "metadata": {},
   "outputs": [],
   "source": [
    "# Create Temporary View\n",
    "df_sql.createOrReplaceTempView(\"tb\")"
   ]
  },
  {
   "cell_type": "markdown",
   "id": "556a3711",
   "metadata": {},
   "source": [
    "## 1 - Incidents by Gender"
   ]
  },
  {
   "cell_type": "code",
   "execution_count": 23,
   "id": "21db8d6a",
   "metadata": {
    "scrolled": true
   },
   "outputs": [
    {
     "data": {
      "text/plain": [
       "Female     11847\n",
       "Male        7709\n",
       "Unknown     3602\n",
       "Name: Victims_Sex, dtype: int64"
      ]
     },
     "execution_count": 23,
     "metadata": {},
     "output_type": "execute_result"
    }
   ],
   "source": [
    "# Data analysis using Python programming language\n",
    "df['Victims_Sex'].value_counts()"
   ]
  },
  {
   "cell_type": "code",
   "execution_count": 24,
   "id": "5dcfed79",
   "metadata": {},
   "outputs": [
    {
     "name": "stdout",
     "output_type": "stream",
     "text": [
      "+-----------+----------------+\n",
      "|Victims_Sex|Incidents_by_Sex|\n",
      "+-----------+----------------+\n",
      "|     Female|           11847|\n",
      "|       Male|            7709|\n",
      "|    Unknown|            3602|\n",
      "+-----------+----------------+\n",
      "\n"
     ]
    }
   ],
   "source": [
    "# Data analysis using SQL queries\n",
    "spark.sql(\"\"\"\n",
    "SELECT Victims_Sex, COUNT(*) AS Incidents_by_Sex\n",
    "FROM tb\n",
    "GROUP BY Victims_Sex\n",
    "ORDER BY Incidents_by_Sex DESC\n",
    "\"\"\").show()"
   ]
  },
  {
   "cell_type": "code",
   "execution_count": 25,
   "id": "9fa5c163",
   "metadata": {},
   "outputs": [
    {
     "data": {
      "image/png": "[encoded data removed]",
      "text/plain": [
       "<Figure size 432x288 with 1 Axes>"
      ]
     },
     "metadata": {
      "needs_background": "light"
     },
     "output_type": "display_data"
    }
   ],
   "source": [
    "# Plotting\n",
    "ax = sns.histplot(df['Victims_Sex']) \n",
    "ax.set_ylim(0,13000)\n",
    "ax.bar_label(ax.containers[0]);"
   ]
  },
  {
   "cell_type": "markdown",
   "id": "b573ffa5",
   "metadata": {},
   "source": [
    "## 2 - Incidents by Age"
   ]
  },
  {
   "cell_type": "code",
   "execution_count": 26,
   "id": "4a676ca6",
   "metadata": {
    "scrolled": false
   },
   "outputs": [
    {
     "data": {
      "text/plain": [
       "Adult      10754\n",
       "Unknown     7135\n",
       "Elderly     2769\n",
       "Child       2181\n",
       "Youth        319\n",
       "Name: Victims_Age, dtype: int64"
      ]
     },
     "execution_count": 26,
     "metadata": {},
     "output_type": "execute_result"
    }
   ],
   "source": [
    "# Data analysis using Python programming language\n",
    "df['Victims_Age'].value_counts()"
   ]
  },
  {
   "cell_type": "code",
   "execution_count": 27,
   "id": "59e84863",
   "metadata": {},
   "outputs": [
    {
     "name": "stdout",
     "output_type": "stream",
     "text": [
      "+-----------+----------------+\n",
      "|Victims_Age|Incidents_by_Age|\n",
      "+-----------+----------------+\n",
      "|      Adult|           10754|\n",
      "|    Unknown|            7135|\n",
      "|    Elderly|            2769|\n",
      "|      Child|            2181|\n",
      "|      Youth|             319|\n",
      "+-----------+----------------+\n",
      "\n"
     ]
    }
   ],
   "source": [
    "# Data analysis using SQL queries\n",
    "spark.sql(\"\"\"\n",
    "SELECT Victims_Age, COUNT(*) AS Incidents_by_Age\n",
    "FROM tb\n",
    "GROUP BY Victims_Age\n",
    "ORDER BY Incidents_by_Age DESC\n",
    "\"\"\").show()"
   ]
  },
  {
   "cell_type": "code",
   "execution_count": 28,
   "id": "03c74b62",
   "metadata": {},
   "outputs": [
    {
     "data": {
      "image/png": "[encoded data removed]",
      "text/plain": [
       "<Figure size 432x288 with 1 Axes>"
      ]
     },
     "metadata": {
      "needs_background": "light"
     },
     "output_type": "display_data"
    }
   ],
   "source": [
    "# Plotting\n",
    "ax = sns.histplot(df['Victims_Age']) \n",
    "ax.set_ylim(0,12000)\n",
    "ax.bar_label(ax.containers[0]);"
   ]
  },
  {
   "cell_type": "markdown",
   "id": "db27d142",
   "metadata": {},
   "source": [
    "## 3 - Incident Eventy Type Percentage"
   ]
  },
  {
   "cell_type": "code",
   "execution_count": 29,
   "id": "747a7f0c",
   "metadata": {
    "scrolled": false
   },
   "outputs": [
    {
     "data": {
      "text/html": [
       "<div>\n",
       "<style scoped>\n",
       "    .dataframe tbody tr th:only-of-type {\n",
       "        vertical-align: middle;\n",
       "    }\n",
       "\n",
       "    .dataframe tbody tr th {\n",
       "        vertical-align: top;\n",
       "    }\n",
       "\n",
       "    .dataframe thead th {\n",
       "        text-align: right;\n",
       "    }\n",
       "</style>\n",
       "<table border=\"1\" class=\"dataframe\">\n",
       "  <thead>\n",
       "    <tr style=\"text-align: right;\">\n",
       "      <th></th>\n",
       "      <th>Event_Type</th>\n",
       "      <th>Total_Percentage</th>\n",
       "    </tr>\n",
       "  </thead>\n",
       "  <tbody>\n",
       "    <tr>\n",
       "      <th>0</th>\n",
       "      <td>Slip Trip Fall</td>\n",
       "      <td>30.145090</td>\n",
       "    </tr>\n",
       "    <tr>\n",
       "      <th>1</th>\n",
       "      <td>Onboard Injuries</td>\n",
       "      <td>28.340098</td>\n",
       "    </tr>\n",
       "    <tr>\n",
       "      <th>2</th>\n",
       "      <td>Personal Injury</td>\n",
       "      <td>19.846273</td>\n",
       "    </tr>\n",
       "    <tr>\n",
       "      <th>3</th>\n",
       "      <td>Collision Incident</td>\n",
       "      <td>17.989464</td>\n",
       "    </tr>\n",
       "    <tr>\n",
       "      <th>4</th>\n",
       "      <td>Assault</td>\n",
       "      <td>2.547716</td>\n",
       "    </tr>\n",
       "    <tr>\n",
       "      <th>5</th>\n",
       "      <td>Activity Incident Event</td>\n",
       "      <td>0.492270</td>\n",
       "    </tr>\n",
       "    <tr>\n",
       "      <th>6</th>\n",
       "      <td>Vandalism Hooliganism</td>\n",
       "      <td>0.315226</td>\n",
       "    </tr>\n",
       "    <tr>\n",
       "      <th>7</th>\n",
       "      <td>Safety Critical Failure</td>\n",
       "      <td>0.284999</td>\n",
       "    </tr>\n",
       "    <tr>\n",
       "      <th>8</th>\n",
       "      <td>Fire</td>\n",
       "      <td>0.025909</td>\n",
       "    </tr>\n",
       "    <tr>\n",
       "      <th>9</th>\n",
       "      <td>Robbery</td>\n",
       "      <td>0.012954</td>\n",
       "    </tr>\n",
       "  </tbody>\n",
       "</table>\n",
       "</div>"
      ],
      "text/plain": [
       "                Event_Type  Total_Percentage\n",
       "0           Slip Trip Fall         30.145090\n",
       "1         Onboard Injuries         28.340098\n",
       "2          Personal Injury         19.846273\n",
       "3       Collision Incident         17.989464\n",
       "4                  Assault          2.547716\n",
       "5  Activity Incident Event          0.492270\n",
       "6    Vandalism Hooliganism          0.315226\n",
       "7  Safety Critical Failure          0.284999\n",
       "8                     Fire          0.025909\n",
       "9                  Robbery          0.012954"
      ]
     },
     "execution_count": 29,
     "metadata": {},
     "output_type": "execute_result"
    }
   ],
   "source": [
    "# Data analysis using Python programming language\n",
    "incident_type_percentage = pd.DataFrame(df['Incident_Event_Type'].value_counts(normalize=True)*100).reset_index()\n",
    "incident_type_percentage.columns = ['Event_Type', 'Total_Percentage']\n",
    "incident_type_percentage"
   ]
  },
  {
   "cell_type": "code",
   "execution_count": 30,
   "id": "b2993da0",
   "metadata": {},
   "outputs": [],
   "source": [
    "# Grouping event types with a percentage lower than 16 and naming it 'others'\n",
    "others = incident_type_percentage[incident_type_percentage['Total_Percentage'] < 16].sum().values"
   ]
  },
  {
   "cell_type": "code",
   "execution_count": 31,
   "id": "24ced162",
   "metadata": {},
   "outputs": [],
   "source": [
    "incident_type_percentage.loc[len(incident_type_percentage)] = others"
   ]
  },
  {
   "cell_type": "code",
   "execution_count": 32,
   "id": "47930aad",
   "metadata": {},
   "outputs": [
    {
     "name": "stderr",
     "output_type": "stream",
     "text": [
      "C:\\Users\\Victor\\AppData\\Local\\Temp/ipykernel_24304/1047508093.py:1: SettingWithCopyWarning: \n",
      "A value is trying to be set on a copy of a slice from a DataFrame\n",
      "\n",
      "See the caveats in the documentation: https://pandas.pydata.org/pandas-docs/stable/user_guide/indexing.html#returning-a-view-versus-a-copy\n",
      "  incident_type_percentage['Event_Type'][10] = 'Others'\n"
     ]
    }
   ],
   "source": [
    "incident_type_percentage['Event_Type'][10] = 'Others'"
   ]
  },
  {
   "cell_type": "code",
   "execution_count": 33,
   "id": "3cc9bcfa",
   "metadata": {},
   "outputs": [],
   "source": [
    "incident_type_percentage = incident_type_percentage[incident_type_percentage['Total_Percentage'] > 3]"
   ]
  },
  {
   "cell_type": "code",
   "execution_count": 34,
   "id": "f649c34c",
   "metadata": {
    "scrolled": true
   },
   "outputs": [
    {
     "data": {
      "text/html": [
       "<div>\n",
       "<style scoped>\n",
       "    .dataframe tbody tr th:only-of-type {\n",
       "        vertical-align: middle;\n",
       "    }\n",
       "\n",
       "    .dataframe tbody tr th {\n",
       "        vertical-align: top;\n",
       "    }\n",
       "\n",
       "    .dataframe thead th {\n",
       "        text-align: right;\n",
       "    }\n",
       "</style>\n",
       "<table border=\"1\" class=\"dataframe\">\n",
       "  <thead>\n",
       "    <tr style=\"text-align: right;\">\n",
       "      <th></th>\n",
       "      <th>Event_Type</th>\n",
       "      <th>Total_Percentage</th>\n",
       "    </tr>\n",
       "  </thead>\n",
       "  <tbody>\n",
       "    <tr>\n",
       "      <th>0</th>\n",
       "      <td>Slip Trip Fall</td>\n",
       "      <td>30.145090</td>\n",
       "    </tr>\n",
       "    <tr>\n",
       "      <th>1</th>\n",
       "      <td>Onboard Injuries</td>\n",
       "      <td>28.340098</td>\n",
       "    </tr>\n",
       "    <tr>\n",
       "      <th>2</th>\n",
       "      <td>Personal Injury</td>\n",
       "      <td>19.846273</td>\n",
       "    </tr>\n",
       "    <tr>\n",
       "      <th>3</th>\n",
       "      <td>Collision Incident</td>\n",
       "      <td>17.989464</td>\n",
       "    </tr>\n",
       "    <tr>\n",
       "      <th>10</th>\n",
       "      <td>Others</td>\n",
       "      <td>3.679074</td>\n",
       "    </tr>\n",
       "  </tbody>\n",
       "</table>\n",
       "</div>"
      ],
      "text/plain": [
       "            Event_Type  Total_Percentage\n",
       "0       Slip Trip Fall         30.145090\n",
       "1     Onboard Injuries         28.340098\n",
       "2      Personal Injury         19.846273\n",
       "3   Collision Incident         17.989464\n",
       "10              Others          3.679074"
      ]
     },
     "execution_count": 34,
     "metadata": {},
     "output_type": "execute_result"
    }
   ],
   "source": [
    "incident_type_percentage"
   ]
  },
  {
   "cell_type": "code",
   "execution_count": 35,
   "id": "6b1f0d92",
   "metadata": {
    "scrolled": true
   },
   "outputs": [
    {
     "name": "stdout",
     "output_type": "stream",
     "text": [
      "+--------------------+-----+----------+\n",
      "| Incident_Event_Type|Total|Percentage|\n",
      "+--------------------+-----+----------+\n",
      "|      Slip Trip Fall| 6981|     30.15|\n",
      "|    Onboard Injuries| 6563|     28.34|\n",
      "|     Personal Injury| 4596|     19.85|\n",
      "|  Collision Incident| 4166|     17.99|\n",
      "|             Assault|  590|      2.55|\n",
      "|Activity Incident...|  114|      0.49|\n",
      "|Vandalism Hooliga...|   73|      0.32|\n",
      "|Safety Critical F...|   66|      0.28|\n",
      "|                Fire|    6|      0.03|\n",
      "|             Robbery|    3|      0.01|\n",
      "+--------------------+-----+----------+\n",
      "\n"
     ]
    }
   ],
   "source": [
    "# Data analysis using SQL queries\n",
    "spark.sql(\"\"\"\n",
    "SELECT Incident_Event_Type, COUNT(*) as Total, ROUND(100.0 * COUNT(*) / SUM(COUNT(*)) OVER (), 2) AS Percentage\n",
    "FROM tb\n",
    "GROUP BY Incident_Event_Type\n",
    "ORDER BY Percentage DESC\n",
    "\"\"\").show()"
   ]
  },
  {
   "cell_type": "code",
   "execution_count": 36,
   "id": "bc38d91c",
   "metadata": {},
   "outputs": [
    {
     "data": {
      "image/png": "[encoded data removed]",
      "text/plain": [
       "<Figure size 432x288 with 1 Axes>"
      ]
     },
     "metadata": {},
     "output_type": "display_data"
    }
   ],
   "source": [
    "# Plotting\n",
    "def absolute_value(val):\n",
    "    a  = np.round(val/100.*np.sum(incident_type_percentage['Total_Percentage']), 2)\n",
    "    return a\n",
    "\n",
    "plt.pie(incident_type_percentage['Total_Percentage'].values, labels = incident_type_percentage['Event_Type'], autopct=absolute_value);"
   ]
  },
  {
   "cell_type": "markdown",
   "id": "035fa715",
   "metadata": {},
   "source": [
    "## 4 - Incidents by Month Throughout the Years"
   ]
  },
  {
   "cell_type": "code",
   "execution_count": 37,
   "id": "7ad5f22c",
   "metadata": {
    "scrolled": true
   },
   "outputs": [
    {
     "data": {
      "text/html": [
       "<div>\n",
       "<style scoped>\n",
       "    .dataframe tbody tr th:only-of-type {\n",
       "        vertical-align: middle;\n",
       "    }\n",
       "\n",
       "    .dataframe tbody tr th {\n",
       "        vertical-align: top;\n",
       "    }\n",
       "\n",
       "    .dataframe thead th {\n",
       "        text-align: right;\n",
       "    }\n",
       "</style>\n",
       "<table border=\"1\" class=\"dataframe\">\n",
       "  <thead>\n",
       "    <tr style=\"text-align: right;\">\n",
       "      <th></th>\n",
       "      <th>Year</th>\n",
       "      <th>Month</th>\n",
       "      <th>Total_Incidents</th>\n",
       "    </tr>\n",
       "  </thead>\n",
       "  <tbody>\n",
       "    <tr>\n",
       "      <th>0</th>\n",
       "      <td>2015</td>\n",
       "      <td>1</td>\n",
       "      <td>399</td>\n",
       "    </tr>\n",
       "    <tr>\n",
       "      <th>24</th>\n",
       "      <td>2017</td>\n",
       "      <td>1</td>\n",
       "      <td>435</td>\n",
       "    </tr>\n",
       "    <tr>\n",
       "      <th>12</th>\n",
       "      <td>2016</td>\n",
       "      <td>1</td>\n",
       "      <td>466</td>\n",
       "    </tr>\n",
       "    <tr>\n",
       "      <th>36</th>\n",
       "      <td>2018</td>\n",
       "      <td>1</td>\n",
       "      <td>547</td>\n",
       "    </tr>\n",
       "    <tr>\n",
       "      <th>4</th>\n",
       "      <td>2015</td>\n",
       "      <td>2</td>\n",
       "      <td>371</td>\n",
       "    </tr>\n",
       "    <tr>\n",
       "      <th>37</th>\n",
       "      <td>2018</td>\n",
       "      <td>2</td>\n",
       "      <td>507</td>\n",
       "    </tr>\n",
       "    <tr>\n",
       "      <th>16</th>\n",
       "      <td>2016</td>\n",
       "      <td>2</td>\n",
       "      <td>484</td>\n",
       "    </tr>\n",
       "    <tr>\n",
       "      <th>28</th>\n",
       "      <td>2017</td>\n",
       "      <td>2</td>\n",
       "      <td>487</td>\n",
       "    </tr>\n",
       "    <tr>\n",
       "      <th>29</th>\n",
       "      <td>2017</td>\n",
       "      <td>3</td>\n",
       "      <td>579</td>\n",
       "    </tr>\n",
       "    <tr>\n",
       "      <th>5</th>\n",
       "      <td>2015</td>\n",
       "      <td>3</td>\n",
       "      <td>460</td>\n",
       "    </tr>\n",
       "    <tr>\n",
       "      <th>38</th>\n",
       "      <td>2018</td>\n",
       "      <td>3</td>\n",
       "      <td>535</td>\n",
       "    </tr>\n",
       "    <tr>\n",
       "      <th>17</th>\n",
       "      <td>2016</td>\n",
       "      <td>3</td>\n",
       "      <td>449</td>\n",
       "    </tr>\n",
       "    <tr>\n",
       "      <th>30</th>\n",
       "      <td>2017</td>\n",
       "      <td>4</td>\n",
       "      <td>563</td>\n",
       "    </tr>\n",
       "    <tr>\n",
       "      <th>6</th>\n",
       "      <td>2015</td>\n",
       "      <td>4</td>\n",
       "      <td>470</td>\n",
       "    </tr>\n",
       "    <tr>\n",
       "      <th>18</th>\n",
       "      <td>2016</td>\n",
       "      <td>4</td>\n",
       "      <td>504</td>\n",
       "    </tr>\n",
       "    <tr>\n",
       "      <th>39</th>\n",
       "      <td>2018</td>\n",
       "      <td>4</td>\n",
       "      <td>507</td>\n",
       "    </tr>\n",
       "    <tr>\n",
       "      <th>7</th>\n",
       "      <td>2015</td>\n",
       "      <td>5</td>\n",
       "      <td>472</td>\n",
       "    </tr>\n",
       "    <tr>\n",
       "      <th>31</th>\n",
       "      <td>2017</td>\n",
       "      <td>5</td>\n",
       "      <td>510</td>\n",
       "    </tr>\n",
       "    <tr>\n",
       "      <th>40</th>\n",
       "      <td>2018</td>\n",
       "      <td>5</td>\n",
       "      <td>589</td>\n",
       "    </tr>\n",
       "    <tr>\n",
       "      <th>19</th>\n",
       "      <td>2016</td>\n",
       "      <td>5</td>\n",
       "      <td>494</td>\n",
       "    </tr>\n",
       "    <tr>\n",
       "      <th>32</th>\n",
       "      <td>2017</td>\n",
       "      <td>6</td>\n",
       "      <td>516</td>\n",
       "    </tr>\n",
       "    <tr>\n",
       "      <th>41</th>\n",
       "      <td>2018</td>\n",
       "      <td>6</td>\n",
       "      <td>557</td>\n",
       "    </tr>\n",
       "    <tr>\n",
       "      <th>8</th>\n",
       "      <td>2015</td>\n",
       "      <td>6</td>\n",
       "      <td>564</td>\n",
       "    </tr>\n",
       "    <tr>\n",
       "      <th>20</th>\n",
       "      <td>2016</td>\n",
       "      <td>6</td>\n",
       "      <td>460</td>\n",
       "    </tr>\n",
       "    <tr>\n",
       "      <th>33</th>\n",
       "      <td>2017</td>\n",
       "      <td>7</td>\n",
       "      <td>650</td>\n",
       "    </tr>\n",
       "    <tr>\n",
       "      <th>42</th>\n",
       "      <td>2018</td>\n",
       "      <td>7</td>\n",
       "      <td>553</td>\n",
       "    </tr>\n",
       "    <tr>\n",
       "      <th>9</th>\n",
       "      <td>2015</td>\n",
       "      <td>7</td>\n",
       "      <td>558</td>\n",
       "    </tr>\n",
       "    <tr>\n",
       "      <th>21</th>\n",
       "      <td>2016</td>\n",
       "      <td>7</td>\n",
       "      <td>507</td>\n",
       "    </tr>\n",
       "    <tr>\n",
       "      <th>34</th>\n",
       "      <td>2017</td>\n",
       "      <td>8</td>\n",
       "      <td>563</td>\n",
       "    </tr>\n",
       "    <tr>\n",
       "      <th>22</th>\n",
       "      <td>2016</td>\n",
       "      <td>8</td>\n",
       "      <td>513</td>\n",
       "    </tr>\n",
       "    <tr>\n",
       "      <th>43</th>\n",
       "      <td>2018</td>\n",
       "      <td>8</td>\n",
       "      <td>491</td>\n",
       "    </tr>\n",
       "    <tr>\n",
       "      <th>10</th>\n",
       "      <td>2015</td>\n",
       "      <td>8</td>\n",
       "      <td>446</td>\n",
       "    </tr>\n",
       "    <tr>\n",
       "      <th>23</th>\n",
       "      <td>2016</td>\n",
       "      <td>9</td>\n",
       "      <td>582</td>\n",
       "    </tr>\n",
       "    <tr>\n",
       "      <th>35</th>\n",
       "      <td>2017</td>\n",
       "      <td>9</td>\n",
       "      <td>549</td>\n",
       "    </tr>\n",
       "    <tr>\n",
       "      <th>11</th>\n",
       "      <td>2015</td>\n",
       "      <td>9</td>\n",
       "      <td>487</td>\n",
       "    </tr>\n",
       "    <tr>\n",
       "      <th>44</th>\n",
       "      <td>2018</td>\n",
       "      <td>9</td>\n",
       "      <td>491</td>\n",
       "    </tr>\n",
       "    <tr>\n",
       "      <th>25</th>\n",
       "      <td>2017</td>\n",
       "      <td>10</td>\n",
       "      <td>621</td>\n",
       "    </tr>\n",
       "    <tr>\n",
       "      <th>13</th>\n",
       "      <td>2016</td>\n",
       "      <td>10</td>\n",
       "      <td>551</td>\n",
       "    </tr>\n",
       "    <tr>\n",
       "      <th>1</th>\n",
       "      <td>2015</td>\n",
       "      <td>10</td>\n",
       "      <td>470</td>\n",
       "    </tr>\n",
       "    <tr>\n",
       "      <th>26</th>\n",
       "      <td>2017</td>\n",
       "      <td>11</td>\n",
       "      <td>584</td>\n",
       "    </tr>\n",
       "    <tr>\n",
       "      <th>14</th>\n",
       "      <td>2016</td>\n",
       "      <td>11</td>\n",
       "      <td>612</td>\n",
       "    </tr>\n",
       "    <tr>\n",
       "      <th>2</th>\n",
       "      <td>2015</td>\n",
       "      <td>11</td>\n",
       "      <td>495</td>\n",
       "    </tr>\n",
       "    <tr>\n",
       "      <th>15</th>\n",
       "      <td>2016</td>\n",
       "      <td>12</td>\n",
       "      <td>471</td>\n",
       "    </tr>\n",
       "    <tr>\n",
       "      <th>3</th>\n",
       "      <td>2015</td>\n",
       "      <td>12</td>\n",
       "      <td>523</td>\n",
       "    </tr>\n",
       "    <tr>\n",
       "      <th>27</th>\n",
       "      <td>2017</td>\n",
       "      <td>12</td>\n",
       "      <td>516</td>\n",
       "    </tr>\n",
       "  </tbody>\n",
       "</table>\n",
       "</div>"
      ],
      "text/plain": [
       "    Year  Month  Total_Incidents\n",
       "0   2015      1              399\n",
       "24  2017      1              435\n",
       "12  2016      1              466\n",
       "36  2018      1              547\n",
       "4   2015      2              371\n",
       "37  2018      2              507\n",
       "16  2016      2              484\n",
       "28  2017      2              487\n",
       "29  2017      3              579\n",
       "5   2015      3              460\n",
       "38  2018      3              535\n",
       "17  2016      3              449\n",
       "30  2017      4              563\n",
       "6   2015      4              470\n",
       "18  2016      4              504\n",
       "39  2018      4              507\n",
       "7   2015      5              472\n",
       "31  2017      5              510\n",
       "40  2018      5              589\n",
       "19  2016      5              494\n",
       "32  2017      6              516\n",
       "41  2018      6              557\n",
       "8   2015      6              564\n",
       "20  2016      6              460\n",
       "33  2017      7              650\n",
       "42  2018      7              553\n",
       "9   2015      7              558\n",
       "21  2016      7              507\n",
       "34  2017      8              563\n",
       "22  2016      8              513\n",
       "43  2018      8              491\n",
       "10  2015      8              446\n",
       "23  2016      9              582\n",
       "35  2017      9              549\n",
       "11  2015      9              487\n",
       "44  2018      9              491\n",
       "25  2017     10              621\n",
       "13  2016     10              551\n",
       "1   2015     10              470\n",
       "26  2017     11              584\n",
       "14  2016     11              612\n",
       "2   2015     11              495\n",
       "15  2016     12              471\n",
       "3   2015     12              523\n",
       "27  2017     12              516"
      ]
     },
     "execution_count": 37,
     "metadata": {},
     "output_type": "execute_result"
    }
   ],
   "source": [
    "# Data analysis using Python programming language\n",
    "incidents_evol_month = pd.DataFrame(df.groupby(['Year', 'Month'])['Incident_Event_Type'].count().reset_index(name='count'))\n",
    "incidents_evol_month.columns = ['Year', 'Month', 'Total_Incidents']\n",
    "incidents_evol_month['Month'] = incidents_evol_month['Month'].astype(int)\n",
    "incidents_evol_month = incidents_evol_month.sort_values(by='Month')\n",
    "incidents_evol_month"
   ]
  },
  {
   "cell_type": "code",
   "execution_count": 38,
   "id": "d4df2dff",
   "metadata": {
    "scrolled": true
   },
   "outputs": [
    {
     "name": "stdout",
     "output_type": "stream",
     "text": [
      "+----+-----+-------------------+\n",
      "|Year|Month|Number_of_Incidents|\n",
      "+----+-----+-------------------+\n",
      "|2015|   01|                399|\n",
      "|2016|   01|                466|\n",
      "|2018|   01|                547|\n",
      "|2017|   01|                435|\n",
      "|2016|   02|                484|\n",
      "|2018|   02|                507|\n",
      "|2015|   02|                371|\n",
      "|2017|   02|                487|\n",
      "|2017|   03|                579|\n",
      "|2015|   03|                460|\n",
      "|2016|   03|                449|\n",
      "|2018|   03|                535|\n",
      "|2016|   04|                504|\n",
      "|2017|   04|                563|\n",
      "|2018|   04|                507|\n",
      "|2015|   04|                470|\n",
      "|2015|   05|                472|\n",
      "|2017|   05|                510|\n",
      "|2016|   05|                494|\n",
      "|2018|   05|                589|\n",
      "+----+-----+-------------------+\n",
      "only showing top 20 rows\n",
      "\n"
     ]
    }
   ],
   "source": [
    "# Data analysis using SQL queries\n",
    "spark.sql(\"\"\"\n",
    "SELECT Year, Month, COUNT(*) AS Number_of_Incidents\n",
    "FROM tb\n",
    "GROUP BY Year, Month\n",
    "ORDER BY Month ASC\n",
    "\"\"\").show()"
   ]
  },
  {
   "cell_type": "code",
   "execution_count": 39,
   "id": "b0bbb74e",
   "metadata": {},
   "outputs": [
    {
     "data": {
      "image/png": "[encoded data removed]",
      "text/plain": [
       "<Figure size 432x288 with 1 Axes>"
      ]
     },
     "metadata": {
      "needs_background": "light"
     },
     "output_type": "display_data"
    }
   ],
   "source": [
    "ax = sns.barplot(x = incidents_evol_month['Month'], y = incidents_evol_month['Total_Incidents'], hue=incidents_evol_month['Year'])\n",
    "ax.set_ylim(0,1000);"
   ]
  },
  {
   "cell_type": "markdown",
   "id": "63b6005d",
   "metadata": {},
   "source": [
    "## 5 - Female Incidents by Month when Collision Incident"
   ]
  },
  {
   "cell_type": "code",
   "execution_count": 40,
   "id": "a09197dc",
   "metadata": {
    "scrolled": false
   },
   "outputs": [
    {
     "data": {
      "text/html": [
       "<div>\n",
       "<style scoped>\n",
       "    .dataframe tbody tr th:only-of-type {\n",
       "        vertical-align: middle;\n",
       "    }\n",
       "\n",
       "    .dataframe tbody tr th {\n",
       "        vertical-align: top;\n",
       "    }\n",
       "\n",
       "    .dataframe thead th {\n",
       "        text-align: right;\n",
       "    }\n",
       "</style>\n",
       "<table border=\"1\" class=\"dataframe\">\n",
       "  <thead>\n",
       "    <tr style=\"text-align: right;\">\n",
       "      <th></th>\n",
       "      <th>Month</th>\n",
       "      <th>Total_Incidents</th>\n",
       "    </tr>\n",
       "  </thead>\n",
       "  <tbody>\n",
       "    <tr>\n",
       "      <th>0</th>\n",
       "      <td>1</td>\n",
       "      <td>137</td>\n",
       "    </tr>\n",
       "    <tr>\n",
       "      <th>1</th>\n",
       "      <td>10</td>\n",
       "      <td>113</td>\n",
       "    </tr>\n",
       "    <tr>\n",
       "      <th>2</th>\n",
       "      <td>11</td>\n",
       "      <td>140</td>\n",
       "    </tr>\n",
       "    <tr>\n",
       "      <th>3</th>\n",
       "      <td>12</td>\n",
       "      <td>76</td>\n",
       "    </tr>\n",
       "    <tr>\n",
       "      <th>4</th>\n",
       "      <td>2</td>\n",
       "      <td>116</td>\n",
       "    </tr>\n",
       "    <tr>\n",
       "      <th>5</th>\n",
       "      <td>3</td>\n",
       "      <td>129</td>\n",
       "    </tr>\n",
       "    <tr>\n",
       "      <th>6</th>\n",
       "      <td>4</td>\n",
       "      <td>147</td>\n",
       "    </tr>\n",
       "    <tr>\n",
       "      <th>7</th>\n",
       "      <td>5</td>\n",
       "      <td>123</td>\n",
       "    </tr>\n",
       "    <tr>\n",
       "      <th>8</th>\n",
       "      <td>6</td>\n",
       "      <td>150</td>\n",
       "    </tr>\n",
       "    <tr>\n",
       "      <th>9</th>\n",
       "      <td>7</td>\n",
       "      <td>147</td>\n",
       "    </tr>\n",
       "    <tr>\n",
       "      <th>10</th>\n",
       "      <td>8</td>\n",
       "      <td>122</td>\n",
       "    </tr>\n",
       "    <tr>\n",
       "      <th>11</th>\n",
       "      <td>9</td>\n",
       "      <td>158</td>\n",
       "    </tr>\n",
       "  </tbody>\n",
       "</table>\n",
       "</div>"
      ],
      "text/plain": [
       "   Month  Total_Incidents\n",
       "0      1              137\n",
       "1     10              113\n",
       "2     11              140\n",
       "3     12               76\n",
       "4      2              116\n",
       "5      3              129\n",
       "6      4              147\n",
       "7      5              123\n",
       "8      6              150\n",
       "9      7              147\n",
       "10     8              122\n",
       "11     9              158"
      ]
     },
     "execution_count": 40,
     "metadata": {},
     "output_type": "execute_result"
    }
   ],
   "source": [
    "# Data analysis using Python programming language\n",
    "Fem_Col_Inc_Month = pd.DataFrame(df[(df['Incident_Event_Type'] == 'Collision Incident') & (df['Victims_Sex'] == 'Female')].groupby('Month')['Victims_Sex'].count()).reset_index()\n",
    "Fem_Col_Inc_Month.columns = ['Month', 'Total_Incidents']\n",
    "Fem_Col_Inc_Month"
   ]
  },
  {
   "cell_type": "code",
   "execution_count": 41,
   "id": "652f5e15",
   "metadata": {},
   "outputs": [
    {
     "name": "stdout",
     "output_type": "stream",
     "text": [
      "+-----+--------------------------+\n",
      "|Month|Female_Collision_Incidents|\n",
      "+-----+--------------------------+\n",
      "|   01|                       137|\n",
      "|   02|                       116|\n",
      "|   03|                       129|\n",
      "|   04|                       147|\n",
      "|   05|                       123|\n",
      "|   06|                       150|\n",
      "|   07|                       147|\n",
      "|   08|                       122|\n",
      "|   09|                       158|\n",
      "|   10|                       113|\n",
      "|   11|                       140|\n",
      "|   12|                        76|\n",
      "+-----+--------------------------+\n",
      "\n"
     ]
    }
   ],
   "source": [
    "# Data analysis using SQL queries\n",
    "spark.sql(\"\"\"\n",
    "SELECT Month, COUNT(*) AS Female_Collision_Incidents\n",
    "FROM tb\n",
    "WHERE Incident_Event_Type = 'Collision Incident' AND Victims_Sex = 'Female'\n",
    "GROUP BY Month\n",
    "ORDER BY Month ASC\n",
    "\"\"\").show()"
   ]
  },
  {
   "cell_type": "code",
   "execution_count": 42,
   "id": "df706343",
   "metadata": {
    "scrolled": false
   },
   "outputs": [
    {
     "data": {
      "image/png": "[encoded data removed]",
      "text/plain": [
       "<Figure size 432x288 with 1 Axes>"
      ]
     },
     "metadata": {
      "needs_background": "light"
     },
     "output_type": "display_data"
    }
   ],
   "source": [
    "# Plotting\n",
    "ax = sns.barplot(x = Fem_Col_Inc_Month['Month'], y = Fem_Col_Inc_Month['Total_Incidents'])\n",
    "ax.set_ylim(0,170)\n",
    "for i in ax.containers:\n",
    "    ax.bar_label(i,)"
   ]
  },
  {
   "cell_type": "markdown",
   "id": "620ce71c",
   "metadata": {},
   "source": [
    "## 6 - Incidents Monthly Mean Involving Children"
   ]
  },
  {
   "cell_type": "code",
   "execution_count": 43,
   "id": "9f902f9e",
   "metadata": {
    "scrolled": true
   },
   "outputs": [
    {
     "data": {
      "text/html": [
       "<div>\n",
       "<style scoped>\n",
       "    .dataframe tbody tr th:only-of-type {\n",
       "        vertical-align: middle;\n",
       "    }\n",
       "\n",
       "    .dataframe tbody tr th {\n",
       "        vertical-align: top;\n",
       "    }\n",
       "\n",
       "    .dataframe thead th {\n",
       "        text-align: right;\n",
       "    }\n",
       "</style>\n",
       "<table border=\"1\" class=\"dataframe\">\n",
       "  <thead>\n",
       "    <tr style=\"text-align: right;\">\n",
       "      <th></th>\n",
       "      <th>Month</th>\n",
       "      <th>Total_Incidents</th>\n",
       "      <th>Mean</th>\n",
       "    </tr>\n",
       "  </thead>\n",
       "  <tbody>\n",
       "    <tr>\n",
       "      <th>0</th>\n",
       "      <td>1</td>\n",
       "      <td>126</td>\n",
       "      <td>31.50</td>\n",
       "    </tr>\n",
       "    <tr>\n",
       "      <th>4</th>\n",
       "      <td>2</td>\n",
       "      <td>146</td>\n",
       "      <td>36.50</td>\n",
       "    </tr>\n",
       "    <tr>\n",
       "      <th>5</th>\n",
       "      <td>3</td>\n",
       "      <td>190</td>\n",
       "      <td>47.50</td>\n",
       "    </tr>\n",
       "    <tr>\n",
       "      <th>6</th>\n",
       "      <td>4</td>\n",
       "      <td>226</td>\n",
       "      <td>56.50</td>\n",
       "    </tr>\n",
       "    <tr>\n",
       "      <th>7</th>\n",
       "      <td>5</td>\n",
       "      <td>206</td>\n",
       "      <td>51.50</td>\n",
       "    </tr>\n",
       "    <tr>\n",
       "      <th>8</th>\n",
       "      <td>6</td>\n",
       "      <td>245</td>\n",
       "      <td>61.25</td>\n",
       "    </tr>\n",
       "    <tr>\n",
       "      <th>9</th>\n",
       "      <td>7</td>\n",
       "      <td>232</td>\n",
       "      <td>58.00</td>\n",
       "    </tr>\n",
       "    <tr>\n",
       "      <th>10</th>\n",
       "      <td>8</td>\n",
       "      <td>208</td>\n",
       "      <td>52.00</td>\n",
       "    </tr>\n",
       "    <tr>\n",
       "      <th>11</th>\n",
       "      <td>9</td>\n",
       "      <td>225</td>\n",
       "      <td>56.25</td>\n",
       "    </tr>\n",
       "    <tr>\n",
       "      <th>1</th>\n",
       "      <td>10</td>\n",
       "      <td>150</td>\n",
       "      <td>37.50</td>\n",
       "    </tr>\n",
       "    <tr>\n",
       "      <th>2</th>\n",
       "      <td>11</td>\n",
       "      <td>120</td>\n",
       "      <td>30.00</td>\n",
       "    </tr>\n",
       "    <tr>\n",
       "      <th>3</th>\n",
       "      <td>12</td>\n",
       "      <td>107</td>\n",
       "      <td>26.75</td>\n",
       "    </tr>\n",
       "  </tbody>\n",
       "</table>\n",
       "</div>"
      ],
      "text/plain": [
       "    Month  Total_Incidents   Mean\n",
       "0       1              126  31.50\n",
       "4       2              146  36.50\n",
       "5       3              190  47.50\n",
       "6       4              226  56.50\n",
       "7       5              206  51.50\n",
       "8       6              245  61.25\n",
       "9       7              232  58.00\n",
       "10      8              208  52.00\n",
       "11      9              225  56.25\n",
       "1      10              150  37.50\n",
       "2      11              120  30.00\n",
       "3      12              107  26.75"
      ]
     },
     "execution_count": 43,
     "metadata": {},
     "output_type": "execute_result"
    }
   ],
   "source": [
    "# Data analysis using Python programming language\n",
    "child_incidents_by_month = pd.DataFrame(df[df['Victims_Age'] == 'Child'].groupby('Month')['Victims_Age'].count()).reset_index()\n",
    "child_incidents_by_month.columns = ['Month', 'Total_Incidents']\n",
    "num_list = list(map(int, child_incidents_by_month['Total_Incidents']))\n",
    "child_incidents_by_month_mean = [x/4 for x in num_list]\n",
    "child_incidents_by_month_mean = [ '%.2f' % elem for elem in child_incidents_by_month_mean ]\n",
    "child_incidents_by_month_mean\n",
    "child_incidents_by_month['Mean'] = child_incidents_by_month_mean\n",
    "child_incidents_by_month['Mean'] = child_incidents_by_month['Mean'].astype(float)\n",
    "child_incidents_by_month['Month'] = child_incidents_by_month['Month'].astype(int)\n",
    "child_incidents_by_month = child_incidents_by_month.sort_values(by='Month')\n",
    "child_incidents_by_month"
   ]
  },
  {
   "cell_type": "code",
   "execution_count": 44,
   "id": "b27b9518",
   "metadata": {},
   "outputs": [
    {
     "name": "stdout",
     "output_type": "stream",
     "text": [
      "+-----+---------------------------+\n",
      "|Month|Incidents_Average_per_Month|\n",
      "+-----+---------------------------+\n",
      "|   01|                       31.5|\n",
      "|   02|                       36.5|\n",
      "|   03|                       47.5|\n",
      "|   04|                       56.5|\n",
      "|   05|                       51.5|\n",
      "|   06|                      61.25|\n",
      "|   07|                       58.0|\n",
      "|   08|                       52.0|\n",
      "|   09|                      56.25|\n",
      "|   10|                       37.5|\n",
      "|   11|                       30.0|\n",
      "|   12|                      26.75|\n",
      "+-----+---------------------------+\n",
      "\n"
     ]
    }
   ],
   "source": [
    "# Data analysis using SQL queries\n",
    "spark.sql(\"\"\"\n",
    "SELECT Month, ROUND(COUNT(*)/4, 2) AS Incidents_Average_per_Month\n",
    "FROM tb\n",
    "WHERE Victims_Age = 'Child'\n",
    "GROUP BY Month\n",
    "ORDER BY Month\n",
    "\"\"\").show()"
   ]
  },
  {
   "cell_type": "code",
   "execution_count": 45,
   "id": "be5ec0f5",
   "metadata": {},
   "outputs": [
    {
     "data": {
      "image/png": "[encoded data removed]",
      "text/plain": [
       "<Figure size 432x288 with 1 Axes>"
      ]
     },
     "metadata": {
      "needs_background": "light"
     },
     "output_type": "display_data"
    }
   ],
   "source": [
    "# Plotting\n",
    "ax = sns.barplot(x = child_incidents_by_month['Month'], y = child_incidents_by_month['Mean'])\n",
    "ax.set_ylim(0,70)\n",
    "for i in ax.containers:\n",
    "    ax.bar_label(i,)"
   ]
  },
  {
   "cell_type": "markdown",
   "id": "55cbe8ef",
   "metadata": {},
   "source": [
    "## 7 - Injuries Treated on Scene by Sex"
   ]
  },
  {
   "cell_type": "code",
   "execution_count": 46,
   "id": "5766f9be",
   "metadata": {},
   "outputs": [
    {
     "data": {
      "text/html": [
       "<div>\n",
       "<style scoped>\n",
       "    .dataframe tbody tr th:only-of-type {\n",
       "        vertical-align: middle;\n",
       "    }\n",
       "\n",
       "    .dataframe tbody tr th {\n",
       "        vertical-align: top;\n",
       "    }\n",
       "\n",
       "    .dataframe thead th {\n",
       "        text-align: right;\n",
       "    }\n",
       "</style>\n",
       "<table border=\"1\" class=\"dataframe\">\n",
       "  <thead>\n",
       "    <tr style=\"text-align: right;\">\n",
       "      <th></th>\n",
       "      <th>Victims_Sex</th>\n",
       "      <th>Total_Incidents</th>\n",
       "    </tr>\n",
       "  </thead>\n",
       "  <tbody>\n",
       "    <tr>\n",
       "      <th>0</th>\n",
       "      <td>Female</td>\n",
       "      <td>8816</td>\n",
       "    </tr>\n",
       "    <tr>\n",
       "      <th>1</th>\n",
       "      <td>Male</td>\n",
       "      <td>5632</td>\n",
       "    </tr>\n",
       "    <tr>\n",
       "      <th>2</th>\n",
       "      <td>Unknown</td>\n",
       "      <td>2888</td>\n",
       "    </tr>\n",
       "  </tbody>\n",
       "</table>\n",
       "</div>"
      ],
      "text/plain": [
       "  Victims_Sex  Total_Incidents\n",
       "0      Female             8816\n",
       "1        Male             5632\n",
       "2     Unknown             2888"
      ]
     },
     "execution_count": 46,
     "metadata": {},
     "output_type": "execute_result"
    }
   ],
   "source": [
    "# Data analysis using Python programming language\n",
    "inj_tre_sce_sex = pd.DataFrame(df[df['Injury_Result_Description'] == 'Injuries treated on scene'].groupby('Victims_Sex')['Injury_Result_Description'].count()).reset_index()\n",
    "inj_tre_sce_sex.columns = ['Victims_Sex', 'Total_Incidents']\n",
    "inj_tre_sce_sex"
   ]
  },
  {
   "cell_type": "code",
   "execution_count": 47,
   "id": "90ea21e3",
   "metadata": {},
   "outputs": [
    {
     "name": "stdout",
     "output_type": "stream",
     "text": [
      "+-----------+--------------------------------+\n",
      "|Victims_Sex|Injuries_Treated_on_Scene_by_Sex|\n",
      "+-----------+--------------------------------+\n",
      "|     Female|                            8816|\n",
      "|    Unknown|                            2888|\n",
      "|       Male|                            5632|\n",
      "+-----------+--------------------------------+\n",
      "\n"
     ]
    }
   ],
   "source": [
    "# Data analysis using SQL queries\n",
    "spark.sql(\"\"\"\n",
    "SELECT Victims_Sex, COUNT(*) AS Injuries_Treated_on_Scene_by_Sex\n",
    "FROM tb\n",
    "WHERE Injury_Result_Description = 'Injuries treated on scene'\n",
    "GROUP BY Victims_Sex\n",
    "\"\"\").show()"
   ]
  },
  {
   "cell_type": "code",
   "execution_count": 48,
   "id": "da1a33b0",
   "metadata": {
    "scrolled": true
   },
   "outputs": [
    {
     "data": {
      "image/png": "[encoded data removed]",
      "text/plain": [
       "<Figure size 432x288 with 1 Axes>"
      ]
     },
     "metadata": {
      "needs_background": "light"
     },
     "output_type": "display_data"
    }
   ],
   "source": [
    "# Plotting\n",
    "ax = sns.barplot(x = inj_tre_sce_sex['Total_Incidents'], y = inj_tre_sce_sex['Victims_Sex'])\n",
    "ax.set_xlim(0,10000)\n",
    "for i in ax.containers:\n",
    "    ax.bar_label(i,)"
   ]
  },
  {
   "cell_type": "markdown",
   "id": "fe2d9716",
   "metadata": {},
   "source": [
    "## 8 - Elderly Incidents in 2017"
   ]
  },
  {
   "cell_type": "code",
   "execution_count": 49,
   "id": "b6772b84",
   "metadata": {},
   "outputs": [
    {
     "data": {
      "text/html": [
       "<div>\n",
       "<style scoped>\n",
       "    .dataframe tbody tr th:only-of-type {\n",
       "        vertical-align: middle;\n",
       "    }\n",
       "\n",
       "    .dataframe tbody tr th {\n",
       "        vertical-align: top;\n",
       "    }\n",
       "\n",
       "    .dataframe thead th {\n",
       "        text-align: right;\n",
       "    }\n",
       "</style>\n",
       "<table border=\"1\" class=\"dataframe\">\n",
       "  <thead>\n",
       "    <tr style=\"text-align: right;\">\n",
       "      <th></th>\n",
       "      <th>Month</th>\n",
       "      <th>Total_Incidents</th>\n",
       "    </tr>\n",
       "  </thead>\n",
       "  <tbody>\n",
       "    <tr>\n",
       "      <th>0</th>\n",
       "      <td>1</td>\n",
       "      <td>66</td>\n",
       "    </tr>\n",
       "    <tr>\n",
       "      <th>4</th>\n",
       "      <td>2</td>\n",
       "      <td>53</td>\n",
       "    </tr>\n",
       "    <tr>\n",
       "      <th>5</th>\n",
       "      <td>3</td>\n",
       "      <td>77</td>\n",
       "    </tr>\n",
       "    <tr>\n",
       "      <th>6</th>\n",
       "      <td>4</td>\n",
       "      <td>75</td>\n",
       "    </tr>\n",
       "    <tr>\n",
       "      <th>7</th>\n",
       "      <td>5</td>\n",
       "      <td>69</td>\n",
       "    </tr>\n",
       "    <tr>\n",
       "      <th>8</th>\n",
       "      <td>6</td>\n",
       "      <td>65</td>\n",
       "    </tr>\n",
       "    <tr>\n",
       "      <th>9</th>\n",
       "      <td>7</td>\n",
       "      <td>81</td>\n",
       "    </tr>\n",
       "    <tr>\n",
       "      <th>10</th>\n",
       "      <td>8</td>\n",
       "      <td>70</td>\n",
       "    </tr>\n",
       "    <tr>\n",
       "      <th>11</th>\n",
       "      <td>9</td>\n",
       "      <td>78</td>\n",
       "    </tr>\n",
       "    <tr>\n",
       "      <th>1</th>\n",
       "      <td>10</td>\n",
       "      <td>69</td>\n",
       "    </tr>\n",
       "    <tr>\n",
       "      <th>2</th>\n",
       "      <td>11</td>\n",
       "      <td>68</td>\n",
       "    </tr>\n",
       "    <tr>\n",
       "      <th>3</th>\n",
       "      <td>12</td>\n",
       "      <td>67</td>\n",
       "    </tr>\n",
       "  </tbody>\n",
       "</table>\n",
       "</div>"
      ],
      "text/plain": [
       "    Month  Total_Incidents\n",
       "0       1               66\n",
       "4       2               53\n",
       "5       3               77\n",
       "6       4               75\n",
       "7       5               69\n",
       "8       6               65\n",
       "9       7               81\n",
       "10      8               70\n",
       "11      9               78\n",
       "1      10               69\n",
       "2      11               68\n",
       "3      12               67"
      ]
     },
     "execution_count": 49,
     "metadata": {},
     "output_type": "execute_result"
    }
   ],
   "source": [
    "# Data analysis using Python programming language\n",
    "elderly_incidents = pd.DataFrame(df[(df['Year'] == '2017') & (df['Victims_Age'] == 'Elderly')].groupby('Month')['Victims_Age'].count()).reset_index()\n",
    "elderly_incidents.columns = ['Month', 'Total_Incidents']\n",
    "elderly_incidents['Month'] = elderly_incidents['Month'].astype(int)\n",
    "elderly_incidents = elderly_incidents.sort_values(by='Month')\n",
    "elderly_incidents"
   ]
  },
  {
   "cell_type": "code",
   "execution_count": 50,
   "id": "affa230e",
   "metadata": {},
   "outputs": [
    {
     "name": "stdout",
     "output_type": "stream",
     "text": [
      "+-----+-------------------------+\n",
      "|Month|Elderly_Incidents_in_2017|\n",
      "+-----+-------------------------+\n",
      "|   01|                       66|\n",
      "|   02|                       53|\n",
      "|   03|                       77|\n",
      "|   04|                       75|\n",
      "|   05|                       69|\n",
      "|   06|                       65|\n",
      "|   07|                       81|\n",
      "|   08|                       70|\n",
      "|   09|                       78|\n",
      "|   10|                       69|\n",
      "|   11|                       68|\n",
      "|   12|                       67|\n",
      "+-----+-------------------------+\n",
      "\n"
     ]
    }
   ],
   "source": [
    "# Data analysis using SQL queries\n",
    "spark.sql(\"\"\"\n",
    "SELECT Month, COUNT(*) AS Elderly_Incidents_in_2017\n",
    "FROM tb\n",
    "WHERE Year = '2017' AND Victims_Age = 'Elderly'\n",
    "GROUP BY Month\n",
    "ORDER BY Month ASC\n",
    "\"\"\").show()"
   ]
  },
  {
   "cell_type": "code",
   "execution_count": 51,
   "id": "6c1dcf29",
   "metadata": {},
   "outputs": [
    {
     "data": {
      "image/png": "[encoded data removed]",
      "text/plain": [
       "<Figure size 432x288 with 1 Axes>"
      ]
     },
     "metadata": {
      "needs_background": "light"
     },
     "output_type": "display_data"
    }
   ],
   "source": [
    "# Plotting\n",
    "ax = sns.barplot(x = elderly_incidents['Month'], y = elderly_incidents['Total_Incidents'], color='green')\n",
    "ax.set_ylim(0,90)\n",
    "ax.bar_label(ax.containers[0]);"
   ]
  },
  {
   "cell_type": "markdown",
   "id": "4b4c7832",
   "metadata": {},
   "source": [
    "## 9 - Incidents by Operator over Time"
   ]
  },
  {
   "cell_type": "code",
   "execution_count": 52,
   "id": "4bd31fac",
   "metadata": {
    "scrolled": true
   },
   "outputs": [
    {
     "data": {
      "text/html": [
       "<div>\n",
       "<style scoped>\n",
       "    .dataframe tbody tr th:only-of-type {\n",
       "        vertical-align: middle;\n",
       "    }\n",
       "\n",
       "    .dataframe tbody tr th {\n",
       "        vertical-align: top;\n",
       "    }\n",
       "\n",
       "    .dataframe thead th {\n",
       "        text-align: right;\n",
       "    }\n",
       "</style>\n",
       "<table border=\"1\" class=\"dataframe\">\n",
       "  <thead>\n",
       "    <tr style=\"text-align: right;\">\n",
       "      <th></th>\n",
       "      <th>Year</th>\n",
       "      <th>Operator</th>\n",
       "      <th>Total_Incidents</th>\n",
       "    </tr>\n",
       "  </thead>\n",
       "  <tbody>\n",
       "    <tr>\n",
       "      <th>44</th>\n",
       "      <td>2017</td>\n",
       "      <td>Arriva London North</td>\n",
       "      <td>1026</td>\n",
       "    </tr>\n",
       "    <tr>\n",
       "      <th>57</th>\n",
       "      <td>2017</td>\n",
       "      <td>Metroline</td>\n",
       "      <td>940</td>\n",
       "    </tr>\n",
       "    <tr>\n",
       "      <th>16</th>\n",
       "      <td>2015</td>\n",
       "      <td>Metroline</td>\n",
       "      <td>914</td>\n",
       "    </tr>\n",
       "    <tr>\n",
       "      <th>36</th>\n",
       "      <td>2016</td>\n",
       "      <td>Metroline</td>\n",
       "      <td>864</td>\n",
       "    </tr>\n",
       "    <tr>\n",
       "      <th>29</th>\n",
       "      <td>2016</td>\n",
       "      <td>East London</td>\n",
       "      <td>812</td>\n",
       "    </tr>\n",
       "    <tr>\n",
       "      <th>...</th>\n",
       "      <td>...</td>\n",
       "      <td>...</td>\n",
       "      <td>...</td>\n",
       "    </tr>\n",
       "    <tr>\n",
       "      <th>51</th>\n",
       "      <td>2017</td>\n",
       "      <td>H R Richmond</td>\n",
       "      <td>13</td>\n",
       "    </tr>\n",
       "    <tr>\n",
       "      <th>61</th>\n",
       "      <td>2017</td>\n",
       "      <td>TGM GROUP</td>\n",
       "      <td>6</td>\n",
       "    </tr>\n",
       "    <tr>\n",
       "      <th>39</th>\n",
       "      <td>2016</td>\n",
       "      <td>Sullivan Buses</td>\n",
       "      <td>2</td>\n",
       "    </tr>\n",
       "    <tr>\n",
       "      <th>81</th>\n",
       "      <td>2018</td>\n",
       "      <td>Sullivan Bus &amp; Coach</td>\n",
       "      <td>1</td>\n",
       "    </tr>\n",
       "    <tr>\n",
       "      <th>63</th>\n",
       "      <td>2017</td>\n",
       "      <td>Uno Buses</td>\n",
       "      <td>1</td>\n",
       "    </tr>\n",
       "  </tbody>\n",
       "</table>\n",
       "<p>83 rows × 3 columns</p>\n",
       "</div>"
      ],
      "text/plain": [
       "    Year              Operator  Total_Incidents\n",
       "44  2017   Arriva London North             1026\n",
       "57  2017             Metroline              940\n",
       "16  2015             Metroline              914\n",
       "36  2016             Metroline              864\n",
       "29  2016           East London              812\n",
       "..   ...                   ...              ...\n",
       "51  2017          H R Richmond               13\n",
       "61  2017             TGM GROUP                6\n",
       "39  2016        Sullivan Buses                2\n",
       "81  2018  Sullivan Bus & Coach                1\n",
       "63  2017             Uno Buses                1\n",
       "\n",
       "[83 rows x 3 columns]"
      ]
     },
     "execution_count": 52,
     "metadata": {},
     "output_type": "execute_result"
    }
   ],
   "source": [
    "# Data analysis using Python programming language\n",
    "operator_incidents = pd.DataFrame(df.groupby(['Year','Operator'])['Incident_Event_Type'].agg('count').reset_index(name='Total_Incidents')).sort_values(by=['Total_Incidents', 'Year'], ascending=False)\n",
    "operator_incidents"
   ]
  },
  {
   "cell_type": "code",
   "execution_count": 53,
   "id": "aa070f76",
   "metadata": {},
   "outputs": [
    {
     "name": "stdout",
     "output_type": "stream",
     "text": [
      "+----+-------------------+---------------+\n",
      "|Year|           Operator|Total_Incidents|\n",
      "+----+-------------------+---------------+\n",
      "|2017|Arriva London North|           1026|\n",
      "|2017|          Metroline|            940|\n",
      "|2015|          Metroline|            914|\n",
      "|2016|          Metroline|            864|\n",
      "|2016|        East London|            812|\n",
      "|2015|Arriva London North|            789|\n",
      "|2018|          Metroline|            739|\n",
      "|2018|Arriva London North|            737|\n",
      "|2015|      London United|            705|\n",
      "|2015|        East London|            681|\n",
      "|2016|Arriva London North|            656|\n",
      "|2017|        East London|            578|\n",
      "|2016|      London United|            577|\n",
      "|2017|            Selkent|            573|\n",
      "|2017|      London United|            518|\n",
      "|2016|            Selkent|            513|\n",
      "|2016|     London General|            504|\n",
      "|2015|Arriva London South|            482|\n",
      "|2018|            Selkent|            476|\n",
      "|2017|Arriva London South|            470|\n",
      "+----+-------------------+---------------+\n",
      "only showing top 20 rows\n",
      "\n"
     ]
    }
   ],
   "source": [
    "# Data analysis using SQL queries\n",
    "spark.sql(\"\"\"\n",
    "SELECT Year, Operator, COUNT(*) AS Total_Incidents\n",
    "FROM tb\n",
    "GROUP BY Year, Operator\n",
    "ORDER BY Total_Incidents DESC\n",
    "\"\"\").show()"
   ]
  },
  {
   "cell_type": "markdown",
   "id": "34b302b3",
   "metadata": {},
   "source": [
    "## 10 - Cyclists Incidents"
   ]
  },
  {
   "cell_type": "code",
   "execution_count": 54,
   "id": "0528d49d",
   "metadata": {},
   "outputs": [
    {
     "data": {
      "text/html": [
       "<div>\n",
       "<style scoped>\n",
       "    .dataframe tbody tr th:only-of-type {\n",
       "        vertical-align: middle;\n",
       "    }\n",
       "\n",
       "    .dataframe tbody tr th {\n",
       "        vertical-align: top;\n",
       "    }\n",
       "\n",
       "    .dataframe thead th {\n",
       "        text-align: right;\n",
       "    }\n",
       "</style>\n",
       "<table border=\"1\" class=\"dataframe\">\n",
       "  <thead>\n",
       "    <tr style=\"text-align: right;\">\n",
       "      <th></th>\n",
       "      <th>Incident_Event_Type</th>\n",
       "      <th>Total_Incidents</th>\n",
       "    </tr>\n",
       "  </thead>\n",
       "  <tbody>\n",
       "    <tr>\n",
       "      <th>0</th>\n",
       "      <td>Collision Incident</td>\n",
       "      <td>256</td>\n",
       "    </tr>\n",
       "    <tr>\n",
       "      <th>1</th>\n",
       "      <td>Onboard Injuries</td>\n",
       "      <td>4</td>\n",
       "    </tr>\n",
       "    <tr>\n",
       "      <th>2</th>\n",
       "      <td>Personal Injury</td>\n",
       "      <td>8</td>\n",
       "    </tr>\n",
       "    <tr>\n",
       "      <th>3</th>\n",
       "      <td>Slip Trip Fall</td>\n",
       "      <td>7</td>\n",
       "    </tr>\n",
       "  </tbody>\n",
       "</table>\n",
       "</div>"
      ],
      "text/plain": [
       "  Incident_Event_Type  Total_Incidents\n",
       "0  Collision Incident              256\n",
       "1    Onboard Injuries                4\n",
       "2     Personal Injury                8\n",
       "3      Slip Trip Fall                7"
      ]
     },
     "execution_count": 54,
     "metadata": {},
     "output_type": "execute_result"
    }
   ],
   "source": [
    "# Data analysis using Python programming language\n",
    "cyclist_incidents = pd.DataFrame(df[df['Victim_Category'] == 'Cyclist'].groupby('Incident_Event_Type')['Victim_Category'].count()).reset_index()\n",
    "cyclist_incidents.columns = ['Incident_Event_Type', 'Total_Incidents']\n",
    "cyclist_incidents"
   ]
  },
  {
   "cell_type": "code",
   "execution_count": 55,
   "id": "1285652d",
   "metadata": {},
   "outputs": [
    {
     "name": "stdout",
     "output_type": "stream",
     "text": [
      "+-------------------+------------------+\n",
      "|Incident_Event_Type|Cyclists_Incidents|\n",
      "+-------------------+------------------+\n",
      "| Collision Incident|               256|\n",
      "|    Personal Injury|                 8|\n",
      "|     Slip Trip Fall|                 7|\n",
      "|   Onboard Injuries|                 4|\n",
      "+-------------------+------------------+\n",
      "\n"
     ]
    }
   ],
   "source": [
    "# Data analysis using SQL queries\n",
    "spark.sql(\"\"\"\n",
    "SELECT Incident_Event_Type, COUNT(*) AS Cyclists_Incidents\n",
    "FROM tb\n",
    "WHERE Victim_Category = 'Cyclist'\n",
    "GROUP BY Incident_Event_Type\n",
    "ORDER BY Cyclists_Incidents DESC\n",
    "\"\"\").show()"
   ]
  },
  {
   "cell_type": "code",
   "execution_count": 56,
   "id": "e4e89d0c",
   "metadata": {},
   "outputs": [
    {
     "data": {
      "image/png": "[encoded data removed]",
      "text/plain": [
       "<Figure size 432x288 with 1 Axes>"
      ]
     },
     "metadata": {
      "needs_background": "light"
     },
     "output_type": "display_data"
    }
   ],
   "source": [
    "# Plotting\n",
    "ax = sns.barplot(x = cyclist_incidents['Total_Incidents'], y = cyclist_incidents['Incident_Event_Type'])\n",
    "ax.set_xlim(0,300)\n",
    "for i in ax.containers:\n",
    "    ax.bar_label(i,)"
   ]
  }
 ],
 "metadata": {
  "kernelspec": {
   "display_name": "Python 3 (ipykernel)",
   "language": "python",
   "name": "python3"
  },
  "language_info": {
   "codemirror_mode": {
    "name": "ipython",
    "version": 3
   },
   "file_extension": ".py",
   "mimetype": "text/x-python",
   "name": "python",
   "nbconvert_exporter": "python",
   "pygments_lexer": "ipython3",
   "version": "3.9.7"
  }
 },
 "nbformat": 4,
 "nbformat_minor": 5
}
