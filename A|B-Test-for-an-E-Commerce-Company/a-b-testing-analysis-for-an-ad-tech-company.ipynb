{
 "cells": [
  {
   "cell_type": "markdown",
   "id": "9bbedd95",
   "metadata": {
    "papermill": {
     "duration": 0.010927,
     "end_time": "2023-10-16T08:50:26.794948",
     "exception": false,
     "start_time": "2023-10-16T08:50:26.784021",
     "status": "completed"
    },
    "tags": []
   },
   "source": [
    "![Portada](https://socital.com/wp-content/uploads/2022/01/thumbnail-ab-testing.jpg)"
   ]
  },
  {
   "cell_type": "markdown",
   "id": "7916f48f",
   "metadata": {
    "papermill": {
     "duration": 0.010309,
     "end_time": "2023-10-16T08:50:26.816031",
     "exception": false,
     "start_time": "2023-10-16T08:50:26.805722",
     "status": "completed"
    },
    "tags": []
   },
   "source": [
    "# Project Background\n",
    "\n"
   ]
  },
  {
   "cell_type": "markdown",
   "id": "9f7383cd",
   "metadata": {
    "papermill": {
     "duration": 0.010372,
     "end_time": "2023-10-16T08:50:26.838451",
     "exception": false,
     "start_time": "2023-10-16T08:50:26.828079",
     "status": "completed"
    },
    "tags": []
   },
   "source": [
    "An impression bidding model, in the context of online advertising and digital marketing, refers to the strategy used by advertisers and advertising platforms to determine how much they are willing to pay to have their ad displayed to a specific user when that user visits a website or application. This process is fundamental to the purchase of online advertising space and the optimization of advertising campaigns. Given the previous information, the case of a company is presented as follows. \n",
    "\n",
    "An advertising technology company recently introduced a new impression bidding model for their online advertising campaigns, Average Bidding, as an alternative to their existing bidding model, Maximum Bidding. A client running a retargeting advertising campaign (advertising targeted to people who have previously interacted with your brand) using the Maximum Bidding model has decided to test this new bidding model and wants to **conduct an A/B test to understand if Average Bidding performs better than Maximum Bidding**. However, what is an AB test? \n",
    "\n",
    "An **AB test** is a type of randomized control experiment used in the field of research and data analysis to compare two different versions of something, such as a website, a mobile application or an advertising campaign, in order to determine which of the two performs better in terms of predefined objectives. Typically, a group of users is divided into two subgroups: group A and group B. Each group is shown one of the two versions (A or B), and then data is collected to evaluate how they perform. Based on the results of the AB test and the comparison of the groups, an informed decision is made as to which variant is the most effective.\n",
    "\n",
    "In our case, the change being measured is not a user-facing change but the two bidding model versions. They have been tested during a month, measuring a set of specific metrics on a daily basis:\n",
    "\n",
    "* `Campaign Name` - It refers to the control and experiment campaigns.\n",
    "* `Date` - day on which the test was performed.\n",
    "* `Spend [USD]` - The money spent.\n",
    "* `# of Impressions` - Number of times an ad appears in front of a user's sight.\n",
    "* `Reach` - Number of unique users who saw an ad.\n",
    "* `# of Website Clicks` - Number of clicks in the website link of the advertisement.\n",
    "* `# of Searches` - Number of searches performed on the website. \n",
    "* `# of View Content` - Number of times visitors watch the details of a product.\n",
    "* `# of Add to Cart` - Number of sessions where an item was added to the cart through the cart button.\n",
    "* `# of Purchase` - Number of times that customers make a purchase.\n",
    "\n",
    "Now that we have all the data, the customer wants to know if average bidding brings more conversions than maximum bidding. Taking into account the variables that have been measured throughout the experiment, we can use the following metrics to find out which bidding model is better:\n",
    "\n",
    "* `Click-Through Rate (CTR)` - Helps measure the effectiveness of ads in attracting clicks.\n",
    "\n",
    "> CTR = (# of Website Clicks / # of Impressions)\n",
    "\n",
    "* `Conversion Rate (CR)` - Shows what percentage of visitors who clicked on the ad actually made a purchase.\n",
    "\n",
    "> CR = (# of Purchase / # of Website Clicks)\n",
    "\n",
    "* `Cost Per Click (CPC)` - It allows you to evaluate the efficiency of advertising expenses to generate clicks.\n",
    "\n",
    "> CPC = (Spend [USD] / # of Website Clicks)\n",
    "\n",
    "* `Cost Per Acquisition (CPA)` - Refers to the average cost a company pays to acquire a new customer or a desired conversion, in this case it will be a purchase, through its marketing or advertising strategy.\n",
    "\n",
    "> CPA = (Spend [USD] / # of Purchase)\n",
    "\n",
    "Hence, there are some columns that are not necessary for the analysis as they are not required to calculate any of these metrics. Therefore, they will be removed from the model later on.\n",
    "\n",
    "Now, prior to the EDA and the AB test, I will define the hypothesis and significance level for this study in order to avoid p-hacking and ensure the integrity of the statistical analysis. P-hacking refers to the manipulation of data and analysis to obtain significant results in an unfair or biased manner.\n",
    "\n",
    "* **Null Hypothesis (H0):** There is no difference in performance between Average Bidding and Maximum Bidding.\n",
    "* **Alternative Hypothesis (H1):** There is a significant difference in performance between Average Bidding and Maximum Bidding.\n",
    "\n",
    "These hypotheses will be tested for each proposed metric at **0.05 significance level**. That is, 4 tests will be performed simultaneously."
   ]
  },
  {
   "cell_type": "markdown",
   "id": "e66b0eec",
   "metadata": {
    "papermill": {
     "duration": 0.010246,
     "end_time": "2023-10-16T08:50:26.859309",
     "exception": false,
     "start_time": "2023-10-16T08:50:26.849063",
     "status": "completed"
    },
    "tags": []
   },
   "source": [
    "# Importing Libraries"
   ]
  },
  {
   "cell_type": "code",
   "execution_count": 1,
   "id": "45ec7679",
   "metadata": {
    "execution": {
     "iopub.execute_input": "2023-10-16T08:50:26.882412Z",
     "iopub.status.busy": "2023-10-16T08:50:26.881938Z",
     "iopub.status.idle": "2023-10-16T08:50:26.891172Z",
     "shell.execute_reply": "2023-10-16T08:50:26.890299Z"
    },
    "papermill": {
     "duration": 0.023669,
     "end_time": "2023-10-16T08:50:26.893518",
     "exception": false,
     "start_time": "2023-10-16T08:50:26.869849",
     "status": "completed"
    },
    "tags": []
   },
   "outputs": [],
   "source": [
    "# Suppressing warnings\n",
    "import warnings\n",
    "warnings.filterwarnings('ignore')"
   ]
  },
  {
   "cell_type": "code",
   "execution_count": 2,
   "id": "953a3db3",
   "metadata": {
    "execution": {
     "iopub.execute_input": "2023-10-16T08:50:26.917062Z",
     "iopub.status.busy": "2023-10-16T08:50:26.916640Z",
     "iopub.status.idle": "2023-10-16T08:50:40.897824Z",
     "shell.execute_reply": "2023-10-16T08:50:40.896535Z"
    },
    "papermill": {
     "duration": 13.996109,
     "end_time": "2023-10-16T08:50:40.900288",
     "exception": false,
     "start_time": "2023-10-16T08:50:26.904179",
     "status": "completed"
    },
    "tags": []
   },
   "outputs": [
    {
     "name": "stdout",
     "output_type": "stream",
     "text": [
      "Collecting pingouin\r\n",
      "  Downloading pingouin-0.5.3-py3-none-any.whl (198 kB)\r\n",
      "\u001b[2K     \u001b[90m━━━━━━━━━━━━━━━━━━━━━━━━━━━━━━━━━━━━━━━\u001b[0m \u001b[32m198.6/198.6 kB\u001b[0m \u001b[31m4.9 MB/s\u001b[0m eta \u001b[36m0:00:00\u001b[0m\r\n",
      "\u001b[?25hRequirement already satisfied: numpy>=1.19 in /opt/conda/lib/python3.10/site-packages (from pingouin) (1.23.5)\r\n",
      "Requirement already satisfied: scipy>=1.7 in /opt/conda/lib/python3.10/site-packages (from pingouin) (1.11.1)\r\n",
      "Requirement already satisfied: pandas>=1.0 in /opt/conda/lib/python3.10/site-packages (from pingouin) (1.5.3)\r\n",
      "Requirement already satisfied: matplotlib>=3.0.2 in /opt/conda/lib/python3.10/site-packages (from pingouin) (3.7.1)\r\n",
      "Requirement already satisfied: seaborn>=0.11 in /opt/conda/lib/python3.10/site-packages (from pingouin) (0.12.2)\r\n",
      "Requirement already satisfied: statsmodels>=0.13 in /opt/conda/lib/python3.10/site-packages (from pingouin) (0.14.0)\r\n",
      "Requirement already satisfied: scikit-learn in /opt/conda/lib/python3.10/site-packages (from pingouin) (1.2.2)\r\n",
      "Collecting pandas-flavor>=0.2.0 (from pingouin)\r\n",
      "  Downloading pandas_flavor-0.6.0-py3-none-any.whl (7.2 kB)\r\n",
      "Collecting outdated (from pingouin)\r\n",
      "  Downloading outdated-0.2.2-py2.py3-none-any.whl (7.5 kB)\r\n",
      "Requirement already satisfied: tabulate in /opt/conda/lib/python3.10/site-packages (from pingouin) (0.9.0)\r\n",
      "Requirement already satisfied: contourpy>=1.0.1 in /opt/conda/lib/python3.10/site-packages (from matplotlib>=3.0.2->pingouin) (1.1.0)\r\n",
      "Requirement already satisfied: cycler>=0.10 in /opt/conda/lib/python3.10/site-packages (from matplotlib>=3.0.2->pingouin) (0.11.0)\r\n",
      "Requirement already satisfied: fonttools>=4.22.0 in /opt/conda/lib/python3.10/site-packages (from matplotlib>=3.0.2->pingouin) (4.40.0)\r\n",
      "Requirement already satisfied: kiwisolver>=1.0.1 in /opt/conda/lib/python3.10/site-packages (from matplotlib>=3.0.2->pingouin) (1.4.4)\r\n",
      "Requirement already satisfied: packaging>=20.0 in /opt/conda/lib/python3.10/site-packages (from matplotlib>=3.0.2->pingouin) (21.3)\r\n",
      "Requirement already satisfied: pillow>=6.2.0 in /opt/conda/lib/python3.10/site-packages (from matplotlib>=3.0.2->pingouin) (9.5.0)\r\n",
      "Requirement already satisfied: pyparsing>=2.3.1 in /opt/conda/lib/python3.10/site-packages (from matplotlib>=3.0.2->pingouin) (3.0.9)\r\n",
      "Requirement already satisfied: python-dateutil>=2.7 in /opt/conda/lib/python3.10/site-packages (from matplotlib>=3.0.2->pingouin) (2.8.2)\r\n",
      "Requirement already satisfied: pytz>=2020.1 in /opt/conda/lib/python3.10/site-packages (from pandas>=1.0->pingouin) (2023.3)\r\n",
      "Requirement already satisfied: xarray in /opt/conda/lib/python3.10/site-packages (from pandas-flavor>=0.2.0->pingouin) (2023.6.0)\r\n",
      "Requirement already satisfied: patsy>=0.5.2 in /opt/conda/lib/python3.10/site-packages (from statsmodels>=0.13->pingouin) (0.5.3)\r\n",
      "Requirement already satisfied: setuptools>=44 in /opt/conda/lib/python3.10/site-packages (from outdated->pingouin) (59.8.0)\r\n",
      "Collecting littleutils (from outdated->pingouin)\r\n",
      "  Downloading littleutils-0.2.2.tar.gz (6.6 kB)\r\n",
      "  Preparing metadata (setup.py) ... \u001b[?25l-\b \bdone\r\n",
      "\u001b[?25hRequirement already satisfied: requests in /opt/conda/lib/python3.10/site-packages (from outdated->pingouin) (2.31.0)\r\n",
      "Requirement already satisfied: joblib>=1.1.1 in /opt/conda/lib/python3.10/site-packages (from scikit-learn->pingouin) (1.2.0)\r\n",
      "Requirement already satisfied: threadpoolctl>=2.0.0 in /opt/conda/lib/python3.10/site-packages (from scikit-learn->pingouin) (3.1.0)\r\n",
      "Requirement already satisfied: six in /opt/conda/lib/python3.10/site-packages (from patsy>=0.5.2->statsmodels>=0.13->pingouin) (1.16.0)\r\n",
      "Requirement already satisfied: charset-normalizer<4,>=2 in /opt/conda/lib/python3.10/site-packages (from requests->outdated->pingouin) (3.1.0)\r\n",
      "Requirement already satisfied: idna<4,>=2.5 in /opt/conda/lib/python3.10/site-packages (from requests->outdated->pingouin) (3.4)\r\n",
      "Requirement already satisfied: urllib3<3,>=1.21.1 in /opt/conda/lib/python3.10/site-packages (from requests->outdated->pingouin) (1.26.15)\r\n",
      "Requirement already satisfied: certifi>=2017.4.17 in /opt/conda/lib/python3.10/site-packages (from requests->outdated->pingouin) (2023.5.7)\r\n",
      "Building wheels for collected packages: littleutils\r\n",
      "  Building wheel for littleutils (setup.py) ... \u001b[?25l-\b \b\\\b \bdone\r\n",
      "\u001b[?25h  Created wheel for littleutils: filename=littleutils-0.2.2-py3-none-any.whl size=7048 sha256=34c6fd716f33ef5e775f0b78c12d399f1904730f75e427c744dcba4ac4a8dabc\r\n",
      "  Stored in directory: /root/.cache/pip/wheels/3d/fe/b0/27a9892da57472e538c7452a721a9cf463cc03cf7379889266\r\n",
      "Successfully built littleutils\r\n",
      "Installing collected packages: littleutils, outdated, pandas-flavor, pingouin\r\n",
      "Successfully installed littleutils-0.2.2 outdated-0.2.2 pandas-flavor-0.6.0 pingouin-0.5.3\r\n"
     ]
    }
   ],
   "source": [
    "# Install pingouin library\n",
    "!pip install pingouin"
   ]
  },
  {
   "cell_type": "code",
   "execution_count": 3,
   "id": "75152696",
   "metadata": {
    "execution": {
     "iopub.execute_input": "2023-10-16T08:50:40.928414Z",
     "iopub.status.busy": "2023-10-16T08:50:40.927238Z",
     "iopub.status.idle": "2023-10-16T08:50:42.646227Z",
     "shell.execute_reply": "2023-10-16T08:50:42.645110Z"
    },
    "papermill": {
     "duration": 1.735359,
     "end_time": "2023-10-16T08:50:42.648508",
     "exception": false,
     "start_time": "2023-10-16T08:50:40.913149",
     "status": "completed"
    },
    "tags": []
   },
   "outputs": [],
   "source": [
    "# Importing libraries\n",
    "import pandas as pd\n",
    "import numpy as np\n",
    "import matplotlib.pyplot as plt\n",
    "import seaborn as sns\n",
    "from scipy.stats import shapiro\n",
    "import pingouin\n",
    "\n",
    "%matplotlib inline"
   ]
  },
  {
   "cell_type": "markdown",
   "id": "0f12e25a",
   "metadata": {
    "papermill": {
     "duration": 0.015417,
     "end_time": "2023-10-16T08:50:42.676708",
     "exception": false,
     "start_time": "2023-10-16T08:50:42.661291",
     "status": "completed"
    },
    "tags": []
   },
   "source": [
    "# Data Preparation"
   ]
  },
  {
   "cell_type": "markdown",
   "id": "c0f0a040",
   "metadata": {
    "papermill": {
     "duration": 0.019818,
     "end_time": "2023-10-16T08:50:42.719142",
     "exception": false,
     "start_time": "2023-10-16T08:50:42.699324",
     "status": "completed"
    },
    "tags": []
   },
   "source": [
    "## Data Loading"
   ]
  },
  {
   "cell_type": "markdown",
   "id": "90f2e04b",
   "metadata": {
    "papermill": {
     "duration": 0.012959,
     "end_time": "2023-10-16T08:50:42.744717",
     "exception": false,
     "start_time": "2023-10-16T08:50:42.731758",
     "status": "completed"
    },
    "tags": []
   },
   "source": [
    "To load the data I will use the read_csv function of the pandas library. Note that the delimiter of the tables in this case is the semicolon, and not the comma as usual. That is why the delimiter argument is specified in the function."
   ]
  },
  {
   "cell_type": "code",
   "execution_count": 4,
   "id": "dc9c5481",
   "metadata": {
    "execution": {
     "iopub.execute_input": "2023-10-16T08:50:42.772228Z",
     "iopub.status.busy": "2023-10-16T08:50:42.771881Z",
     "iopub.status.idle": "2023-10-16T08:50:42.792932Z",
     "shell.execute_reply": "2023-10-16T08:50:42.791947Z"
    },
    "papermill": {
     "duration": 0.037378,
     "end_time": "2023-10-16T08:50:42.795319",
     "exception": false,
     "start_time": "2023-10-16T08:50:42.757941",
     "status": "completed"
    },
    "tags": []
   },
   "outputs": [],
   "source": [
    "# Convert each csv to dataframe\n",
    "test = pd.read_csv('/kaggle/input/example-dataset-for-ab-test/test_group.csv', delimiter = ';')\n",
    "control = pd.read_csv('/kaggle/input/example-dataset-for-ab-test/control_group.csv', delimiter = ';')"
   ]
  },
  {
   "cell_type": "code",
   "execution_count": 5,
   "id": "aef23382",
   "metadata": {
    "execution": {
     "iopub.execute_input": "2023-10-16T08:50:42.825915Z",
     "iopub.status.busy": "2023-10-16T08:50:42.824986Z",
     "iopub.status.idle": "2023-10-16T08:50:42.855139Z",
     "shell.execute_reply": "2023-10-16T08:50:42.853959Z"
    },
    "papermill": {
     "duration": 0.048178,
     "end_time": "2023-10-16T08:50:42.857576",
     "exception": false,
     "start_time": "2023-10-16T08:50:42.809398",
     "status": "completed"
    },
    "tags": []
   },
   "outputs": [
    {
     "data": {
      "text/html": [
       "<div>\n",
       "<style scoped>\n",
       "    .dataframe tbody tr th:only-of-type {\n",
       "        vertical-align: middle;\n",
       "    }\n",
       "\n",
       "    .dataframe tbody tr th {\n",
       "        vertical-align: top;\n",
       "    }\n",
       "\n",
       "    .dataframe thead th {\n",
       "        text-align: right;\n",
       "    }\n",
       "</style>\n",
       "<table border=\"1\" class=\"dataframe\">\n",
       "  <thead>\n",
       "    <tr style=\"text-align: right;\">\n",
       "      <th></th>\n",
       "      <th>Campaign Name</th>\n",
       "      <th>Date</th>\n",
       "      <th>Spend [USD]</th>\n",
       "      <th># of Impressions</th>\n",
       "      <th>Reach</th>\n",
       "      <th># of Website Clicks</th>\n",
       "      <th># of Searches</th>\n",
       "      <th># of View Content</th>\n",
       "      <th># of Add to Cart</th>\n",
       "      <th># of Purchase</th>\n",
       "    </tr>\n",
       "  </thead>\n",
       "  <tbody>\n",
       "    <tr>\n",
       "      <th>0</th>\n",
       "      <td>Test Campaign</td>\n",
       "      <td>1.08.2019</td>\n",
       "      <td>3008</td>\n",
       "      <td>39550</td>\n",
       "      <td>35820</td>\n",
       "      <td>3038</td>\n",
       "      <td>1946</td>\n",
       "      <td>1069</td>\n",
       "      <td>894</td>\n",
       "      <td>255</td>\n",
       "    </tr>\n",
       "    <tr>\n",
       "      <th>1</th>\n",
       "      <td>Test Campaign</td>\n",
       "      <td>2.08.2019</td>\n",
       "      <td>2542</td>\n",
       "      <td>100719</td>\n",
       "      <td>91236</td>\n",
       "      <td>4657</td>\n",
       "      <td>2359</td>\n",
       "      <td>1548</td>\n",
       "      <td>879</td>\n",
       "      <td>677</td>\n",
       "    </tr>\n",
       "    <tr>\n",
       "      <th>2</th>\n",
       "      <td>Test Campaign</td>\n",
       "      <td>3.08.2019</td>\n",
       "      <td>2365</td>\n",
       "      <td>70263</td>\n",
       "      <td>45198</td>\n",
       "      <td>7885</td>\n",
       "      <td>2572</td>\n",
       "      <td>2367</td>\n",
       "      <td>1268</td>\n",
       "      <td>578</td>\n",
       "    </tr>\n",
       "    <tr>\n",
       "      <th>3</th>\n",
       "      <td>Test Campaign</td>\n",
       "      <td>4.08.2019</td>\n",
       "      <td>2710</td>\n",
       "      <td>78451</td>\n",
       "      <td>25937</td>\n",
       "      <td>4216</td>\n",
       "      <td>2216</td>\n",
       "      <td>1437</td>\n",
       "      <td>566</td>\n",
       "      <td>340</td>\n",
       "    </tr>\n",
       "    <tr>\n",
       "      <th>4</th>\n",
       "      <td>Test Campaign</td>\n",
       "      <td>5.08.2019</td>\n",
       "      <td>2297</td>\n",
       "      <td>114295</td>\n",
       "      <td>95138</td>\n",
       "      <td>5863</td>\n",
       "      <td>2106</td>\n",
       "      <td>858</td>\n",
       "      <td>956</td>\n",
       "      <td>768</td>\n",
       "    </tr>\n",
       "  </tbody>\n",
       "</table>\n",
       "</div>"
      ],
      "text/plain": [
       "   Campaign Name       Date  Spend [USD]  # of Impressions  Reach  \\\n",
       "0  Test Campaign  1.08.2019         3008             39550  35820   \n",
       "1  Test Campaign  2.08.2019         2542            100719  91236   \n",
       "2  Test Campaign  3.08.2019         2365             70263  45198   \n",
       "3  Test Campaign  4.08.2019         2710             78451  25937   \n",
       "4  Test Campaign  5.08.2019         2297            114295  95138   \n",
       "\n",
       "   # of Website Clicks  # of Searches  # of View Content  # of Add to Cart  \\\n",
       "0                 3038           1946               1069               894   \n",
       "1                 4657           2359               1548               879   \n",
       "2                 7885           2572               2367              1268   \n",
       "3                 4216           2216               1437               566   \n",
       "4                 5863           2106                858               956   \n",
       "\n",
       "   # of Purchase  \n",
       "0            255  \n",
       "1            677  \n",
       "2            578  \n",
       "3            340  \n",
       "4            768  "
      ]
     },
     "execution_count": 5,
     "metadata": {},
     "output_type": "execute_result"
    }
   ],
   "source": [
    "# Show first rows of test dataframe\n",
    "test.head()"
   ]
  },
  {
   "cell_type": "code",
   "execution_count": 6,
   "id": "833e9991",
   "metadata": {
    "execution": {
     "iopub.execute_input": "2023-10-16T08:50:42.884034Z",
     "iopub.status.busy": "2023-10-16T08:50:42.883655Z",
     "iopub.status.idle": "2023-10-16T08:50:42.900205Z",
     "shell.execute_reply": "2023-10-16T08:50:42.899425Z"
    },
    "papermill": {
     "duration": 0.032691,
     "end_time": "2023-10-16T08:50:42.902672",
     "exception": false,
     "start_time": "2023-10-16T08:50:42.869981",
     "status": "completed"
    },
    "tags": []
   },
   "outputs": [
    {
     "data": {
      "text/html": [
       "<div>\n",
       "<style scoped>\n",
       "    .dataframe tbody tr th:only-of-type {\n",
       "        vertical-align: middle;\n",
       "    }\n",
       "\n",
       "    .dataframe tbody tr th {\n",
       "        vertical-align: top;\n",
       "    }\n",
       "\n",
       "    .dataframe thead th {\n",
       "        text-align: right;\n",
       "    }\n",
       "</style>\n",
       "<table border=\"1\" class=\"dataframe\">\n",
       "  <thead>\n",
       "    <tr style=\"text-align: right;\">\n",
       "      <th></th>\n",
       "      <th>Campaign Name</th>\n",
       "      <th>Date</th>\n",
       "      <th>Spend [USD]</th>\n",
       "      <th># of Impressions</th>\n",
       "      <th>Reach</th>\n",
       "      <th># of Website Clicks</th>\n",
       "      <th># of Searches</th>\n",
       "      <th># of View Content</th>\n",
       "      <th># of Add to Cart</th>\n",
       "      <th># of Purchase</th>\n",
       "    </tr>\n",
       "  </thead>\n",
       "  <tbody>\n",
       "    <tr>\n",
       "      <th>0</th>\n",
       "      <td>Control Campaign</td>\n",
       "      <td>1.08.2019</td>\n",
       "      <td>2280</td>\n",
       "      <td>82702.0</td>\n",
       "      <td>56930.0</td>\n",
       "      <td>7016.0</td>\n",
       "      <td>2290.0</td>\n",
       "      <td>2159.0</td>\n",
       "      <td>1819.0</td>\n",
       "      <td>618.0</td>\n",
       "    </tr>\n",
       "    <tr>\n",
       "      <th>1</th>\n",
       "      <td>Control Campaign</td>\n",
       "      <td>2.08.2019</td>\n",
       "      <td>1757</td>\n",
       "      <td>121040.0</td>\n",
       "      <td>102513.0</td>\n",
       "      <td>8110.0</td>\n",
       "      <td>2033.0</td>\n",
       "      <td>1841.0</td>\n",
       "      <td>1219.0</td>\n",
       "      <td>511.0</td>\n",
       "    </tr>\n",
       "    <tr>\n",
       "      <th>2</th>\n",
       "      <td>Control Campaign</td>\n",
       "      <td>3.08.2019</td>\n",
       "      <td>2343</td>\n",
       "      <td>131711.0</td>\n",
       "      <td>110862.0</td>\n",
       "      <td>6508.0</td>\n",
       "      <td>1737.0</td>\n",
       "      <td>1549.0</td>\n",
       "      <td>1134.0</td>\n",
       "      <td>372.0</td>\n",
       "    </tr>\n",
       "    <tr>\n",
       "      <th>3</th>\n",
       "      <td>Control Campaign</td>\n",
       "      <td>4.08.2019</td>\n",
       "      <td>1940</td>\n",
       "      <td>72878.0</td>\n",
       "      <td>61235.0</td>\n",
       "      <td>3065.0</td>\n",
       "      <td>1042.0</td>\n",
       "      <td>982.0</td>\n",
       "      <td>1183.0</td>\n",
       "      <td>340.0</td>\n",
       "    </tr>\n",
       "    <tr>\n",
       "      <th>4</th>\n",
       "      <td>Control Campaign</td>\n",
       "      <td>5.08.2019</td>\n",
       "      <td>1835</td>\n",
       "      <td>NaN</td>\n",
       "      <td>NaN</td>\n",
       "      <td>NaN</td>\n",
       "      <td>NaN</td>\n",
       "      <td>NaN</td>\n",
       "      <td>NaN</td>\n",
       "      <td>NaN</td>\n",
       "    </tr>\n",
       "  </tbody>\n",
       "</table>\n",
       "</div>"
      ],
      "text/plain": [
       "      Campaign Name       Date  Spend [USD]  # of Impressions     Reach  \\\n",
       "0  Control Campaign  1.08.2019         2280           82702.0   56930.0   \n",
       "1  Control Campaign  2.08.2019         1757          121040.0  102513.0   \n",
       "2  Control Campaign  3.08.2019         2343          131711.0  110862.0   \n",
       "3  Control Campaign  4.08.2019         1940           72878.0   61235.0   \n",
       "4  Control Campaign  5.08.2019         1835               NaN       NaN   \n",
       "\n",
       "   # of Website Clicks  # of Searches  # of View Content  # of Add to Cart  \\\n",
       "0               7016.0         2290.0             2159.0            1819.0   \n",
       "1               8110.0         2033.0             1841.0            1219.0   \n",
       "2               6508.0         1737.0             1549.0            1134.0   \n",
       "3               3065.0         1042.0              982.0            1183.0   \n",
       "4                  NaN            NaN                NaN               NaN   \n",
       "\n",
       "   # of Purchase  \n",
       "0          618.0  \n",
       "1          511.0  \n",
       "2          372.0  \n",
       "3          340.0  \n",
       "4            NaN  "
      ]
     },
     "execution_count": 6,
     "metadata": {},
     "output_type": "execute_result"
    }
   ],
   "source": [
    "# Show first rows of control dataframe\n",
    "control.head()"
   ]
  },
  {
   "cell_type": "markdown",
   "id": "ea856e47",
   "metadata": {
    "papermill": {
     "duration": 0.012305,
     "end_time": "2023-10-16T08:50:42.927729",
     "exception": false,
     "start_time": "2023-10-16T08:50:42.915424",
     "status": "completed"
    },
    "tags": []
   },
   "source": [
    "Looking at the tables, it can be seen that data have been recorded for the same variables in both groups. To facilitate the exploration, cleaning and analysis of the information, both tables will be joined in the following section."
   ]
  },
  {
   "cell_type": "markdown",
   "id": "1ac8d655",
   "metadata": {
    "papermill": {
     "duration": 0.012327,
     "end_time": "2023-10-16T08:50:42.952738",
     "exception": false,
     "start_time": "2023-10-16T08:50:42.940411",
     "status": "completed"
    },
    "tags": []
   },
   "source": [
    "## Data merging\n",
    "\n",
    "As the tables contain the same information for two different groups (test and control), the join will not be horizontal but vertical. That is, I will not attach them using joins but I will concatenate one to the other to form a longer table."
   ]
  },
  {
   "cell_type": "code",
   "execution_count": 7,
   "id": "36f20e68",
   "metadata": {
    "execution": {
     "iopub.execute_input": "2023-10-16T08:50:42.980274Z",
     "iopub.status.busy": "2023-10-16T08:50:42.979678Z",
     "iopub.status.idle": "2023-10-16T08:50:42.986704Z",
     "shell.execute_reply": "2023-10-16T08:50:42.985526Z"
    },
    "papermill": {
     "duration": 0.023277,
     "end_time": "2023-10-16T08:50:42.988741",
     "exception": false,
     "start_time": "2023-10-16T08:50:42.965464",
     "status": "completed"
    },
    "tags": []
   },
   "outputs": [],
   "source": [
    "# Concatenate the tables in a new dataframe\n",
    "df = pd.concat([test, control], axis = 0)\n",
    "\n",
    "# Reset the index\n",
    "df = df.reset_index(drop = True)"
   ]
  },
  {
   "cell_type": "code",
   "execution_count": 8,
   "id": "c48eb8b1",
   "metadata": {
    "execution": {
     "iopub.execute_input": "2023-10-16T08:50:43.015929Z",
     "iopub.status.busy": "2023-10-16T08:50:43.014846Z",
     "iopub.status.idle": "2023-10-16T08:50:43.029261Z",
     "shell.execute_reply": "2023-10-16T08:50:43.028007Z"
    },
    "papermill": {
     "duration": 0.03025,
     "end_time": "2023-10-16T08:50:43.031556",
     "exception": false,
     "start_time": "2023-10-16T08:50:43.001306",
     "status": "completed"
    },
    "tags": []
   },
   "outputs": [
    {
     "data": {
      "text/plain": [
       "1.0"
      ]
     },
     "execution_count": 8,
     "metadata": {},
     "output_type": "execute_result"
    }
   ],
   "source": [
    "# Check if both groups are in the new dataframe\n",
    "df['Campaign Name'].isin(['Control Campaign', 'Test Campaign']).mean()"
   ]
  },
  {
   "cell_type": "markdown",
   "id": "b2173260",
   "metadata": {
    "papermill": {
     "duration": 0.012189,
     "end_time": "2023-10-16T08:50:43.056217",
     "exception": false,
     "start_time": "2023-10-16T08:50:43.044028",
     "status": "completed"
    },
    "tags": []
   },
   "source": [
    "All values in the column 'Campaign Name' (1.0 = 100%) have either 'Control Campaign' or 'Test Campaign' value, so both tables have been joined correctly. Before continuing I will eliminate those numeric columns that are not necessary for the analysis, as they are not needed to calculate the metrics that will be contrasted with the hypothesis test, as I indicated at the beginning of the notebook. These columns are 'Reach', '# of Searches', '# of View Content' and '# of Add to Cart'."
   ]
  },
  {
   "cell_type": "code",
   "execution_count": 9,
   "id": "9b4b2eeb",
   "metadata": {
    "execution": {
     "iopub.execute_input": "2023-10-16T08:50:43.083528Z",
     "iopub.status.busy": "2023-10-16T08:50:43.082827Z",
     "iopub.status.idle": "2023-10-16T08:50:43.093610Z",
     "shell.execute_reply": "2023-10-16T08:50:43.092419Z"
    },
    "papermill": {
     "duration": 0.027192,
     "end_time": "2023-10-16T08:50:43.096133",
     "exception": false,
     "start_time": "2023-10-16T08:50:43.068941",
     "status": "completed"
    },
    "tags": []
   },
   "outputs": [],
   "source": [
    "# Drop not required columns \n",
    "df.drop(['Reach', '# of Searches', '# of View Content', '# of Add to Cart'], axis=1, inplace=True)"
   ]
  },
  {
   "cell_type": "markdown",
   "id": "18ee373c",
   "metadata": {
    "papermill": {
     "duration": 0.012228,
     "end_time": "2023-10-16T08:50:43.120977",
     "exception": false,
     "start_time": "2023-10-16T08:50:43.108749",
     "status": "completed"
    },
    "tags": []
   },
   "source": [
    "# Initial Exploration"
   ]
  },
  {
   "cell_type": "code",
   "execution_count": 10,
   "id": "c030d593",
   "metadata": {
    "execution": {
     "iopub.execute_input": "2023-10-16T08:50:43.148658Z",
     "iopub.status.busy": "2023-10-16T08:50:43.147799Z",
     "iopub.status.idle": "2023-10-16T08:50:43.161483Z",
     "shell.execute_reply": "2023-10-16T08:50:43.160347Z"
    },
    "papermill": {
     "duration": 0.03028,
     "end_time": "2023-10-16T08:50:43.163827",
     "exception": false,
     "start_time": "2023-10-16T08:50:43.133547",
     "status": "completed"
    },
    "tags": []
   },
   "outputs": [
    {
     "data": {
      "text/html": [
       "<div>\n",
       "<style scoped>\n",
       "    .dataframe tbody tr th:only-of-type {\n",
       "        vertical-align: middle;\n",
       "    }\n",
       "\n",
       "    .dataframe tbody tr th {\n",
       "        vertical-align: top;\n",
       "    }\n",
       "\n",
       "    .dataframe thead th {\n",
       "        text-align: right;\n",
       "    }\n",
       "</style>\n",
       "<table border=\"1\" class=\"dataframe\">\n",
       "  <thead>\n",
       "    <tr style=\"text-align: right;\">\n",
       "      <th></th>\n",
       "      <th>Campaign Name</th>\n",
       "      <th>Date</th>\n",
       "      <th>Spend [USD]</th>\n",
       "      <th># of Impressions</th>\n",
       "      <th># of Website Clicks</th>\n",
       "      <th># of Purchase</th>\n",
       "    </tr>\n",
       "  </thead>\n",
       "  <tbody>\n",
       "    <tr>\n",
       "      <th>0</th>\n",
       "      <td>Test Campaign</td>\n",
       "      <td>1.08.2019</td>\n",
       "      <td>3008</td>\n",
       "      <td>39550.0</td>\n",
       "      <td>3038.0</td>\n",
       "      <td>255.0</td>\n",
       "    </tr>\n",
       "    <tr>\n",
       "      <th>1</th>\n",
       "      <td>Test Campaign</td>\n",
       "      <td>2.08.2019</td>\n",
       "      <td>2542</td>\n",
       "      <td>100719.0</td>\n",
       "      <td>4657.0</td>\n",
       "      <td>677.0</td>\n",
       "    </tr>\n",
       "    <tr>\n",
       "      <th>2</th>\n",
       "      <td>Test Campaign</td>\n",
       "      <td>3.08.2019</td>\n",
       "      <td>2365</td>\n",
       "      <td>70263.0</td>\n",
       "      <td>7885.0</td>\n",
       "      <td>578.0</td>\n",
       "    </tr>\n",
       "    <tr>\n",
       "      <th>3</th>\n",
       "      <td>Test Campaign</td>\n",
       "      <td>4.08.2019</td>\n",
       "      <td>2710</td>\n",
       "      <td>78451.0</td>\n",
       "      <td>4216.0</td>\n",
       "      <td>340.0</td>\n",
       "    </tr>\n",
       "    <tr>\n",
       "      <th>4</th>\n",
       "      <td>Test Campaign</td>\n",
       "      <td>5.08.2019</td>\n",
       "      <td>2297</td>\n",
       "      <td>114295.0</td>\n",
       "      <td>5863.0</td>\n",
       "      <td>768.0</td>\n",
       "    </tr>\n",
       "  </tbody>\n",
       "</table>\n",
       "</div>"
      ],
      "text/plain": [
       "   Campaign Name       Date  Spend [USD]  # of Impressions  \\\n",
       "0  Test Campaign  1.08.2019         3008           39550.0   \n",
       "1  Test Campaign  2.08.2019         2542          100719.0   \n",
       "2  Test Campaign  3.08.2019         2365           70263.0   \n",
       "3  Test Campaign  4.08.2019         2710           78451.0   \n",
       "4  Test Campaign  5.08.2019         2297          114295.0   \n",
       "\n",
       "   # of Website Clicks  # of Purchase  \n",
       "0               3038.0          255.0  \n",
       "1               4657.0          677.0  \n",
       "2               7885.0          578.0  \n",
       "3               4216.0          340.0  \n",
       "4               5863.0          768.0  "
      ]
     },
     "execution_count": 10,
     "metadata": {},
     "output_type": "execute_result"
    }
   ],
   "source": [
    "# Show first rows of the data\n",
    "df.head()"
   ]
  },
  {
   "cell_type": "markdown",
   "id": "e31ad31c",
   "metadata": {
    "papermill": {
     "duration": 0.012615,
     "end_time": "2023-10-16T08:50:43.189351",
     "exception": false,
     "start_time": "2023-10-16T08:50:43.176736",
     "status": "completed"
    },
    "tags": []
   },
   "source": [
    "The structure of the new dataframe remains the same as we saw when I imported the data, except that it now contains the records of both groups and the unneeded columns have been removed to facilitate exploration and analysis."
   ]
  },
  {
   "cell_type": "code",
   "execution_count": 11,
   "id": "14674d05",
   "metadata": {
    "execution": {
     "iopub.execute_input": "2023-10-16T08:50:43.217831Z",
     "iopub.status.busy": "2023-10-16T08:50:43.216894Z",
     "iopub.status.idle": "2023-10-16T08:50:43.237805Z",
     "shell.execute_reply": "2023-10-16T08:50:43.236466Z"
    },
    "papermill": {
     "duration": 0.038081,
     "end_time": "2023-10-16T08:50:43.240310",
     "exception": false,
     "start_time": "2023-10-16T08:50:43.202229",
     "status": "completed"
    },
    "tags": []
   },
   "outputs": [
    {
     "name": "stdout",
     "output_type": "stream",
     "text": [
      "<class 'pandas.core.frame.DataFrame'>\n",
      "RangeIndex: 60 entries, 0 to 59\n",
      "Data columns (total 6 columns):\n",
      " #   Column               Non-Null Count  Dtype  \n",
      "---  ------               --------------  -----  \n",
      " 0   Campaign Name        60 non-null     object \n",
      " 1   Date                 60 non-null     object \n",
      " 2   Spend [USD]          60 non-null     int64  \n",
      " 3   # of Impressions     59 non-null     float64\n",
      " 4   # of Website Clicks  59 non-null     float64\n",
      " 5   # of Purchase        59 non-null     float64\n",
      "dtypes: float64(3), int64(1), object(2)\n",
      "memory usage: 2.9+ KB\n"
     ]
    }
   ],
   "source": [
    "# Obtain information from the dataframe\n",
    "df.info()"
   ]
  },
  {
   "cell_type": "markdown",
   "id": "06f9a4cd",
   "metadata": {
    "papermill": {
     "duration": 0.012595,
     "end_time": "2023-10-16T08:50:43.265912",
     "exception": false,
     "start_time": "2023-10-16T08:50:43.253317",
     "status": "completed"
    },
    "tags": []
   },
   "source": [
    "From the table information, we can observe the following:\n",
    "\n",
    "* The column 'Date' has a data type 'object' instead of date type.\n",
    "* The column 'Spend [USD]' is of type integer when it should be of type float as it is a currency.\n",
    "\n",
    "Before continuing, I will modify the data type of the mentioned columns so as not to affect the results of the exploration."
   ]
  },
  {
   "cell_type": "code",
   "execution_count": 12,
   "id": "5e89c3b2",
   "metadata": {
    "execution": {
     "iopub.execute_input": "2023-10-16T08:50:43.293762Z",
     "iopub.status.busy": "2023-10-16T08:50:43.293388Z",
     "iopub.status.idle": "2023-10-16T08:50:43.301890Z",
     "shell.execute_reply": "2023-10-16T08:50:43.300657Z"
    },
    "papermill": {
     "duration": 0.025114,
     "end_time": "2023-10-16T08:50:43.304022",
     "exception": false,
     "start_time": "2023-10-16T08:50:43.278908",
     "status": "completed"
    },
    "tags": []
   },
   "outputs": [],
   "source": [
    "# Change 'Date' data type to date \n",
    "df['Date'] = pd.to_datetime(df[\"Date\"], dayfirst = True).dt.date\n",
    "\n",
    "# Change 'Spend [USD]' from integer to float\n",
    "df['Spend [USD]'] = df['Spend [USD]'].astype(float)"
   ]
  },
  {
   "cell_type": "markdown",
   "id": "8c086791",
   "metadata": {
    "papermill": {
     "duration": 0.012476,
     "end_time": "2023-10-16T08:50:43.329408",
     "exception": false,
     "start_time": "2023-10-16T08:50:43.316932",
     "status": "completed"
    },
    "tags": []
   },
   "source": [
    "Finally, in the table we can also appreciate that there is 1 null value in all columns except 'Campaign Name', 'Date' and 'Spend [USD]'. In the data cleaning section it will be discussed what strategies can be taken to address this missing value."
   ]
  },
  {
   "cell_type": "code",
   "execution_count": 13,
   "id": "557a624c",
   "metadata": {
    "execution": {
     "iopub.execute_input": "2023-10-16T08:50:43.356911Z",
     "iopub.status.busy": "2023-10-16T08:50:43.356505Z",
     "iopub.status.idle": "2023-10-16T08:50:43.380008Z",
     "shell.execute_reply": "2023-10-16T08:50:43.378865Z"
    },
    "papermill": {
     "duration": 0.039979,
     "end_time": "2023-10-16T08:50:43.382278",
     "exception": false,
     "start_time": "2023-10-16T08:50:43.342299",
     "status": "completed"
    },
    "tags": []
   },
   "outputs": [
    {
     "data": {
      "text/html": [
       "<div>\n",
       "<style scoped>\n",
       "    .dataframe tbody tr th:only-of-type {\n",
       "        vertical-align: middle;\n",
       "    }\n",
       "\n",
       "    .dataframe tbody tr th {\n",
       "        vertical-align: top;\n",
       "    }\n",
       "\n",
       "    .dataframe thead th {\n",
       "        text-align: right;\n",
       "    }\n",
       "</style>\n",
       "<table border=\"1\" class=\"dataframe\">\n",
       "  <thead>\n",
       "    <tr style=\"text-align: right;\">\n",
       "      <th></th>\n",
       "      <th>Spend [USD]</th>\n",
       "      <th># of Impressions</th>\n",
       "      <th># of Website Clicks</th>\n",
       "      <th># of Purchase</th>\n",
       "    </tr>\n",
       "  </thead>\n",
       "  <tbody>\n",
       "    <tr>\n",
       "      <th>count</th>\n",
       "      <td>60.000000</td>\n",
       "      <td>59.000000</td>\n",
       "      <td>59.000000</td>\n",
       "      <td>59.000000</td>\n",
       "    </tr>\n",
       "    <tr>\n",
       "      <th>mean</th>\n",
       "      <td>2425.750000</td>\n",
       "      <td>91775.881356</td>\n",
       "      <td>5682.593220</td>\n",
       "      <td>522.000000</td>\n",
       "    </tr>\n",
       "    <tr>\n",
       "      <th>std</th>\n",
       "      <td>381.130461</td>\n",
       "      <td>32465.070636</td>\n",
       "      <td>1754.777559</td>\n",
       "      <td>196.973917</td>\n",
       "    </tr>\n",
       "    <tr>\n",
       "      <th>min</th>\n",
       "      <td>1757.000000</td>\n",
       "      <td>22521.000000</td>\n",
       "      <td>2277.000000</td>\n",
       "      <td>222.000000</td>\n",
       "    </tr>\n",
       "    <tr>\n",
       "      <th>25%</th>\n",
       "      <td>2073.750000</td>\n",
       "      <td>68853.500000</td>\n",
       "      <td>4227.500000</td>\n",
       "      <td>340.000000</td>\n",
       "    </tr>\n",
       "    <tr>\n",
       "      <th>50%</th>\n",
       "      <td>2420.500000</td>\n",
       "      <td>95843.000000</td>\n",
       "      <td>5691.000000</td>\n",
       "      <td>501.000000</td>\n",
       "    </tr>\n",
       "    <tr>\n",
       "      <th>75%</th>\n",
       "      <td>2727.500000</td>\n",
       "      <td>117315.000000</td>\n",
       "      <td>7218.500000</td>\n",
       "      <td>693.000000</td>\n",
       "    </tr>\n",
       "    <tr>\n",
       "      <th>max</th>\n",
       "      <td>3112.000000</td>\n",
       "      <td>145248.000000</td>\n",
       "      <td>8264.000000</td>\n",
       "      <td>890.000000</td>\n",
       "    </tr>\n",
       "  </tbody>\n",
       "</table>\n",
       "</div>"
      ],
      "text/plain": [
       "       Spend [USD]  # of Impressions  # of Website Clicks  # of Purchase\n",
       "count    60.000000         59.000000            59.000000      59.000000\n",
       "mean   2425.750000      91775.881356          5682.593220     522.000000\n",
       "std     381.130461      32465.070636          1754.777559     196.973917\n",
       "min    1757.000000      22521.000000          2277.000000     222.000000\n",
       "25%    2073.750000      68853.500000          4227.500000     340.000000\n",
       "50%    2420.500000      95843.000000          5691.000000     501.000000\n",
       "75%    2727.500000     117315.000000          7218.500000     693.000000\n",
       "max    3112.000000     145248.000000          8264.000000     890.000000"
      ]
     },
     "execution_count": 13,
     "metadata": {},
     "output_type": "execute_result"
    }
   ],
   "source": [
    "# Obtain summary statistics of the data\n",
    "df.describe()"
   ]
  },
  {
   "cell_type": "markdown",
   "id": "f05ed745",
   "metadata": {
    "papermill": {
     "duration": 0.012517,
     "end_time": "2023-10-16T08:50:43.407659",
     "exception": false,
     "start_time": "2023-10-16T08:50:43.395142",
     "status": "completed"
    },
    "tags": []
   },
   "source": [
    "The maximum value of '# of Impressions' is quite far from the mean and median, even exceeding the 75th percentile which indicates the value below which 75% of the observations are found. This denotes the possible existence of outliers in the dataset, that is, data points that are far away from the rest of the observations. In the data cleaning section I will deal with this subject in greater depth, focusing on the importance of their identification and possible ways of treatment, if there is any."
   ]
  },
  {
   "cell_type": "code",
   "execution_count": 14,
   "id": "0b3d7133",
   "metadata": {
    "execution": {
     "iopub.execute_input": "2023-10-16T08:50:43.435540Z",
     "iopub.status.busy": "2023-10-16T08:50:43.435141Z",
     "iopub.status.idle": "2023-10-16T08:50:43.443151Z",
     "shell.execute_reply": "2023-10-16T08:50:43.442080Z"
    },
    "papermill": {
     "duration": 0.024655,
     "end_time": "2023-10-16T08:50:43.445439",
     "exception": false,
     "start_time": "2023-10-16T08:50:43.420784",
     "status": "completed"
    },
    "tags": []
   },
   "outputs": [
    {
     "data": {
      "text/plain": [
       "Test Campaign       30\n",
       "Control Campaign    30\n",
       "Name: Campaign Name, dtype: int64"
      ]
     },
     "execution_count": 14,
     "metadata": {},
     "output_type": "execute_result"
    }
   ],
   "source": [
    "# Count the values in each categorical column\n",
    "df['Campaign Name'].value_counts()"
   ]
  },
  {
   "cell_type": "markdown",
   "id": "fe4f3d5f",
   "metadata": {
    "papermill": {
     "duration": 0.012633,
     "end_time": "2023-10-16T08:50:43.471863",
     "exception": false,
     "start_time": "2023-10-16T08:50:43.459230",
     "status": "completed"
    },
    "tags": []
   },
   "source": [
    "Both the experimental group and the control group have 30 records, so the groups are balanced in terms of sample size. This is important because, when groups have unequal sample sizes, comparisons between groups may be biased. Larger groups have a greater influence on the statistical results, which can make differences more or less obvious than they really are. By balancing sample sizes, more accurate comparisons are obtained.\n",
    "\n",
    "Therefore, maintaining a balance in sample size between groups in an AB test is critical to ensure the validity and reliability of the results. This facilitates the detection of real differences between groups, improves the interpretation of the results, and ensures that the conclusions are more accurate and generalizable. However, in this case the sample sizes are equal for the two groups, so there is no need to perform any additional measures to address imbalanced groups such as matching, stratification, or using appropriate statistical techniques that can account for imbalanced sample sizes, such as weighted analyses or resampling methods like bootstrapping."
   ]
  },
  {
   "cell_type": "code",
   "execution_count": 15,
   "id": "74011810",
   "metadata": {
    "execution": {
     "iopub.execute_input": "2023-10-16T08:50:43.499950Z",
     "iopub.status.busy": "2023-10-16T08:50:43.499586Z",
     "iopub.status.idle": "2023-10-16T08:50:45.301866Z",
     "shell.execute_reply": "2023-10-16T08:50:45.300686Z"
    },
    "papermill": {
     "duration": 1.820207,
     "end_time": "2023-10-16T08:50:45.305036",
     "exception": false,
     "start_time": "2023-10-16T08:50:43.484829",
     "status": "completed"
    },
    "tags": []
   },
   "outputs": [
    {
     "data": {
      "image/png": "[encoded data removed]",
      "text/plain": [
       "<Figure size 1000x800 with 4 Axes>"
      ]
     },
     "metadata": {},
     "output_type": "display_data"
    }
   ],
   "source": [
    "# Set an style for the plots\n",
    "sns.set_style('darkgrid')\n",
    "\n",
    "# Create a fig and axis for a 2x2 grid \n",
    "fig, axes = plt.subplots(2, 2, figsize=(10, 8))\n",
    "\n",
    "# Create a kde plot for each numerical variable \n",
    "sns.kdeplot(data=df, x = 'Spend [USD]', ax=axes[0, 0], hue = 'Campaign Name', fill = True)\n",
    "sns.kdeplot(data=df, x = '# of Impressions', ax=axes[0, 1], hue = 'Campaign Name', fill = True)\n",
    "sns.kdeplot(data=df, x = '# of Website Clicks', ax=axes[1, 0], hue = 'Campaign Name', fill = True)\n",
    "sns.kdeplot(data=df, x = '# of Purchase', ax=axes[1, 1], hue = 'Campaign Name', fill = True)\n",
    "\n",
    "# Add labels and titles to each plot\n",
    "axes[0, 0].set_xlabel(\"Spend (USD)\")\n",
    "axes[0, 0].set_ylabel(\"Density\")\n",
    "axes[0, 0].set_title(\"KDE - Spend (USD)\")\n",
    "\n",
    "axes[0, 1].set_xlabel(\"Impressions\")\n",
    "axes[0, 1].set_ylabel(\"Density\")\n",
    "axes[0, 1].set_title(\"KDE - Number of Impressions\")\n",
    "\n",
    "axes[1, 0].set_xlabel(\"Website Clicks\")\n",
    "axes[1, 0].set_ylabel(\"Density\")\n",
    "axes[1, 0].set_title(\"KDE - Number of Website Clicks\")\n",
    "\n",
    "axes[1, 1].set_xlabel(\"Purchase\")\n",
    "axes[1, 1].set_ylabel(\"Density\")\n",
    "axes[1, 1].set_title(\"KDE - Number of Purchase\")\n",
    "\n",
    "plt.tight_layout()"
   ]
  },
  {
   "cell_type": "markdown",
   "id": "26fab2bf",
   "metadata": {
    "papermill": {
     "duration": 0.015252,
     "end_time": "2023-10-16T08:50:45.336337",
     "exception": false,
     "start_time": "2023-10-16T08:50:45.321085",
     "status": "completed"
    },
    "tags": []
   },
   "source": [
    "KDE (Kernel Density Estimation) plots show the overall distribution of the data in a smoother way than a traditional histogram, which can facilitate the identification of patterns, skewness, modes and trends in the data. In addition, it provides an estimate of the underlying probability density of the data, allowing an understanding of the relative likelihood of different values in the distribution. \n",
    "\n",
    "In the context of an AB test, KDE plots can be used to show a visual representation of how the data are distributed in each of the groups participating in the test and thus validate important assumptions for statistical testing, such as the normality of the distribution, which would support the decision to use parametric tests.\n",
    "\n",
    "It can be seen from the graphs above that, for all variables of interest, both groups are comparable and mostly appear to follow a normal distribution. However, it is important to understand that, although the metrics to be tested with the hypothesis test come from these variables, the fact that these variables seem to follow a normal distribution does not guarantee that the metrics under study do as well. Therefore, the pertinent normality tests will be performed later to ensure the reliability of the results. In any case, it is helpful in the exploration stage to create these graphs to understand how the values are distributed and to identify possible trends in the data."
   ]
  },
  {
   "cell_type": "markdown",
   "id": "34d55e74",
   "metadata": {
    "papermill": {
     "duration": 0.015434,
     "end_time": "2023-10-16T08:50:45.367416",
     "exception": false,
     "start_time": "2023-10-16T08:50:45.351982",
     "status": "completed"
    },
    "tags": []
   },
   "source": [
    "# Data Cleaning"
   ]
  },
  {
   "cell_type": "markdown",
   "id": "f0f973f4",
   "metadata": {
    "papermill": {
     "duration": 0.015289,
     "end_time": "2023-10-16T08:50:45.398234",
     "exception": false,
     "start_time": "2023-10-16T08:50:45.382945",
     "status": "completed"
    },
    "tags": []
   },
   "source": [
    "## Missing values\n"
   ]
  },
  {
   "cell_type": "code",
   "execution_count": 16,
   "id": "d645270a",
   "metadata": {
    "execution": {
     "iopub.execute_input": "2023-10-16T08:50:45.431176Z",
     "iopub.status.busy": "2023-10-16T08:50:45.430763Z",
     "iopub.status.idle": "2023-10-16T08:50:45.439636Z",
     "shell.execute_reply": "2023-10-16T08:50:45.438574Z"
    },
    "papermill": {
     "duration": 0.027837,
     "end_time": "2023-10-16T08:50:45.441719",
     "exception": false,
     "start_time": "2023-10-16T08:50:45.413882",
     "status": "completed"
    },
    "tags": []
   },
   "outputs": [
    {
     "data": {
      "text/plain": [
       "Campaign Name          0\n",
       "Date                   0\n",
       "Spend [USD]            0\n",
       "# of Impressions       1\n",
       "# of Website Clicks    1\n",
       "# of Purchase          1\n",
       "dtype: int64"
      ]
     },
     "execution_count": 16,
     "metadata": {},
     "output_type": "execute_result"
    }
   ],
   "source": [
    "# Obtain number of missing values by column\n",
    "df.isna().sum()"
   ]
  },
  {
   "cell_type": "code",
   "execution_count": 17,
   "id": "a7efe509",
   "metadata": {
    "execution": {
     "iopub.execute_input": "2023-10-16T08:50:45.475572Z",
     "iopub.status.busy": "2023-10-16T08:50:45.474782Z",
     "iopub.status.idle": "2023-10-16T08:50:45.488468Z",
     "shell.execute_reply": "2023-10-16T08:50:45.487156Z"
    },
    "papermill": {
     "duration": 0.03347,
     "end_time": "2023-10-16T08:50:45.490975",
     "exception": false,
     "start_time": "2023-10-16T08:50:45.457505",
     "status": "completed"
    },
    "tags": []
   },
   "outputs": [
    {
     "data": {
      "text/html": [
       "<div>\n",
       "<style scoped>\n",
       "    .dataframe tbody tr th:only-of-type {\n",
       "        vertical-align: middle;\n",
       "    }\n",
       "\n",
       "    .dataframe tbody tr th {\n",
       "        vertical-align: top;\n",
       "    }\n",
       "\n",
       "    .dataframe thead th {\n",
       "        text-align: right;\n",
       "    }\n",
       "</style>\n",
       "<table border=\"1\" class=\"dataframe\">\n",
       "  <thead>\n",
       "    <tr style=\"text-align: right;\">\n",
       "      <th></th>\n",
       "      <th>Campaign Name</th>\n",
       "      <th>Date</th>\n",
       "      <th>Spend [USD]</th>\n",
       "      <th># of Impressions</th>\n",
       "      <th># of Website Clicks</th>\n",
       "      <th># of Purchase</th>\n",
       "    </tr>\n",
       "  </thead>\n",
       "  <tbody>\n",
       "    <tr>\n",
       "      <th>34</th>\n",
       "      <td>Control Campaign</td>\n",
       "      <td>2019-08-05</td>\n",
       "      <td>1835.0</td>\n",
       "      <td>NaN</td>\n",
       "      <td>NaN</td>\n",
       "      <td>NaN</td>\n",
       "    </tr>\n",
       "  </tbody>\n",
       "</table>\n",
       "</div>"
      ],
      "text/plain": [
       "       Campaign Name        Date  Spend [USD]  # of Impressions  \\\n",
       "34  Control Campaign  2019-08-05       1835.0               NaN   \n",
       "\n",
       "    # of Website Clicks  # of Purchase  \n",
       "34                  NaN            NaN  "
      ]
     },
     "execution_count": 17,
     "metadata": {},
     "output_type": "execute_result"
    }
   ],
   "source": [
    "# Subset the dataframe to show rows with missing data\n",
    "df[df.isnull().any(axis=1)]"
   ]
  },
  {
   "cell_type": "markdown",
   "id": "e0bd0858",
   "metadata": {
    "papermill": {
     "duration": 0.015851,
     "end_time": "2023-10-16T08:50:45.523373",
     "exception": false,
     "start_time": "2023-10-16T08:50:45.507522",
     "status": "completed"
    },
    "tags": []
   },
   "source": [
    "As previously mentioned, there is a null value in the columns '# of Impressions', '# of Website Clicks' and '# of Purchase'. In general, records with null values can be removed if they represent less than 5% of the whole data. However, in this case the sample is only 30 records for each group, so removing them could reduce the statistical power of the test, meaning that significant differences between groups are less likely to be detected when they actually exist.\n",
    "\n",
    "Another widely used strategy is imputation of values, that is, replacing the null value with a summary statistic such as mean, median or mode, either using the entire data set or doing imputation by subgroups. More advanced methods such as imputation with simple regression models or the K-nearest neighbor method can be used as well. However, in a row where almost all values are null (as is our case), there is not enough information to find meaningful patterns or to perform accurate imputation. \n",
    "\n",
    "With this in mind, I have decided that a more appropriate method in this case would be to **impute the mean by subgroups**, with these subgroups being defined by the column 'Campaign Name'.\n",
    "\n",
    "**Note:** the columns that were dropped in the 'data merging' section also had null values in that same row, so none of the advanced methods could have been applied either.\n"
   ]
  },
  {
   "cell_type": "code",
   "execution_count": 18,
   "id": "70fa9784",
   "metadata": {
    "execution": {
     "iopub.execute_input": "2023-10-16T08:50:45.557265Z",
     "iopub.status.busy": "2023-10-16T08:50:45.556829Z",
     "iopub.status.idle": "2023-10-16T08:50:45.575446Z",
     "shell.execute_reply": "2023-10-16T08:50:45.574078Z"
    },
    "papermill": {
     "duration": 0.038711,
     "end_time": "2023-10-16T08:50:45.578032",
     "exception": false,
     "start_time": "2023-10-16T08:50:45.539321",
     "status": "completed"
    },
    "tags": []
   },
   "outputs": [],
   "source": [
    "# Impute the mean by subgroups\n",
    "\n",
    "# Create a dictionary containing the mean of each group for all the variables with missing values\n",
    "var_dict = df.groupby('Campaign Name')['# of Impressions', '# of Website Clicks', '# of Purchase'].mean().round(0).to_dict()\n",
    "\n",
    "# Impute the mean by sub_group, depending on campaign name, using the dictionary\n",
    "for dict_id, dict_info in var_dict.items():\n",
    "    df[str(dict_id)] = df[str(dict_id)].fillna(df['Campaign Name'].map(dict_info))"
   ]
  },
  {
   "cell_type": "code",
   "execution_count": 19,
   "id": "1f7df0d0",
   "metadata": {
    "execution": {
     "iopub.execute_input": "2023-10-16T08:50:45.612689Z",
     "iopub.status.busy": "2023-10-16T08:50:45.612273Z",
     "iopub.status.idle": "2023-10-16T08:50:45.621310Z",
     "shell.execute_reply": "2023-10-16T08:50:45.620078Z"
    },
    "papermill": {
     "duration": 0.02899,
     "end_time": "2023-10-16T08:50:45.623433",
     "exception": false,
     "start_time": "2023-10-16T08:50:45.594443",
     "status": "completed"
    },
    "tags": []
   },
   "outputs": [
    {
     "data": {
      "text/plain": [
       "Campaign Name          0\n",
       "Date                   0\n",
       "Spend [USD]            0\n",
       "# of Impressions       0\n",
       "# of Website Clicks    0\n",
       "# of Purchase          0\n",
       "dtype: int64"
      ]
     },
     "execution_count": 19,
     "metadata": {},
     "output_type": "execute_result"
    }
   ],
   "source": [
    "# Check null values again\n",
    "df.isna().sum()"
   ]
  },
  {
   "cell_type": "markdown",
   "id": "0951f618",
   "metadata": {
    "papermill": {
     "duration": 0.016086,
     "end_time": "2023-10-16T08:50:45.655890",
     "exception": false,
     "start_time": "2023-10-16T08:50:45.639804",
     "status": "completed"
    },
    "tags": []
   },
   "source": [
    "There are no more null values in the dataframe."
   ]
  },
  {
   "cell_type": "markdown",
   "id": "5c1a3787",
   "metadata": {
    "papermill": {
     "duration": 0.016379,
     "end_time": "2023-10-16T08:50:45.689086",
     "exception": false,
     "start_time": "2023-10-16T08:50:45.672707",
     "status": "completed"
    },
    "tags": []
   },
   "source": [
    "## Outliers"
   ]
  },
  {
   "cell_type": "markdown",
   "id": "b8b69626",
   "metadata": {
    "papermill": {
     "duration": 0.016594,
     "end_time": "2023-10-16T08:50:45.722375",
     "exception": false,
     "start_time": "2023-10-16T08:50:45.705781",
     "status": "completed"
    },
    "tags": []
   },
   "source": [
    "An outlier is an observation that is far away from other data points. Identifying and dealing with outliers is very important because they can bias test results and make conclusions less accurate. For example, if an experimental group has an extremely high value for a metric of interest due to an outlier, this may lead to erroneous conclusions about the effectiveness of an intervention or change.\n",
    "\n",
    "We can consider removing outliers if we have strong evidence that it comes from measurement error or unusual but incorrect data. In contrast, we may keep it if we believe that the data is representative of a subset of our dataset. Other techniques to consider are applying mathematical transformations to the data to reduce the influence of outliers -such as the logarithmic transformation-, consider the use of a summary statistics less sensitive to extreme data such as the median, or use value imputation techniques to minimize the effect of outliers on the results of the analysis.\n",
    "\n",
    "Outliers can be defined mathematically using the interquartile range (IQR), which is the difference between the 75th and 25th percentiles. We can visualize them using **box plots**, in which the outliers are represented by diamonds or circles outside the box whiskers."
   ]
  },
  {
   "cell_type": "code",
   "execution_count": 20,
   "id": "5804a278",
   "metadata": {
    "execution": {
     "iopub.execute_input": "2023-10-16T08:50:45.756892Z",
     "iopub.status.busy": "2023-10-16T08:50:45.756465Z",
     "iopub.status.idle": "2023-10-16T08:50:46.576317Z",
     "shell.execute_reply": "2023-10-16T08:50:46.575329Z"
    },
    "papermill": {
     "duration": 0.839736,
     "end_time": "2023-10-16T08:50:46.578600",
     "exception": false,
     "start_time": "2023-10-16T08:50:45.738864",
     "status": "completed"
    },
    "tags": []
   },
   "outputs": [
    {
     "data": {
      "image/png": "[encoded data removed]",
      "text/plain": [
       "<Figure size 800x700 with 4 Axes>"
      ]
     },
     "metadata": {},
     "output_type": "display_data"
    }
   ],
   "source": [
    "# Numerical columns from df I want to examine\n",
    "num_vars = list(df.select_dtypes(include=np.number).columns)\n",
    "\n",
    "# Create box plots for each variable in num_vars for outlier detection\n",
    "n = 1\n",
    "\n",
    "plt.figure(figsize= (8, 7))\n",
    "\n",
    "for var in num_vars:\n",
    "    # Select the subplot\n",
    "    plt.subplot(2, 2, n)\n",
    "    \n",
    "    # Create the plot\n",
    "    g = sns.boxplot(data=df, y=var, x= 'Campaign Name', palette = 'pastel') \n",
    "    \n",
    "    # Change titles and labels\n",
    "    g.set_xlabel(None)\n",
    "    g.set_ylabel(None)\n",
    "    g.set_title(f'{var} box plot', y =1.03)\n",
    "    plt.xticks(ticks=range(2), labels=['Test', 'Control'])\n",
    "    \n",
    "    # Go to the next subplot\n",
    "    n = n + 1\n",
    "    plt.tight_layout(pad = 3.5)"
   ]
  },
  {
   "cell_type": "markdown",
   "id": "bed7a6d2",
   "metadata": {
    "papermill": {
     "duration": 0.022499,
     "end_time": "2023-10-16T08:50:46.618663",
     "exception": false,
     "start_time": "2023-10-16T08:50:46.596164",
     "status": "completed"
    },
    "tags": []
   },
   "source": [
    "According to the graphs, there are no outliers in the dataset."
   ]
  },
  {
   "cell_type": "markdown",
   "id": "5a606564",
   "metadata": {
    "papermill": {
     "duration": 0.017002,
     "end_time": "2023-10-16T08:50:46.653200",
     "exception": false,
     "start_time": "2023-10-16T08:50:46.636198",
     "status": "completed"
    },
    "tags": []
   },
   "source": [
    "# Metrics Creation\n",
    "\n",
    "As explained at the beginning of the notebook, the following metrics will be used to find out which bidding model is better:\n",
    "\n",
    "* `Click-Through Rate (CTR)` - Helps measure the effectiveness of ads in attracting clicks.\n",
    "\n",
    "> CTR = (# of Website Clicks / # of Impressions)\n",
    "\n",
    "* `Conversion Rate (CR)` - Shows what percentage of visitors who clicked on the ad actually made a purchase.\n",
    "\n",
    "> CR = (# of Purchase / # of Website Clicks)\n",
    "\n",
    "* `Cost Per Click (CPC)` - It allows you to evaluate the efficiency of advertising expenses to generate clicks.\n",
    "\n",
    "> CPC = (Spend [USD] / # of Website Clicks)\n",
    "\n",
    "* `Cost Per Acquisition (CPA)` - Refers to the average cost a company pays to acquire a new customer or a desired conversion, in this case it will be a purchase, through its marketing or advertising strategy.\n",
    "\n",
    "> CPA = (Spend [USD] / # of Purchase)\n",
    "\n",
    "\n",
    "Therefore, in this section I will create a new column for each metric."
   ]
  },
  {
   "cell_type": "code",
   "execution_count": 21,
   "id": "10226759",
   "metadata": {
    "execution": {
     "iopub.execute_input": "2023-10-16T08:50:46.691186Z",
     "iopub.status.busy": "2023-10-16T08:50:46.690460Z",
     "iopub.status.idle": "2023-10-16T08:50:46.710063Z",
     "shell.execute_reply": "2023-10-16T08:50:46.708887Z"
    },
    "papermill": {
     "duration": 0.041085,
     "end_time": "2023-10-16T08:50:46.712404",
     "exception": false,
     "start_time": "2023-10-16T08:50:46.671319",
     "status": "completed"
    },
    "tags": []
   },
   "outputs": [
    {
     "data": {
      "text/html": [
       "<div>\n",
       "<style scoped>\n",
       "    .dataframe tbody tr th:only-of-type {\n",
       "        vertical-align: middle;\n",
       "    }\n",
       "\n",
       "    .dataframe tbody tr th {\n",
       "        vertical-align: top;\n",
       "    }\n",
       "\n",
       "    .dataframe thead th {\n",
       "        text-align: right;\n",
       "    }\n",
       "</style>\n",
       "<table border=\"1\" class=\"dataframe\">\n",
       "  <thead>\n",
       "    <tr style=\"text-align: right;\">\n",
       "      <th></th>\n",
       "      <th>Campaign Name</th>\n",
       "      <th>Date</th>\n",
       "      <th>Spend [USD]</th>\n",
       "      <th># of Impressions</th>\n",
       "      <th># of Website Clicks</th>\n",
       "      <th># of Purchase</th>\n",
       "      <th>CTR</th>\n",
       "      <th>CR</th>\n",
       "      <th>CPC</th>\n",
       "      <th>CPA</th>\n",
       "    </tr>\n",
       "  </thead>\n",
       "  <tbody>\n",
       "    <tr>\n",
       "      <th>0</th>\n",
       "      <td>Test Campaign</td>\n",
       "      <td>2019-08-01</td>\n",
       "      <td>3008.0</td>\n",
       "      <td>39550.0</td>\n",
       "      <td>3038.0</td>\n",
       "      <td>255.0</td>\n",
       "      <td>0.076814</td>\n",
       "      <td>0.083937</td>\n",
       "      <td>0.990125</td>\n",
       "      <td>11.796078</td>\n",
       "    </tr>\n",
       "    <tr>\n",
       "      <th>1</th>\n",
       "      <td>Test Campaign</td>\n",
       "      <td>2019-08-02</td>\n",
       "      <td>2542.0</td>\n",
       "      <td>100719.0</td>\n",
       "      <td>4657.0</td>\n",
       "      <td>677.0</td>\n",
       "      <td>0.046238</td>\n",
       "      <td>0.145373</td>\n",
       "      <td>0.545845</td>\n",
       "      <td>3.754801</td>\n",
       "    </tr>\n",
       "    <tr>\n",
       "      <th>2</th>\n",
       "      <td>Test Campaign</td>\n",
       "      <td>2019-08-03</td>\n",
       "      <td>2365.0</td>\n",
       "      <td>70263.0</td>\n",
       "      <td>7885.0</td>\n",
       "      <td>578.0</td>\n",
       "      <td>0.112221</td>\n",
       "      <td>0.073304</td>\n",
       "      <td>0.299937</td>\n",
       "      <td>4.091696</td>\n",
       "    </tr>\n",
       "    <tr>\n",
       "      <th>3</th>\n",
       "      <td>Test Campaign</td>\n",
       "      <td>2019-08-04</td>\n",
       "      <td>2710.0</td>\n",
       "      <td>78451.0</td>\n",
       "      <td>4216.0</td>\n",
       "      <td>340.0</td>\n",
       "      <td>0.053741</td>\n",
       "      <td>0.080645</td>\n",
       "      <td>0.642789</td>\n",
       "      <td>7.970588</td>\n",
       "    </tr>\n",
       "    <tr>\n",
       "      <th>4</th>\n",
       "      <td>Test Campaign</td>\n",
       "      <td>2019-08-05</td>\n",
       "      <td>2297.0</td>\n",
       "      <td>114295.0</td>\n",
       "      <td>5863.0</td>\n",
       "      <td>768.0</td>\n",
       "      <td>0.051297</td>\n",
       "      <td>0.130991</td>\n",
       "      <td>0.391779</td>\n",
       "      <td>2.990885</td>\n",
       "    </tr>\n",
       "  </tbody>\n",
       "</table>\n",
       "</div>"
      ],
      "text/plain": [
       "   Campaign Name        Date  Spend [USD]  # of Impressions  \\\n",
       "0  Test Campaign  2019-08-01       3008.0           39550.0   \n",
       "1  Test Campaign  2019-08-02       2542.0          100719.0   \n",
       "2  Test Campaign  2019-08-03       2365.0           70263.0   \n",
       "3  Test Campaign  2019-08-04       2710.0           78451.0   \n",
       "4  Test Campaign  2019-08-05       2297.0          114295.0   \n",
       "\n",
       "   # of Website Clicks  # of Purchase       CTR        CR       CPC        CPA  \n",
       "0               3038.0          255.0  0.076814  0.083937  0.990125  11.796078  \n",
       "1               4657.0          677.0  0.046238  0.145373  0.545845   3.754801  \n",
       "2               7885.0          578.0  0.112221  0.073304  0.299937   4.091696  \n",
       "3               4216.0          340.0  0.053741  0.080645  0.642789   7.970588  \n",
       "4               5863.0          768.0  0.051297  0.130991  0.391779   2.990885  "
      ]
     },
     "execution_count": 21,
     "metadata": {},
     "output_type": "execute_result"
    }
   ],
   "source": [
    "# Create a new colum and perform calculations for each metric\n",
    "df['CTR'] = df['# of Website Clicks'] / df['# of Impressions']\n",
    "df['CR'] = df['# of Purchase'] / df['# of Website Clicks']\n",
    "df['CPC'] = df['Spend [USD]'] / df['# of Website Clicks']\n",
    "df['CPA'] = df['Spend [USD]'] / df['# of Purchase']\n",
    "\n",
    "\n",
    "# Show results\n",
    "df.head()"
   ]
  },
  {
   "cell_type": "markdown",
   "id": "badea5ee",
   "metadata": {
    "papermill": {
     "duration": 0.017563,
     "end_time": "2023-10-16T08:50:46.747507",
     "exception": false,
     "start_time": "2023-10-16T08:50:46.729944",
     "status": "completed"
    },
    "tags": []
   },
   "source": [
    "# Analysis of results\n",
    "\n",
    "First, I will create bar charts for totals and metrics to see if there are any visual differences between the campaigns. "
   ]
  },
  {
   "cell_type": "code",
   "execution_count": null,
   "id": "8d41e5be",
   "metadata": {
    "execution": {
     "iopub.execute_input": "2023-10-16T08:50:46.784514Z",
     "iopub.status.busy": "2023-10-16T08:50:46.783802Z",
     "iopub.status.idle": "2023-10-16T08:50:47.701654Z",
     "shell.execute_reply": "2023-10-16T08:50:47.700340Z"
    },
    "papermill": {
     "duration": 0.939292,
     "end_time": "2023-10-16T08:50:47.704181",
     "exception": false,
     "start_time": "2023-10-16T08:50:46.764889",
     "status": "completed"
    },
    "tags": []
   },
   "outputs": [],
   "source": [
    "# Create a bar chart for totals\n",
    "# Numerical columns from df I want to examine\n",
    "num_vars = ['# of Impressions', '# of Website Clicks', '# of Purchase']\n",
    "\n",
    "# Create a bar plot for all variables in num_vars\n",
    "n = 1\n",
    "\n",
    "plt.figure(figsize= (12, 5))\n",
    "\n",
    "for var in num_vars:\n",
    "    # Select the subplot\n",
    "    plt.subplot(1, 3, n)\n",
    "    \n",
    "    # Create the plot\n",
    "    g = sns.barplot(data=df, y=var, x= 'Campaign Name', palette = 'deep', estimator = 'sum', errorbar=('ci', False))  \n",
    "\n",
    "    # Change labels and titles\n",
    "    g.set_xlabel(None)\n",
    "    g.set_ylabel(None)\n",
    "    g.set_title(f'{var} Bar plot', y =1.05)\n",
    "    plt.xticks(ticks=range(2), labels=['Test', 'Control'])\n",
    "    for i in g.containers:\n",
    "        g.bar_label(i,)\n",
    "    \n",
    "    # Go to the next subplot\n",
    "    n = n + 1\n",
    "    plt.tight_layout(pad = 2.2)"
   ]
  },
  {
   "cell_type": "markdown",
   "id": "0090a8c6",
   "metadata": {
    "papermill": {
     "duration": 0.018586,
     "end_time": "2023-10-16T08:50:47.741131",
     "exception": false,
     "start_time": "2023-10-16T08:50:47.722545",
     "status": "completed"
    },
    "tags": []
   },
   "source": [
    "It appears that the control campaign got more impressions and conversions, while the experimental campaign got more clicks. Below I will see the visual differences between the groups for the previously calculated metrics."
   ]
  },
  {
   "cell_type": "code",
   "execution_count": 23,
   "id": "3fd9b617",
   "metadata": {
    "execution": {
     "iopub.execute_input": "2023-10-16T08:50:47.779851Z",
     "iopub.status.busy": "2023-10-16T08:50:47.779441Z",
     "iopub.status.idle": "2023-10-16T08:50:48.737268Z",
     "shell.execute_reply": "2023-10-16T08:50:48.736344Z"
    },
    "papermill": {
     "duration": 0.979879,
     "end_time": "2023-10-16T08:50:48.739443",
     "exception": false,
     "start_time": "2023-10-16T08:50:47.759564",
     "status": "completed"
    },
    "tags": []
   },
   "outputs": [
    {
     "data": {
      "image/png": "[encoded data removed]",
      "text/plain": [
       "<Figure size 1600x500 with 4 Axes>"
      ]
     },
     "metadata": {},
     "output_type": "display_data"
    }
   ],
   "source": [
    "# Create a bar chart for each metric\n",
    "# Create a list of the columns containing the metrics\n",
    "metrics = ['CTR', 'CR', 'CPC', 'CPA']\n",
    "\n",
    "# Create a bar plot for each column in metrics\n",
    "n = 1\n",
    "\n",
    "plt.figure(figsize= (16, 5))\n",
    "\n",
    "for m in metrics:\n",
    "    # Select the subplot\n",
    "    plt.subplot(1, 4, n)\n",
    "    \n",
    "    # Create the plot\n",
    "    g = sns.barplot(data=df, y=m, x= 'Campaign Name', palette = 'pa', estimator = 'mean', errorbar=('ci', False))  \n",
    "\n",
    "    # Change labels and titles\n",
    "    g.set_xlabel(None)\n",
    "    g.set_ylabel(None)\n",
    "    g.set_title(f'{m}', y =1.05)\n",
    "    plt.xticks(ticks=range(2), labels=['Test', 'Control'])\n",
    "    for i in g.containers:\n",
    "        g.bar_label(i,)\n",
    "        \n",
    "    # Go to the next subplot\n",
    "    n = n + 1\n",
    "    plt.tight_layout(pad = 2.2)"
   ]
  },
  {
   "cell_type": "markdown",
   "id": "48cc813a",
   "metadata": {
    "papermill": {
     "duration": 0.018836,
     "end_time": "2023-10-16T08:50:48.778484",
     "exception": false,
     "start_time": "2023-10-16T08:50:48.759648",
     "status": "completed"
    },
    "tags": []
   },
   "source": [
    "The control group seems to perform better for the Conversion Rate (CR) and Cost Per Acquisition (CPA) metrics, which could indicate that the control campaign is better at converting clicks into purchases and uses monetary resources more efficiently (lower CPA) to obtain more purchases. On the other hand, the experimental group shows better results for the Click-Through Rate (CTR) and Cost Per Click (CPC) metrics, indicating that the experimental campaign is better at attracting clicks and uses monetary resources more efficiently to generate clicks.\n",
    "\n",
    "However, are these differences statistically significant? To find out, we need to perform a hypothesis test, as we will see below.\n",
    "\n"
   ]
  },
  {
   "cell_type": "markdown",
   "id": "66a5feea",
   "metadata": {
    "papermill": {
     "duration": 0.018613,
     "end_time": "2023-10-16T08:50:48.816091",
     "exception": false,
     "start_time": "2023-10-16T08:50:48.797478",
     "status": "completed"
    },
    "tags": []
   },
   "source": [
    "# Hypothesis Testing"
   ]
  },
  {
   "cell_type": "markdown",
   "id": "d9cb3f62",
   "metadata": {
    "papermill": {
     "duration": 0.018571,
     "end_time": "2023-10-16T08:50:48.853448",
     "exception": false,
     "start_time": "2023-10-16T08:50:48.834877",
     "status": "completed"
    },
    "tags": []
   },
   "source": [
    "As defined prior to the EDA, the hypothesis to be tested are: \n",
    "\n",
    "* **Null Hypothesis (H0):** There is no difference in performance between Average Bidding and Maximum Bidding.\n",
    "* **Alternative Hypothesis (H1):** There is a significant difference in performance between Average Bidding and Maximum Bidding.\n",
    "\n",
    "These hypotheses will be tested for each proposed metric at **0.05 significance level**. However, first it is necessary to **select the statistical test**. Since in this case the hypotheses will attempt to test whether the metrics are the same or different between two independent groups, either Student's t-test (parametric) or the Mann Whitney U-test (non-parametric) can be used. The choice will depend on whether or not the assumptions of the parametric test are met, that is, that the distributions of both samples (the two groups being compared) are approximately normal and that their variances are approximately equal. "
   ]
  },
  {
   "cell_type": "markdown",
   "id": "7fdf6f93",
   "metadata": {
    "papermill": {
     "duration": 0.018546,
     "end_time": "2023-10-16T08:50:48.891000",
     "exception": false,
     "start_time": "2023-10-16T08:50:48.872454",
     "status": "completed"
    },
    "tags": []
   },
   "source": [
    "## Normality test\n",
    "\n",
    "To test whether the distribution of the data of both groups is normal, one can use graphical methods such as the histogram or QQ plots or statistical tests such as the Shapiro-Wilk test. I will start with the graphical method:"
   ]
  },
  {
   "cell_type": "code",
   "execution_count": 24,
   "id": "754b795b",
   "metadata": {
    "execution": {
     "iopub.execute_input": "2023-10-16T08:50:48.931408Z",
     "iopub.status.busy": "2023-10-16T08:50:48.930113Z",
     "iopub.status.idle": "2023-10-16T08:50:50.239580Z",
     "shell.execute_reply": "2023-10-16T08:50:50.238303Z"
    },
    "papermill": {
     "duration": 1.332146,
     "end_time": "2023-10-16T08:50:50.241918",
     "exception": false,
     "start_time": "2023-10-16T08:50:48.909772",
     "status": "completed"
    },
    "tags": []
   },
   "outputs": [
    {
     "data": {
      "image/png": "[encoded data removed]",
      "text/plain": [
       "<Figure size 1600x500 with 4 Axes>"
      ]
     },
     "metadata": {},
     "output_type": "display_data"
    }
   ],
   "source": [
    "metrics = ['CTR', 'CR', 'CPC', 'CPA']\n",
    "\n",
    "# Create a histogram for each column in metrics\n",
    "n = 1\n",
    "\n",
    "plt.figure(figsize= (16, 5))\n",
    "\n",
    "for m in metrics:\n",
    "    # Select the subplot\n",
    "    plt.subplot(1, 4, n)\n",
    "    \n",
    "    # Create the plot\n",
    "    g = sns.histplot(data=df, x=m,  palette = 'pastel', hue = 'Campaign Name')  \n",
    "    \n",
    "    # Add a title\n",
    "    g.set_title(f'{m}', y =1.03)\n",
    "\n",
    "    # Go to the next subplot\n",
    "    n = n + 1\n",
    "    plt.tight_layout(pad = 2.2)"
   ]
  },
  {
   "cell_type": "markdown",
   "id": "9da77d32",
   "metadata": {
    "papermill": {
     "duration": 0.019832,
     "end_time": "2023-10-16T08:50:50.281281",
     "exception": false,
     "start_time": "2023-10-16T08:50:50.261449",
     "status": "completed"
    },
    "tags": []
   },
   "source": [
    "In this case, it is quite clear that the distribution of the variables is not normal. However, we can prove it mathematically by using the Shapiro-Wilk test, which evaluates whether the data deviate significantly from a normal distribution. In this test, the hypotheses are:\n",
    "\n",
    "* **Null Hypothesis (H0):** Sample is from the normal distribution.\n",
    "* **Alternative Hypothesis (H1):** Sample is not from the normal distributions.\n",
    "\n",
    "If the p-value of the Shapiro-Wilk test is less than the chosen significance level (in this case 0.05), we reject the null hypothesis that the data are normally distributed. That is, we would have sufficient evidence to say that sample does not come from a normal distribution."
   ]
  },
  {
   "cell_type": "code",
   "execution_count": 25,
   "id": "6d951714",
   "metadata": {
    "execution": {
     "iopub.execute_input": "2023-10-16T08:50:50.322039Z",
     "iopub.status.busy": "2023-10-16T08:50:50.321624Z",
     "iopub.status.idle": "2023-10-16T08:50:50.328852Z",
     "shell.execute_reply": "2023-10-16T08:50:50.327694Z"
    },
    "papermill": {
     "duration": 0.030498,
     "end_time": "2023-10-16T08:50:50.331306",
     "exception": false,
     "start_time": "2023-10-16T08:50:50.300808",
     "status": "completed"
    },
    "tags": []
   },
   "outputs": [
    {
     "name": "stdout",
     "output_type": "stream",
     "text": [
      "CTR Shapiro-Wilk Test:\n",
      "\n",
      "\t- Statistic: 0.7670425176620483\n",
      "\t- P-value: 2.2244435626816994e-08\n",
      "\n",
      "\n",
      "CR Shapiro-Wilk Test:\n",
      "\n",
      "\t- Statistic: 0.8906090259552002\n",
      "\t- P-value: 6.0853431932628155e-05\n",
      "\n",
      "\n",
      "CPC Shapiro-Wilk Test:\n",
      "\n",
      "\t- Statistic: 0.8914333581924438\n",
      "\t- P-value: 6.502660107798874e-05\n",
      "\n",
      "\n",
      "CPA Shapiro-Wilk Test:\n",
      "\n",
      "\t- Statistic: 0.8985586762428284\n",
      "\t- P-value: 0.00011659972369670868\n",
      "\n",
      "\n"
     ]
    }
   ],
   "source": [
    "metrics = ['CTR', 'CR', 'CPC', 'CPA']\n",
    "\n",
    "for m in metrics:\n",
    "    \n",
    "    # Use shapiro() function from scipy for the m metric\n",
    "    result = shapiro(df[m])\n",
    "    statistic = result[0]\n",
    "    p_value = result[1]\n",
    "    \n",
    "    # Show the result\n",
    "    print(f'{m} Shapiro-Wilk Test:\\n')\n",
    "    print(f'\\t- Statistic: {statistic}')\n",
    "    print(f'\\t- P-value: {p_value}\\n\\n')"
   ]
  },
  {
   "cell_type": "markdown",
   "id": "b7398989",
   "metadata": {
    "papermill": {
     "duration": 0.019507,
     "end_time": "2023-10-16T08:50:50.370487",
     "exception": false,
     "start_time": "2023-10-16T08:50:50.350980",
     "status": "completed"
    },
    "tags": []
   },
   "source": [
    "In all cases, the p-value of the test is below the significance level of 0.05, so we reject the null hypothesis. There is sufficient evidence to say that the groups are not normally distributed. Therefore, the non-parametric **Mann Whitney U** test, also known as the Wilcoxon-Mann-Whitney test, will be used."
   ]
  },
  {
   "cell_type": "markdown",
   "id": "8392c137",
   "metadata": {
    "papermill": {
     "duration": 0.019197,
     "end_time": "2023-10-16T08:50:50.409795",
     "exception": false,
     "start_time": "2023-10-16T08:50:50.390598",
     "status": "completed"
    },
    "tags": []
   },
   "source": [
    "## Mann Whitney U Test\n",
    "\n",
    "The Mann Whitney U test is a nonparametric statistical technique **used to compare the distributions of two independent samples**. This test is appropriate when the data do not meet the assumptions of normality or when working with ordinal or continuous variables, but the comparison of means is not appropriate. It is used to **evaluate if the two samples come from the same population or if there are significant differences between their distributions**. \n",
    "\n",
    "We can run the test using pingouin's **mwu** method. However, we must first **convert our data to a wide format** with pandas' **pivot** method, as the x and y arguments correspond to the columns of numbers we want to compare. The alternative parameter indicates the type of contrast. In this case the null hypothesis is formulated in terms of equal and the alternative in terms of different so the contrast will be bilateral ('two-sided').\n",
    "\n",
    "If the **p-value** is less than the significance level, we reject the null hypothesis in favor of the alternative. That is, there will be sufficient evidence to affirm that there is a statistically significant difference between Control and Test for the metric evaluated in each case. Having clarified this, I will create a function to run the test for each metric."
   ]
  },
  {
   "cell_type": "code",
   "execution_count": 26,
   "id": "297a2de5",
   "metadata": {
    "execution": {
     "iopub.execute_input": "2023-10-16T08:50:50.451335Z",
     "iopub.status.busy": "2023-10-16T08:50:50.450131Z",
     "iopub.status.idle": "2023-10-16T08:50:50.458105Z",
     "shell.execute_reply": "2023-10-16T08:50:50.457336Z"
    },
    "papermill": {
     "duration": 0.030898,
     "end_time": "2023-10-16T08:50:50.460228",
     "exception": false,
     "start_time": "2023-10-16T08:50:50.429330",
     "status": "completed"
    },
    "tags": []
   },
   "outputs": [],
   "source": [
    "# Create a function to perform Mann Whitney U Test on all metrics\n",
    "def mann_whitney_u(metric, alpha):\n",
    "    \n",
    "    # Convert table to wide format using pivot\n",
    "    df_wide = df.pivot(columns = 'Campaign Name', values = metric)\n",
    "    \n",
    "    # Use mwu from pingouin to perform the test\n",
    "    test = pingouin.mwu(\n",
    "                 x = df_wide['Control Campaign'],\n",
    "                 y = df_wide['Test Campaign'],\n",
    "                 alternative = 'two-sided'\n",
    "                )\n",
    "    \n",
    "    # Save U-value and p-value from the test\n",
    "    u_value = test.loc['MWU','U-val']\n",
    "    p_value = test.loc['MWU', 'p-val'].round(5)\n",
    "    \n",
    "    # Print a result based on level of significance (alpha)\n",
    "    print('\\nMann Whitney U test for {}:\\n'.format(metric))\n",
    "    print(f'\\t- p value is {p_value}\\n')\n",
    "    print(f'\\t- U value is {u_value}\\n')\n",
    "\n",
    "    if p_value < alpha:\n",
    "        print('\\nWe reject the null hypothesis, there is sufficient evidence to affirm that there is a statistically significant difference between Control and Test {}.'.format(metric))\n",
    "        \n",
    "    else:\n",
    "        print('\\nWe fail to reject the null hypothesis, there is sufficient evidence to affirm that there is no statistically significant difference between Control and Test {}.'.format(metric))"
   ]
  },
  {
   "cell_type": "markdown",
   "id": "2b2fb530",
   "metadata": {
    "papermill": {
     "duration": 0.019114,
     "end_time": "2023-10-16T08:50:50.498779",
     "exception": false,
     "start_time": "2023-10-16T08:50:50.479665",
     "status": "completed"
    },
    "tags": []
   },
   "source": [
    "### CTR - Click-Through Rate\n",
    "\n",
    "\n",
    "* **Null Hypothesis (H0):** There is no difference in CTR between Average Bidding and Maximum Bidding.\n",
    "* **Alternative Hypothesis (H1):** There is a significant difference in CTR between Average Bidding and Maximum Bidding.\n",
    "\n",
    "Significance level is 0.05."
   ]
  },
  {
   "cell_type": "code",
   "execution_count": 27,
   "id": "3abe9fb0",
   "metadata": {
    "execution": {
     "iopub.execute_input": "2023-10-16T08:50:50.540757Z",
     "iopub.status.busy": "2023-10-16T08:50:50.540014Z",
     "iopub.status.idle": "2023-10-16T08:50:50.554696Z",
     "shell.execute_reply": "2023-10-16T08:50:50.553555Z"
    },
    "papermill": {
     "duration": 0.038311,
     "end_time": "2023-10-16T08:50:50.557102",
     "exception": false,
     "start_time": "2023-10-16T08:50:50.518791",
     "status": "completed"
    },
    "tags": []
   },
   "outputs": [
    {
     "name": "stdout",
     "output_type": "stream",
     "text": [
      "\n",
      "Mann Whitney U test for CTR:\n",
      "\n",
      "\t- p value is 0.00021\n",
      "\n",
      "\t- U value is 199.0\n",
      "\n",
      "\n",
      "We reject the null hypothesis, there is sufficient evidence to affirm that there is a statistically significant difference between Control and Test CTR.\n"
     ]
    }
   ],
   "source": [
    "# Performn MWU test for CTR metric\n",
    "mann_whitney_u(metric = 'CTR', alpha = 0.05)"
   ]
  },
  {
   "cell_type": "markdown",
   "id": "6f9f26b8",
   "metadata": {
    "papermill": {
     "duration": 0.019581,
     "end_time": "2023-10-16T08:50:50.596525",
     "exception": false,
     "start_time": "2023-10-16T08:50:50.576944",
     "status": "completed"
    },
    "tags": []
   },
   "source": [
    "### CR - Conversion Rate\n",
    "\n",
    "\n",
    "* **Null Hypothesis (H0):** There is no difference in CR between Average Bidding and Maximum Bidding.\n",
    "* **Alternative Hypothesis (H1):** There is a significant difference in CR between Average Bidding and Maximum Bidding.\n",
    "\n",
    "Significance level is 0.05."
   ]
  },
  {
   "cell_type": "code",
   "execution_count": 28,
   "id": "2a8db4ed",
   "metadata": {
    "execution": {
     "iopub.execute_input": "2023-10-16T08:50:50.639174Z",
     "iopub.status.busy": "2023-10-16T08:50:50.637846Z",
     "iopub.status.idle": "2023-10-16T08:50:50.650171Z",
     "shell.execute_reply": "2023-10-16T08:50:50.649155Z"
    },
    "papermill": {
     "duration": 0.036223,
     "end_time": "2023-10-16T08:50:50.652445",
     "exception": false,
     "start_time": "2023-10-16T08:50:50.616222",
     "status": "completed"
    },
    "tags": []
   },
   "outputs": [
    {
     "name": "stdout",
     "output_type": "stream",
     "text": [
      "\n",
      "Mann Whitney U test for CR:\n",
      "\n",
      "\t- p value is 0.28378\n",
      "\n",
      "\t- U value is 523.0\n",
      "\n",
      "\n",
      "We fail to reject the null hypothesis, there is sufficient evidence to affirm that there is no statistically significant difference between Control and Test CR.\n"
     ]
    }
   ],
   "source": [
    "# Performn MWU test for CR metric\n",
    "mann_whitney_u(metric = 'CR', alpha = 0.05)"
   ]
  },
  {
   "cell_type": "markdown",
   "id": "317789c9",
   "metadata": {
    "papermill": {
     "duration": 0.02,
     "end_time": "2023-10-16T08:50:50.692907",
     "exception": false,
     "start_time": "2023-10-16T08:50:50.672907",
     "status": "completed"
    },
    "tags": []
   },
   "source": [
    "### CPC - Cost Per Click\n",
    "\n",
    "\n",
    "* **Null Hypothesis (H0):** There is no difference in CPC between Average Bidding and Maximum Bidding.\n",
    "* **Alternative Hypothesis (H1):** There is a significant difference in CPC between Average Bidding and Maximum Bidding.\n",
    "\n",
    "Significance level is 0.05."
   ]
  },
  {
   "cell_type": "code",
   "execution_count": 29,
   "id": "ee6b69a1",
   "metadata": {
    "execution": {
     "iopub.execute_input": "2023-10-16T08:50:50.736001Z",
     "iopub.status.busy": "2023-10-16T08:50:50.735610Z",
     "iopub.status.idle": "2023-10-16T08:50:50.746956Z",
     "shell.execute_reply": "2023-10-16T08:50:50.745727Z"
    },
    "papermill": {
     "duration": 0.036141,
     "end_time": "2023-10-16T08:50:50.749368",
     "exception": false,
     "start_time": "2023-10-16T08:50:50.713227",
     "status": "completed"
    },
    "tags": []
   },
   "outputs": [
    {
     "name": "stdout",
     "output_type": "stream",
     "text": [
      "\n",
      "Mann Whitney U test for CPC:\n",
      "\n",
      "\t- p value is 0.87663\n",
      "\n",
      "\t- U value is 461.0\n",
      "\n",
      "\n",
      "We fail to reject the null hypothesis, there is sufficient evidence to affirm that there is no statistically significant difference between Control and Test CPC.\n"
     ]
    }
   ],
   "source": [
    "# Performn MWU test for CPC metric\n",
    "mann_whitney_u(metric = 'CPC', alpha = 0.05)"
   ]
  },
  {
   "cell_type": "markdown",
   "id": "c5547f27",
   "metadata": {
    "papermill": {
     "duration": 0.020124,
     "end_time": "2023-10-16T08:50:50.791683",
     "exception": false,
     "start_time": "2023-10-16T08:50:50.771559",
     "status": "completed"
    },
    "tags": []
   },
   "source": [
    "### CPA - Cost Per Acquisition\n",
    "\n",
    "\n",
    "* **Null Hypothesis (H0):** There is no difference in CPA between Average Bidding and Maximum Bidding.\n",
    "* **Alternative Hypothesis (H1):** There is a significant difference in CPA between Average Bidding and Maximum Bidding.\n",
    "\n",
    "Significance level is 0.05."
   ]
  },
  {
   "cell_type": "code",
   "execution_count": 30,
   "id": "17afaa85",
   "metadata": {
    "execution": {
     "iopub.execute_input": "2023-10-16T08:50:50.834936Z",
     "iopub.status.busy": "2023-10-16T08:50:50.834216Z",
     "iopub.status.idle": "2023-10-16T08:50:50.844687Z",
     "shell.execute_reply": "2023-10-16T08:50:50.843098Z"
    },
    "papermill": {
     "duration": 0.035128,
     "end_time": "2023-10-16T08:50:50.847223",
     "exception": false,
     "start_time": "2023-10-16T08:50:50.812095",
     "status": "completed"
    },
    "tags": []
   },
   "outputs": [
    {
     "name": "stdout",
     "output_type": "stream",
     "text": [
      "\n",
      "Mann Whitney U test for CPA:\n",
      "\n",
      "\t- p value is 0.22823\n",
      "\n",
      "\t- U value is 368.0\n",
      "\n",
      "\n",
      "We fail to reject the null hypothesis, there is sufficient evidence to affirm that there is no statistically significant difference between Control and Test CPA.\n"
     ]
    }
   ],
   "source": [
    "# Performn MWU test for CPA metric\n",
    "mann_whitney_u(metric = 'CPA', alpha = 0.05)"
   ]
  },
  {
   "cell_type": "markdown",
   "id": "d2ce99fb",
   "metadata": {
    "papermill": {
     "duration": 0.020435,
     "end_time": "2023-10-16T08:50:50.887871",
     "exception": false,
     "start_time": "2023-10-16T08:50:50.867436",
     "status": "completed"
    },
    "tags": []
   },
   "source": [
    "# Summary and conclusions"
   ]
  },
  {
   "cell_type": "markdown",
   "id": "852f3e26",
   "metadata": {
    "papermill": {
     "duration": 0.02408,
     "end_time": "2023-10-16T08:50:50.932964",
     "exception": false,
     "start_time": "2023-10-16T08:50:50.908884",
     "status": "completed"
    },
    "tags": []
   },
   "source": [
    "The test results showed that the conversion rate (CR), cost per click (CPC) and cost per acquisition (CPA) have no statistically significant differences between the groups, so no conclusions could be drawn as to which bidding model is better based on these metrics.\n",
    "\n",
    "Nevertheless, the Mann-Whitney U test shows that there is statistically significant evidence to affirm that the two campaigns are different in terms of the CTR (Click-Through Rate) metric, which helps us to measure the effectiveness of ads in attracting clicks. In this context, the results of the analysis indicate that, on average, the experimental group obtains a significantly higher CTR than the control group, as it was evaluated by analyzing the bar charts. This can be considered as a statistically significant improvement in CTR for the experimental group compared to the control group.\n",
    "\n",
    "Despite this, it is important to remember that statistical significance does not necessarily imply practical importance. While the analysis may show statistically significant differences, it is also important to assess whether these differences are substantial from a practical perspective and whether they have significance for the business objectives. The difference between the averages of the two groups for this metric is approximately 5% (0.102423 (test campaign) - 0.050879 (control campaign)). If this change has a substantial effect on the business, it would be advisable to implement the experimental campaign (Average Bidding) definitively."
   ]
  }
 ],
 "metadata": {
  "kernelspec": {
   "display_name": "Python 3 (ipykernel)",
   "language": "python",
   "name": "python3"
  },
  "language_info": {
   "codemirror_mode": {
    "name": "ipython",
    "version": 3
   },
   "file_extension": ".py",
   "mimetype": "text/x-python",
   "name": "python",
   "nbconvert_exporter": "python",
   "pygments_lexer": "ipython3",
   "version": "3.9.7"
  },
  "papermill": {
   "default_parameters": {},
   "duration": 36.028253,
   "end_time": "2023-10-16T08:50:52.177387",
   "environment_variables": {},
   "exception": null,
   "input_path": "__notebook__.ipynb",
   "output_path": "__notebook__.ipynb",
   "parameters": {},
   "start_time": "2023-10-16T08:50:16.149134",
   "version": "2.4.0"
  }
 },
 "nbformat": 4,
 "nbformat_minor": 5
}
